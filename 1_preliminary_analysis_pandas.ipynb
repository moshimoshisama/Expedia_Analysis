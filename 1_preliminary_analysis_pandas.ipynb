{
  "nbformat": 4,
  "nbformat_minor": 0,
  "metadata": {
    "colab": {
      "name": "1_preliminary_analysis_pandas.ipynb",
      "provenance": [],
      "collapsed_sections": [],
      "authorship_tag": "ABX9TyOqmnbPyU3ezZH7yknfoscN",
      "include_colab_link": true
    },
    "kernelspec": {
      "name": "python3",
      "display_name": "Python 3"
    },
    "language_info": {
      "name": "python"
    }
  },
  "cells": [
    {
      "cell_type": "markdown",
      "metadata": {
        "id": "view-in-github",
        "colab_type": "text"
      },
      "source": [
        "<a href=\"https://colab.research.google.com/github/moshimoshisama/Expedia_Analysis/blob/main/1_preliminary_analysis_pandas.ipynb\" target=\"_parent\"><img src=\"https://colab.research.google.com/assets/colab-badge.svg\" alt=\"Open In Colab\"/></a>"
      ]
    },
    {
      "cell_type": "markdown",
      "source": [
        "This notebook read input datas as pandas dataframe, in order to have preliminary explore on the data. At the end of this notebook, I realized that regarding to ram limit, we can't perform same analysis for huge unbooked records. Therefore I decided to transfer everything into Pyspark."
      ],
      "metadata": {
        "id": "JXDcEzKNzpHa"
      }
    },
    {
      "cell_type": "code",
      "source": [
        ""
      ],
      "metadata": {
        "id": "TmKuLZkr0wwq"
      },
      "execution_count": null,
      "outputs": []
    },
    {
      "cell_type": "markdown",
      "source": [
        "# **Part1: data readin**"
      ],
      "metadata": {
        "id": "ZQ3_iiPMTYkZ"
      }
    },
    {
      "cell_type": "code",
      "metadata": {
        "id": "r7tOhwaoTTz-",
        "colab": {
          "base_uri": "https://localhost:8080/"
        },
        "outputId": "e8eadc0c-e584-4b5f-afd9-00c7a5e4e051"
      },
      "source": [
        "from google.colab import drive\n",
        "drive.mount('/content/drive')"
      ],
      "execution_count": null,
      "outputs": [
        {
          "output_type": "stream",
          "name": "stdout",
          "text": [
            "Mounted at /content/drive\n"
          ]
        }
      ]
    },
    {
      "cell_type": "code",
      "source": [
        "%cd /content/drive/MyDrive/expedia/source/"
      ],
      "metadata": {
        "colab": {
          "base_uri": "https://localhost:8080/"
        },
        "id": "6Ke1ewLVRoha",
        "outputId": "21998d30-9d3d-4e02-ee12-42e942b6cbae"
      },
      "execution_count": null,
      "outputs": [
        {
          "output_type": "stream",
          "name": "stdout",
          "text": [
            "/content/drive/MyDrive/expedia/source\n"
          ]
        }
      ]
    },
    {
      "cell_type": "code",
      "source": [
        "#!unzip \"/content/drive/MyDrive/expedia/source/main.zip\" -d \"/content/drive/MyDrive/expedia/source/\""
      ],
      "metadata": {
        "id": "emn2a9GYRzXQ"
      },
      "execution_count": null,
      "outputs": []
    },
    {
      "cell_type": "code",
      "source": [
        "import pandas as pd\n",
        "import numpy as np\n",
        "import seaborn as sb"
      ],
      "metadata": {
        "id": "2o6yIQnWJ5jz"
      },
      "execution_count": null,
      "outputs": []
    },
    {
      "cell_type": "code",
      "source": [
        "main = pd.read_csv(\"/content/drive/MyDrive/expedia/source/main.tsv\",sep=\"\\t\")"
      ],
      "metadata": {
        "id": "dA91PctlJ9lP"
      },
      "execution_count": null,
      "outputs": []
    },
    {
      "cell_type": "code",
      "source": [
        "# create extra columns for analysis\n",
        "date_list = ['search_timestamp','checkin_date','checkout_date']\n",
        "main['search_timestamp'] = pd.to_datetime(main['search_timestamp'], errors='coerce',yearfirst=True)\n",
        "main['year'] = main['search_timestamp'].dt.year\n",
        "main['month'] = main['search_timestamp'].dt.month\n",
        "\n",
        "main['checkin_date'] = pd.to_datetime(main['checkin_date'], errors='coerce',yearfirst=True)\n",
        "main['checkout_date'] = pd.to_datetime(main['checkout_date'], errors='coerce',yearfirst=True)\n",
        "# Length of stay\n",
        "main['len_of_stay'] = main['checkout_date'] - main['checkin_date']\n"
      ],
      "metadata": {
        "id": "ahK1O_c5K7gR"
      },
      "execution_count": null,
      "outputs": []
    },
    {
      "cell_type": "code",
      "source": [
        "# preview of data\n",
        "main.head()"
      ],
      "metadata": {
        "colab": {
          "base_uri": "https://localhost:8080/",
          "height": 313
        },
        "id": "u_7KmctaLAiu",
        "outputId": "1402c48b-9ba5-4e81-cf3e-23050e445f5e"
      },
      "execution_count": null,
      "outputs": [
        {
          "output_type": "execute_result",
          "data": {
            "text/html": [
              "<div>\n",
              "<style scoped>\n",
              "    .dataframe tbody tr th:only-of-type {\n",
              "        vertical-align: middle;\n",
              "    }\n",
              "\n",
              "    .dataframe tbody tr th {\n",
              "        vertical-align: top;\n",
              "    }\n",
              "\n",
              "    .dataframe thead th {\n",
              "        text-align: right;\n",
              "    }\n",
              "</style>\n",
              "<table border=\"1\" class=\"dataframe\">\n",
              "  <thead>\n",
              "    <tr style=\"text-align: right;\">\n",
              "      <th></th>\n",
              "      <th>user_id</th>\n",
              "      <th>search_id</th>\n",
              "      <th>search_timestamp</th>\n",
              "      <th>point_of_sale</th>\n",
              "      <th>geo_location_country</th>\n",
              "      <th>is_mobile</th>\n",
              "      <th>destination_id</th>\n",
              "      <th>checkin_date</th>\n",
              "      <th>checkout_date</th>\n",
              "      <th>adult_count</th>\n",
              "      <th>child_count</th>\n",
              "      <th>infant_count</th>\n",
              "      <th>room_count</th>\n",
              "      <th>sort_type</th>\n",
              "      <th>applied_filters</th>\n",
              "      <th>impressions</th>\n",
              "      <th>year</th>\n",
              "      <th>month</th>\n",
              "      <th>len_of_stay</th>\n",
              "    </tr>\n",
              "  </thead>\n",
              "  <tbody>\n",
              "    <tr>\n",
              "      <th>0</th>\n",
              "      <td>001bbff3030c95740d4c55bb72e823e9</td>\n",
              "      <td>541933a931216d270f53277c2de068d0</td>\n",
              "      <td>2021-07-02 19:38:00+00:00</td>\n",
              "      <td>2</td>\n",
              "      <td>1</td>\n",
              "      <td>False</td>\n",
              "      <td>898</td>\n",
              "      <td>2021-07-04</td>\n",
              "      <td>2021-07-05</td>\n",
              "      <td>2</td>\n",
              "      <td>0</td>\n",
              "      <td>0</td>\n",
              "      <td>1</td>\n",
              "      <td>RECOMMENDED</td>\n",
              "      <td>NaN</td>\n",
              "      <td>1,5695234,1,4.0,250.0,2.0,1,0,3,0,0|2,1734546,...</td>\n",
              "      <td>2021</td>\n",
              "      <td>7</td>\n",
              "      <td>1 days</td>\n",
              "    </tr>\n",
              "    <tr>\n",
              "      <th>1</th>\n",
              "      <td>002ba2a7c74dbffc32e4568af230d49a</td>\n",
              "      <td>25b8ebecb15b8f3edb5eed36a1f699b4</td>\n",
              "      <td>2021-06-23 03:39:00+00:00</td>\n",
              "      <td>1</td>\n",
              "      <td>1</td>\n",
              "      <td>False</td>\n",
              "      <td>50</td>\n",
              "      <td>2021-09-10</td>\n",
              "      <td>2021-09-14</td>\n",
              "      <td>2</td>\n",
              "      <td>0</td>\n",
              "      <td>0</td>\n",
              "      <td>1</td>\n",
              "      <td>PRICE ASCENDING</td>\n",
              "      <td>NaN</td>\n",
              "      <td>1,5151135,0,null,null,null,1,1,1,0,0</td>\n",
              "      <td>2021</td>\n",
              "      <td>6</td>\n",
              "      <td>4 days</td>\n",
              "    </tr>\n",
              "    <tr>\n",
              "      <th>2</th>\n",
              "      <td>00c5152ed6ef5b937e8320a260bde084</td>\n",
              "      <td>349c86ff1be41553878e01988ca209d1</td>\n",
              "      <td>2021-06-10 00:08:00+00:00</td>\n",
              "      <td>1</td>\n",
              "      <td>1</td>\n",
              "      <td>False</td>\n",
              "      <td>49</td>\n",
              "      <td>2021-07-07</td>\n",
              "      <td>2021-07-12</td>\n",
              "      <td>2</td>\n",
              "      <td>0</td>\n",
              "      <td>0</td>\n",
              "      <td>1</td>\n",
              "      <td>RECOMMENDED</td>\n",
              "      <td>NaN</td>\n",
              "      <td>1,1624072,0,4.0,1250.0,4.0,1,1,2,1,0|2,5170759...</td>\n",
              "      <td>2021</td>\n",
              "      <td>6</td>\n",
              "      <td>5 days</td>\n",
              "    </tr>\n",
              "    <tr>\n",
              "      <th>3</th>\n",
              "      <td>00d5e2bca7962f67d5695e7e7b92feb8</td>\n",
              "      <td>d3b41f5d906b3f5e56bcafd4a7428634</td>\n",
              "      <td>2021-07-16 01:08:00+00:00</td>\n",
              "      <td>12</td>\n",
              "      <td>1</td>\n",
              "      <td>False</td>\n",
              "      <td>13</td>\n",
              "      <td>2021-08-25</td>\n",
              "      <td>2021-08-28</td>\n",
              "      <td>2</td>\n",
              "      <td>0</td>\n",
              "      <td>0</td>\n",
              "      <td>1</td>\n",
              "      <td>RECOMMENDED</td>\n",
              "      <td>NaN</td>\n",
              "      <td>1,2391667,1,4.0,1625.0,5.0,0,0,5,0,0|2,4930059...</td>\n",
              "      <td>2021</td>\n",
              "      <td>7</td>\n",
              "      <td>3 days</td>\n",
              "    </tr>\n",
              "    <tr>\n",
              "      <th>4</th>\n",
              "      <td>013f92616fe583c4ba0c3919b69cf3d9</td>\n",
              "      <td>a359fd984e5ae5be64af5226dd1e9fe2</td>\n",
              "      <td>2021-07-07 20:49:00+00:00</td>\n",
              "      <td>1</td>\n",
              "      <td>1</td>\n",
              "      <td>False</td>\n",
              "      <td>206</td>\n",
              "      <td>2021-08-30</td>\n",
              "      <td>2021-09-04</td>\n",
              "      <td>1</td>\n",
              "      <td>0</td>\n",
              "      <td>0</td>\n",
              "      <td>1</td>\n",
              "      <td>RECOMMENDED</td>\n",
              "      <td>VIPONLY:FALSE</td>\n",
              "      <td>1,6714720,1,5.0,225.0,3.0,1,0,5,0,0|2,5593294,...</td>\n",
              "      <td>2021</td>\n",
              "      <td>7</td>\n",
              "      <td>5 days</td>\n",
              "    </tr>\n",
              "  </tbody>\n",
              "</table>\n",
              "</div>"
            ],
            "text/plain": [
              "                            user_id  ... len_of_stay\n",
              "0  001bbff3030c95740d4c55bb72e823e9  ...      1 days\n",
              "1  002ba2a7c74dbffc32e4568af230d49a  ...      4 days\n",
              "2  00c5152ed6ef5b937e8320a260bde084  ...      5 days\n",
              "3  00d5e2bca7962f67d5695e7e7b92feb8  ...      3 days\n",
              "4  013f92616fe583c4ba0c3919b69cf3d9  ...      5 days\n",
              "\n",
              "[5 rows x 19 columns]"
            ]
          },
          "metadata": {},
          "execution_count": 9
        }
      ]
    },
    {
      "cell_type": "markdown",
      "source": [
        "# **Part2: Explore Data by finding the summaries**"
      ],
      "metadata": {
        "id": "INjVU_nfQzhB"
      }
    },
    {
      "cell_type": "code",
      "source": [
        "# Summary of number variables\n",
        "print (\"Number Variables\")\n",
        "main.describe(include=['number'])\n",
        "\n",
        "'''\n",
        "out of all research (mean) :\n",
        "adult_count: 2 \n",
        "child_count:0.25 \n",
        "infant_count:0.002 \n",
        "length of stay: 3\n",
        "'''"
      ],
      "metadata": {
        "colab": {
          "base_uri": "https://localhost:8080/",
          "height": 318
        },
        "id": "NB7ObpPGLRPl",
        "outputId": "67778c80-3ca8-4a35-e6bd-eb862f63117a"
      },
      "execution_count": null,
      "outputs": [
        {
          "output_type": "stream",
          "name": "stdout",
          "text": [
            "Number Variables\n"
          ]
        },
        {
          "output_type": "execute_result",
          "data": {
            "text/html": [
              "<div>\n",
              "<style scoped>\n",
              "    .dataframe tbody tr th:only-of-type {\n",
              "        vertical-align: middle;\n",
              "    }\n",
              "\n",
              "    .dataframe tbody tr th {\n",
              "        vertical-align: top;\n",
              "    }\n",
              "\n",
              "    .dataframe thead th {\n",
              "        text-align: right;\n",
              "    }\n",
              "</style>\n",
              "<table border=\"1\" class=\"dataframe\">\n",
              "  <thead>\n",
              "    <tr style=\"text-align: right;\">\n",
              "      <th></th>\n",
              "      <th>point_of_sale</th>\n",
              "      <th>geo_location_country</th>\n",
              "      <th>destination_id</th>\n",
              "      <th>adult_count</th>\n",
              "      <th>child_count</th>\n",
              "      <th>infant_count</th>\n",
              "      <th>room_count</th>\n",
              "      <th>year</th>\n",
              "      <th>month</th>\n",
              "      <th>len_of_stay</th>\n",
              "    </tr>\n",
              "  </thead>\n",
              "  <tbody>\n",
              "    <tr>\n",
              "      <th>count</th>\n",
              "      <td>2.577809e+06</td>\n",
              "      <td>2.577809e+06</td>\n",
              "      <td>2.577809e+06</td>\n",
              "      <td>2.577809e+06</td>\n",
              "      <td>2.577809e+06</td>\n",
              "      <td>2.577809e+06</td>\n",
              "      <td>2.577809e+06</td>\n",
              "      <td>2577809.0</td>\n",
              "      <td>2.577809e+06</td>\n",
              "      <td>2577608</td>\n",
              "    </tr>\n",
              "    <tr>\n",
              "      <th>mean</th>\n",
              "      <td>4.618789e+00</td>\n",
              "      <td>4.344100e+00</td>\n",
              "      <td>3.832981e+03</td>\n",
              "      <td>2.042396e+00</td>\n",
              "      <td>2.582461e-01</td>\n",
              "      <td>2.262774e-03</td>\n",
              "      <td>1.007956e+00</td>\n",
              "      <td>2021.0</td>\n",
              "      <td>6.331115e+00</td>\n",
              "      <td>3 days 06:38:12.964952616</td>\n",
              "    </tr>\n",
              "    <tr>\n",
              "      <th>std</th>\n",
              "      <td>8.851569e+00</td>\n",
              "      <td>1.126134e+01</td>\n",
              "      <td>9.376390e+03</td>\n",
              "      <td>9.691320e-01</td>\n",
              "      <td>7.359578e-01</td>\n",
              "      <td>4.885921e-02</td>\n",
              "      <td>9.953489e-02</td>\n",
              "      <td>0.0</td>\n",
              "      <td>4.706143e-01</td>\n",
              "      <td>3 days 23:35:38.711601209</td>\n",
              "    </tr>\n",
              "    <tr>\n",
              "      <th>min</th>\n",
              "      <td>1.000000e+00</td>\n",
              "      <td>1.000000e+00</td>\n",
              "      <td>1.000000e+00</td>\n",
              "      <td>0.000000e+00</td>\n",
              "      <td>0.000000e+00</td>\n",
              "      <td>0.000000e+00</td>\n",
              "      <td>1.000000e+00</td>\n",
              "      <td>2021.0</td>\n",
              "      <td>6.000000e+00</td>\n",
              "      <td>0 days 00:00:00</td>\n",
              "    </tr>\n",
              "    <tr>\n",
              "      <th>25%</th>\n",
              "      <td>1.000000e+00</td>\n",
              "      <td>1.000000e+00</td>\n",
              "      <td>6.900000e+01</td>\n",
              "      <td>2.000000e+00</td>\n",
              "      <td>0.000000e+00</td>\n",
              "      <td>0.000000e+00</td>\n",
              "      <td>1.000000e+00</td>\n",
              "      <td>2021.0</td>\n",
              "      <td>6.000000e+00</td>\n",
              "      <td>1 days 00:00:00</td>\n",
              "    </tr>\n",
              "    <tr>\n",
              "      <th>50%</th>\n",
              "      <td>1.000000e+00</td>\n",
              "      <td>1.000000e+00</td>\n",
              "      <td>4.510000e+02</td>\n",
              "      <td>2.000000e+00</td>\n",
              "      <td>0.000000e+00</td>\n",
              "      <td>0.000000e+00</td>\n",
              "      <td>1.000000e+00</td>\n",
              "      <td>2021.0</td>\n",
              "      <td>6.000000e+00</td>\n",
              "      <td>2 days 00:00:00</td>\n",
              "    </tr>\n",
              "    <tr>\n",
              "      <th>75%</th>\n",
              "      <td>4.000000e+00</td>\n",
              "      <td>2.000000e+00</td>\n",
              "      <td>2.611000e+03</td>\n",
              "      <td>2.000000e+00</td>\n",
              "      <td>0.000000e+00</td>\n",
              "      <td>0.000000e+00</td>\n",
              "      <td>1.000000e+00</td>\n",
              "      <td>2021.0</td>\n",
              "      <td>7.000000e+00</td>\n",
              "      <td>4 days 00:00:00</td>\n",
              "    </tr>\n",
              "    <tr>\n",
              "      <th>max</th>\n",
              "      <td>1.790000e+02</td>\n",
              "      <td>2.200000e+02</td>\n",
              "      <td>7.102600e+04</td>\n",
              "      <td>7.000000e+01</td>\n",
              "      <td>2.300000e+01</td>\n",
              "      <td>3.000000e+00</td>\n",
              "      <td>6.000000e+00</td>\n",
              "      <td>2021.0</td>\n",
              "      <td>7.000000e+00</td>\n",
              "      <td>4021 days 00:00:00</td>\n",
              "    </tr>\n",
              "  </tbody>\n",
              "</table>\n",
              "</div>"
            ],
            "text/plain": [
              "       point_of_sale  ...                len_of_stay\n",
              "count   2.577809e+06  ...                    2577608\n",
              "mean    4.618789e+00  ...  3 days 06:38:12.964952616\n",
              "std     8.851569e+00  ...  3 days 23:35:38.711601209\n",
              "min     1.000000e+00  ...            0 days 00:00:00\n",
              "25%     1.000000e+00  ...            1 days 00:00:00\n",
              "50%     1.000000e+00  ...            2 days 00:00:00\n",
              "75%     4.000000e+00  ...            4 days 00:00:00\n",
              "max     1.790000e+02  ...         4021 days 00:00:00\n",
              "\n",
              "[8 rows x 10 columns]"
            ]
          },
          "metadata": {},
          "execution_count": 10
        }
      ]
    },
    {
      "cell_type": "code",
      "source": [
        "# Summary of number variables\n",
        "print (\"DateTime Variables\")\n",
        "main.describe(include=['datetime'])\n"
      ],
      "metadata": {
        "colab": {
          "base_uri": "https://localhost:8080/",
          "height": 344
        },
        "id": "feLYRn0nLUdz",
        "outputId": "20585eef-e416-4714-8317-4c9c6b49c281"
      },
      "execution_count": null,
      "outputs": [
        {
          "output_type": "stream",
          "name": "stdout",
          "text": [
            "DateTime Variables\n"
          ]
        },
        {
          "output_type": "stream",
          "name": "stderr",
          "text": [
            "/usr/local/lib/python3.7/dist-packages/ipykernel_launcher.py:6: FutureWarning: Treating datetime data as categorical rather than numeric in `.describe` is deprecated and will be removed in a future version of pandas. Specify `datetime_is_numeric=True` to silence this warning and adopt the future behavior now.\n",
            "  \n",
            "/usr/local/lib/python3.7/dist-packages/ipykernel_launcher.py:6: FutureWarning: Treating datetime data as categorical rather than numeric in `.describe` is deprecated and will be removed in a future version of pandas. Specify `datetime_is_numeric=True` to silence this warning and adopt the future behavior now.\n",
            "  \n"
          ]
        },
        {
          "output_type": "execute_result",
          "data": {
            "text/html": [
              "<div>\n",
              "<style scoped>\n",
              "    .dataframe tbody tr th:only-of-type {\n",
              "        vertical-align: middle;\n",
              "    }\n",
              "\n",
              "    .dataframe tbody tr th {\n",
              "        vertical-align: top;\n",
              "    }\n",
              "\n",
              "    .dataframe thead th {\n",
              "        text-align: right;\n",
              "    }\n",
              "</style>\n",
              "<table border=\"1\" class=\"dataframe\">\n",
              "  <thead>\n",
              "    <tr style=\"text-align: right;\">\n",
              "      <th></th>\n",
              "      <th>checkin_date</th>\n",
              "      <th>checkout_date</th>\n",
              "    </tr>\n",
              "  </thead>\n",
              "  <tbody>\n",
              "    <tr>\n",
              "      <th>count</th>\n",
              "      <td>2577608</td>\n",
              "      <td>2577608</td>\n",
              "    </tr>\n",
              "    <tr>\n",
              "      <th>unique</th>\n",
              "      <td>552</td>\n",
              "      <td>558</td>\n",
              "    </tr>\n",
              "    <tr>\n",
              "      <th>top</th>\n",
              "      <td>2021-07-02 00:00:00</td>\n",
              "      <td>2021-07-05 00:00:00</td>\n",
              "    </tr>\n",
              "    <tr>\n",
              "      <th>freq</th>\n",
              "      <td>62423</td>\n",
              "      <td>60387</td>\n",
              "    </tr>\n",
              "    <tr>\n",
              "      <th>first</th>\n",
              "      <td>2019-11-04 00:00:00</td>\n",
              "      <td>2019-11-08 00:00:00</td>\n",
              "    </tr>\n",
              "    <tr>\n",
              "      <th>last</th>\n",
              "      <td>2022-12-07 00:00:00</td>\n",
              "      <td>2032-07-20 00:00:00</td>\n",
              "    </tr>\n",
              "  </tbody>\n",
              "</table>\n",
              "</div>"
            ],
            "text/plain": [
              "               checkin_date        checkout_date\n",
              "count               2577608              2577608\n",
              "unique                  552                  558\n",
              "top     2021-07-02 00:00:00  2021-07-05 00:00:00\n",
              "freq                  62423                60387\n",
              "first   2019-11-04 00:00:00  2019-11-08 00:00:00\n",
              "last    2022-12-07 00:00:00  2032-07-20 00:00:00"
            ]
          },
          "metadata": {},
          "execution_count": 11
        }
      ]
    },
    {
      "cell_type": "code",
      "source": [
        "# Most frequently occurance of each variable (mode)\n",
        "main.mode()\n",
        "\n",
        "'''\n",
        "Most frequently occurace: \n",
        "Top checkin date:\t\t 2021-07-02\n",
        "Top checkout date:\t\t 2021-07-05\n",
        "is_mobile:\t\t\t\t false\n",
        "adult:\t\t\t\t\t 2\n",
        "child:\t\t\t\t\t 0\n",
        "infant:\t\t\t\t\t 0\n",
        "room_count :\t\t\t 1\n",
        "sort_type:\t\t\t\t Recommended\n",
        "length of stay:\t\t\t 1 day\n",
        "'''\n"
      ],
      "metadata": {
        "colab": {
          "base_uri": "https://localhost:8080/",
          "height": 118
        },
        "id": "popynvGqLZsb",
        "outputId": "ff17a753-996b-4c59-bf18-92f324cd6545"
      },
      "execution_count": null,
      "outputs": [
        {
          "output_type": "execute_result",
          "data": {
            "text/html": [
              "<div>\n",
              "<style scoped>\n",
              "    .dataframe tbody tr th:only-of-type {\n",
              "        vertical-align: middle;\n",
              "    }\n",
              "\n",
              "    .dataframe tbody tr th {\n",
              "        vertical-align: top;\n",
              "    }\n",
              "\n",
              "    .dataframe thead th {\n",
              "        text-align: right;\n",
              "    }\n",
              "</style>\n",
              "<table border=\"1\" class=\"dataframe\">\n",
              "  <thead>\n",
              "    <tr style=\"text-align: right;\">\n",
              "      <th></th>\n",
              "      <th>user_id</th>\n",
              "      <th>search_id</th>\n",
              "      <th>search_timestamp</th>\n",
              "      <th>point_of_sale</th>\n",
              "      <th>geo_location_country</th>\n",
              "      <th>is_mobile</th>\n",
              "      <th>destination_id</th>\n",
              "      <th>checkin_date</th>\n",
              "      <th>checkout_date</th>\n",
              "      <th>adult_count</th>\n",
              "      <th>child_count</th>\n",
              "      <th>infant_count</th>\n",
              "      <th>room_count</th>\n",
              "      <th>sort_type</th>\n",
              "      <th>applied_filters</th>\n",
              "      <th>impressions</th>\n",
              "      <th>year</th>\n",
              "      <th>month</th>\n",
              "      <th>len_of_stay</th>\n",
              "    </tr>\n",
              "  </thead>\n",
              "  <tbody>\n",
              "    <tr>\n",
              "      <th>0</th>\n",
              "      <td>b171f2478d13920969b92b430f8595ac</td>\n",
              "      <td>2dffe849a2e45536cd71f97d235586c0</td>\n",
              "      <td>2021-06-15 01:47:00</td>\n",
              "      <td>1</td>\n",
              "      <td>1</td>\n",
              "      <td>False</td>\n",
              "      <td>2</td>\n",
              "      <td>2021-07-02</td>\n",
              "      <td>2021-07-05</td>\n",
              "      <td>2</td>\n",
              "      <td>0</td>\n",
              "      <td>0</td>\n",
              "      <td>1</td>\n",
              "      <td>RECOMMENDED</td>\n",
              "      <td>VIPONLY:FALSE</td>\n",
              "      <td>1,4853142,0,null,null,null,1,1,1,0,0</td>\n",
              "      <td>2021</td>\n",
              "      <td>6</td>\n",
              "      <td>1 days</td>\n",
              "    </tr>\n",
              "  </tbody>\n",
              "</table>\n",
              "</div>"
            ],
            "text/plain": [
              "                            user_id  ... len_of_stay\n",
              "0  b171f2478d13920969b92b430f8595ac  ...      1 days\n",
              "\n",
              "[1 rows x 19 columns]"
            ]
          },
          "metadata": {},
          "execution_count": 12
        }
      ]
    },
    {
      "cell_type": "markdown",
      "source": [
        "# **Part3: Filter out the booked result and merge with amenities to see the percentage of availability of each amenity.**"
      ],
      "metadata": {
        "id": "Uk3A5sU7cyIV"
      }
    },
    {
      "cell_type": "code",
      "source": [
        "impr = main[['user_id','search_id','impressions']]"
      ],
      "metadata": {
        "id": "COsCZcUCxvg_"
      },
      "execution_count": null,
      "outputs": []
    },
    {
      "cell_type": "code",
      "source": [
        "user_id = impr['user_id'].tolist()\n",
        "search_id = impr['search_id'].tolist()\n",
        "impressions = impr['impressions'].tolist()"
      ],
      "metadata": {
        "id": "a1cBfvlWxwHI"
      },
      "execution_count": null,
      "outputs": []
    },
    {
      "cell_type": "code",
      "source": [
        "temp_impression = []\n",
        "for i in range(0, len(user_id)):\n",
        "    temp_impr = impressions[i]\n",
        "    temp_impr = temp_impr.split('|')\n",
        "    for k in range(0, len(temp_impr)):\n",
        "        temp_attr = temp_impr[k].split(',')\n",
        "        temp_list = [user_id[0],search_id[0]]\n",
        "        for j in range(0,len(temp_attr)):\n",
        "            temp_list.append(temp_attr[j])\n",
        "        temp_impression.append(temp_list)"
      ],
      "metadata": {
        "id": "SnTQeyVHwyD1"
      },
      "execution_count": null,
      "outputs": []
    },
    {
      "cell_type": "code",
      "source": [
        "impr_col = ['user_id',\n",
        "            'search_id',\n",
        "            'rank',\n",
        "            'prop_id',\n",
        "            'is_travel_ad',\n",
        "            'review_rating',\n",
        "            'review_count',\n",
        "            'star_rating',\n",
        "            'is_free_cancellation',\n",
        "            'is_drr',\n",
        "            'price_bucket',\n",
        "            'num_clicks',\n",
        "            'is_trans']\n",
        "\n",
        "impr_df = pd.DataFrame(temp_impression, columns = impr_col)"
      ],
      "metadata": {
        "id": "Jw6eOT0dxDzY"
      },
      "execution_count": null,
      "outputs": []
    },
    {
      "cell_type": "code",
      "source": [
        "# filter out transaction records\n",
        "impr_df = impr_df[impr_df.is_trans==1]"
      ],
      "metadata": {
        "id": "RO0sllDPxLoM"
      },
      "execution_count": null,
      "outputs": []
    },
    {
      "cell_type": "code",
      "source": [
        "temp_impression[:10]"
      ],
      "metadata": {
        "colab": {
          "base_uri": "https://localhost:8080/"
        },
        "id": "pINU2cD6s7ju",
        "outputId": "5a004226-6019-41b3-9f4f-b0739edf35ca"
      },
      "execution_count": null,
      "outputs": [
        {
          "output_type": "execute_result",
          "data": {
            "text/plain": [
              "[['4', '4189323', '0', '4.0', '1025.0', '3.0', '0', '1', '4', '3', '1'],\n",
              " ['1', '1656386', '0', '4.0', '1025.0', '3.0', '0', '0', '2', '1', '1'],\n",
              " ['1', '6172537', '0', '4.0', '1025.0', '4.0', '1', '1', '3', '1', '1'],\n",
              " ['1', '6061219', '0', '4.0', '9975.0', '4.0', '1', '1', '1', '1', '1'],\n",
              " ['16', '628627', '0', '5.0', '1025.0', '3.0', '0', '0', '5', '0', '1'],\n",
              " ['8', '6525789', '0', '4.0', '1025.0', '3.0', '1', '0', '1', '1', '1'],\n",
              " ['12', '4979082', '0', '4.0', '1000.0', '3.0', '1', '0', '1', '1', '1'],\n",
              " ['2', '159898', '0', '4.0', '1025.0', '3.0', '1', '1', '1', '1', '1'],\n",
              " ['3', '3061517', '0', '4.0', '1475.0', '3.0', '1', '1', '1', '1', '1'],\n",
              " ['10', '338525', '0', '4.0', '175.0', '3.0', '1', '1', '4', '1', '1']]"
            ]
          },
          "metadata": {},
          "execution_count": 25
        }
      ]
    },
    {
      "cell_type": "code",
      "source": [
        "# preview of impression data\n",
        "impr_df.head()"
      ],
      "metadata": {
        "colab": {
          "base_uri": "https://localhost:8080/",
          "height": 206
        },
        "id": "3qqIEmE1tPBy",
        "outputId": "f2cfd74a-215f-4f42-fb7f-c29d9473934d"
      },
      "execution_count": null,
      "outputs": [
        {
          "output_type": "execute_result",
          "data": {
            "text/html": [
              "<div>\n",
              "<style scoped>\n",
              "    .dataframe tbody tr th:only-of-type {\n",
              "        vertical-align: middle;\n",
              "    }\n",
              "\n",
              "    .dataframe tbody tr th {\n",
              "        vertical-align: top;\n",
              "    }\n",
              "\n",
              "    .dataframe thead th {\n",
              "        text-align: right;\n",
              "    }\n",
              "</style>\n",
              "<table border=\"1\" class=\"dataframe\">\n",
              "  <thead>\n",
              "    <tr style=\"text-align: right;\">\n",
              "      <th></th>\n",
              "      <th>rank</th>\n",
              "      <th>prop_id</th>\n",
              "      <th>is_travel_ad</th>\n",
              "      <th>review_rating</th>\n",
              "      <th>review_count</th>\n",
              "      <th>star_rating</th>\n",
              "      <th>is_free_cancellation</th>\n",
              "      <th>is_drr</th>\n",
              "      <th>price_bucket</th>\n",
              "      <th>num_clicks</th>\n",
              "      <th>is_trans</th>\n",
              "    </tr>\n",
              "  </thead>\n",
              "  <tbody>\n",
              "    <tr>\n",
              "      <th>0</th>\n",
              "      <td>4</td>\n",
              "      <td>4189323</td>\n",
              "      <td>0</td>\n",
              "      <td>4.0</td>\n",
              "      <td>1025.0</td>\n",
              "      <td>3.0</td>\n",
              "      <td>0</td>\n",
              "      <td>1</td>\n",
              "      <td>4</td>\n",
              "      <td>3</td>\n",
              "      <td>1</td>\n",
              "    </tr>\n",
              "    <tr>\n",
              "      <th>1</th>\n",
              "      <td>1</td>\n",
              "      <td>1656386</td>\n",
              "      <td>0</td>\n",
              "      <td>4.0</td>\n",
              "      <td>1025.0</td>\n",
              "      <td>3.0</td>\n",
              "      <td>0</td>\n",
              "      <td>0</td>\n",
              "      <td>2</td>\n",
              "      <td>1</td>\n",
              "      <td>1</td>\n",
              "    </tr>\n",
              "    <tr>\n",
              "      <th>2</th>\n",
              "      <td>1</td>\n",
              "      <td>6172537</td>\n",
              "      <td>0</td>\n",
              "      <td>4.0</td>\n",
              "      <td>1025.0</td>\n",
              "      <td>4.0</td>\n",
              "      <td>1</td>\n",
              "      <td>1</td>\n",
              "      <td>3</td>\n",
              "      <td>1</td>\n",
              "      <td>1</td>\n",
              "    </tr>\n",
              "    <tr>\n",
              "      <th>3</th>\n",
              "      <td>1</td>\n",
              "      <td>6061219</td>\n",
              "      <td>0</td>\n",
              "      <td>4.0</td>\n",
              "      <td>9975.0</td>\n",
              "      <td>4.0</td>\n",
              "      <td>1</td>\n",
              "      <td>1</td>\n",
              "      <td>1</td>\n",
              "      <td>1</td>\n",
              "      <td>1</td>\n",
              "    </tr>\n",
              "    <tr>\n",
              "      <th>4</th>\n",
              "      <td>16</td>\n",
              "      <td>628627</td>\n",
              "      <td>0</td>\n",
              "      <td>5.0</td>\n",
              "      <td>1025.0</td>\n",
              "      <td>3.0</td>\n",
              "      <td>0</td>\n",
              "      <td>0</td>\n",
              "      <td>5</td>\n",
              "      <td>0</td>\n",
              "      <td>1</td>\n",
              "    </tr>\n",
              "  </tbody>\n",
              "</table>\n",
              "</div>"
            ],
            "text/plain": [
              "  rank  prop_id is_travel_ad  ... price_bucket num_clicks is_trans\n",
              "0    4  4189323            0  ...            4          3        1\n",
              "1    1  1656386            0  ...            2          1        1\n",
              "2    1  6172537            0  ...            3          1        1\n",
              "3    1  6061219            0  ...            1          1        1\n",
              "4   16   628627            0  ...            5          0        1\n",
              "\n",
              "[5 rows x 11 columns]"
            ]
          },
          "metadata": {},
          "execution_count": 27
        }
      ]
    },
    {
      "cell_type": "code",
      "source": [
        "amenities = pd.read_csv(\"amenities.tsv\",sep=\"\\t\")"
      ],
      "metadata": {
        "id": "2rMPFhRstUjS"
      },
      "execution_count": null,
      "outputs": []
    },
    {
      "cell_type": "code",
      "source": [
        "amenities_bool_list = ['AirConditioning',\n",
        "                       'AirportTransfer',\n",
        "                       'Bar',\n",
        "                       'FreeAirportTransportation',\n",
        "                       'FreeBreakfast',\n",
        "                       'FreeParking',\n",
        "                       'FreeWiFi',\n",
        "                       'Gym',\n",
        "                       'HighSpeedInternet',\n",
        "                       'HotTub',\n",
        "                       'LaundryFacility',\n",
        "                       'Parking',\n",
        "                       'PetsAllowed',\n",
        "                       'PrivatePool',\n",
        "                       'SpaServices',\n",
        "                       'SwimmingPool',\n",
        "                       'WasherDryer',\n",
        "                       'WiFi']\n",
        "\n",
        "amenities[amenities_bool_list] = amenities[amenities_bool_list].astype(np.bool)"
      ],
      "metadata": {
        "id": "DIBI6K0Ot0SR"
      },
      "execution_count": null,
      "outputs": []
    },
    {
      "cell_type": "code",
      "source": [
        "amenities.head()"
      ],
      "metadata": {
        "colab": {
          "base_uri": "https://localhost:8080/",
          "height": 226
        },
        "id": "8UbtEFojwGkV",
        "outputId": "40746ba5-8228-4480-b507-57c1b0bc97d2"
      },
      "execution_count": null,
      "outputs": [
        {
          "output_type": "execute_result",
          "data": {
            "text/html": [
              "<div>\n",
              "<style scoped>\n",
              "    .dataframe tbody tr th:only-of-type {\n",
              "        vertical-align: middle;\n",
              "    }\n",
              "\n",
              "    .dataframe tbody tr th {\n",
              "        vertical-align: top;\n",
              "    }\n",
              "\n",
              "    .dataframe thead th {\n",
              "        text-align: right;\n",
              "    }\n",
              "</style>\n",
              "<table border=\"1\" class=\"dataframe\">\n",
              "  <thead>\n",
              "    <tr style=\"text-align: right;\">\n",
              "      <th></th>\n",
              "      <th>prop_id</th>\n",
              "      <th>AirConditioning</th>\n",
              "      <th>AirportTransfer</th>\n",
              "      <th>Bar</th>\n",
              "      <th>FreeAirportTransportation</th>\n",
              "      <th>FreeBreakfast</th>\n",
              "      <th>FreeParking</th>\n",
              "      <th>FreeWiFi</th>\n",
              "      <th>Gym</th>\n",
              "      <th>HighSpeedInternet</th>\n",
              "      <th>HotTub</th>\n",
              "      <th>LaundryFacility</th>\n",
              "      <th>Parking</th>\n",
              "      <th>PetsAllowed</th>\n",
              "      <th>PrivatePool</th>\n",
              "      <th>SpaServices</th>\n",
              "      <th>SwimmingPool</th>\n",
              "      <th>WasherDryer</th>\n",
              "      <th>WiFi</th>\n",
              "    </tr>\n",
              "  </thead>\n",
              "  <tbody>\n",
              "    <tr>\n",
              "      <th>0</th>\n",
              "      <td>3</td>\n",
              "      <td>False</td>\n",
              "      <td>False</td>\n",
              "      <td>False</td>\n",
              "      <td>False</td>\n",
              "      <td>False</td>\n",
              "      <td>True</td>\n",
              "      <td>True</td>\n",
              "      <td>False</td>\n",
              "      <td>False</td>\n",
              "      <td>False</td>\n",
              "      <td>False</td>\n",
              "      <td>False</td>\n",
              "      <td>False</td>\n",
              "      <td>False</td>\n",
              "      <td>False</td>\n",
              "      <td>False</td>\n",
              "      <td>False</td>\n",
              "      <td>False</td>\n",
              "    </tr>\n",
              "    <tr>\n",
              "      <th>1</th>\n",
              "      <td>5</td>\n",
              "      <td>False</td>\n",
              "      <td>False</td>\n",
              "      <td>False</td>\n",
              "      <td>False</td>\n",
              "      <td>False</td>\n",
              "      <td>False</td>\n",
              "      <td>False</td>\n",
              "      <td>False</td>\n",
              "      <td>False</td>\n",
              "      <td>False</td>\n",
              "      <td>False</td>\n",
              "      <td>False</td>\n",
              "      <td>True</td>\n",
              "      <td>False</td>\n",
              "      <td>False</td>\n",
              "      <td>True</td>\n",
              "      <td>False</td>\n",
              "      <td>False</td>\n",
              "    </tr>\n",
              "    <tr>\n",
              "      <th>2</th>\n",
              "      <td>11</td>\n",
              "      <td>False</td>\n",
              "      <td>False</td>\n",
              "      <td>False</td>\n",
              "      <td>False</td>\n",
              "      <td>False</td>\n",
              "      <td>False</td>\n",
              "      <td>False</td>\n",
              "      <td>False</td>\n",
              "      <td>False</td>\n",
              "      <td>False</td>\n",
              "      <td>False</td>\n",
              "      <td>False</td>\n",
              "      <td>True</td>\n",
              "      <td>False</td>\n",
              "      <td>False</td>\n",
              "      <td>False</td>\n",
              "      <td>False</td>\n",
              "      <td>False</td>\n",
              "    </tr>\n",
              "    <tr>\n",
              "      <th>3</th>\n",
              "      <td>16</td>\n",
              "      <td>True</td>\n",
              "      <td>False</td>\n",
              "      <td>False</td>\n",
              "      <td>False</td>\n",
              "      <td>False</td>\n",
              "      <td>False</td>\n",
              "      <td>False</td>\n",
              "      <td>True</td>\n",
              "      <td>False</td>\n",
              "      <td>False</td>\n",
              "      <td>False</td>\n",
              "      <td>False</td>\n",
              "      <td>False</td>\n",
              "      <td>False</td>\n",
              "      <td>False</td>\n",
              "      <td>True</td>\n",
              "      <td>False</td>\n",
              "      <td>False</td>\n",
              "    </tr>\n",
              "    <tr>\n",
              "      <th>4</th>\n",
              "      <td>23</td>\n",
              "      <td>True</td>\n",
              "      <td>False</td>\n",
              "      <td>False</td>\n",
              "      <td>False</td>\n",
              "      <td>False</td>\n",
              "      <td>True</td>\n",
              "      <td>True</td>\n",
              "      <td>False</td>\n",
              "      <td>False</td>\n",
              "      <td>False</td>\n",
              "      <td>True</td>\n",
              "      <td>False</td>\n",
              "      <td>False</td>\n",
              "      <td>False</td>\n",
              "      <td>False</td>\n",
              "      <td>False</td>\n",
              "      <td>False</td>\n",
              "      <td>False</td>\n",
              "    </tr>\n",
              "  </tbody>\n",
              "</table>\n",
              "</div>"
            ],
            "text/plain": [
              "   prop_id  AirConditioning  AirportTransfer  ...  SwimmingPool  WasherDryer   WiFi\n",
              "0        3            False            False  ...         False        False  False\n",
              "1        5            False            False  ...          True        False  False\n",
              "2       11            False            False  ...         False        False  False\n",
              "3       16             True            False  ...          True        False  False\n",
              "4       23             True            False  ...         False        False  False\n",
              "\n",
              "[5 rows x 19 columns]"
            ]
          },
          "metadata": {},
          "execution_count": 30
        }
      ]
    },
    {
      "cell_type": "code",
      "source": [
        "amenities['prop_id'] = amenities['prop_id'].astype(np.int64)\n",
        "impr_df['prop_id'] = impr_df['prop_id'].astype(np.int64)"
      ],
      "metadata": {
        "id": "LF5EBE2o0Qpu"
      },
      "execution_count": null,
      "outputs": []
    },
    {
      "cell_type": "code",
      "source": [
        "# merge on prop id\n",
        "result = impr_df.merge(amenities, on='prop_id', how='left')"
      ],
      "metadata": {
        "id": "94sPhvTCxwUp"
      },
      "execution_count": null,
      "outputs": []
    },
    {
      "cell_type": "code",
      "source": [
        "result.head()"
      ],
      "metadata": {
        "colab": {
          "base_uri": "https://localhost:8080/",
          "height": 226
        },
        "id": "pyEaUzp701UB",
        "outputId": "ad5c44ed-13f0-40bf-bd4e-78fd74866152"
      },
      "execution_count": null,
      "outputs": [
        {
          "output_type": "execute_result",
          "data": {
            "text/html": [
              "<div>\n",
              "<style scoped>\n",
              "    .dataframe tbody tr th:only-of-type {\n",
              "        vertical-align: middle;\n",
              "    }\n",
              "\n",
              "    .dataframe tbody tr th {\n",
              "        vertical-align: top;\n",
              "    }\n",
              "\n",
              "    .dataframe thead th {\n",
              "        text-align: right;\n",
              "    }\n",
              "</style>\n",
              "<table border=\"1\" class=\"dataframe\">\n",
              "  <thead>\n",
              "    <tr style=\"text-align: right;\">\n",
              "      <th></th>\n",
              "      <th>rank</th>\n",
              "      <th>prop_id</th>\n",
              "      <th>is_travel_ad</th>\n",
              "      <th>review_rating</th>\n",
              "      <th>review_count</th>\n",
              "      <th>star_rating</th>\n",
              "      <th>is_free_cancellation</th>\n",
              "      <th>is_drr</th>\n",
              "      <th>price_bucket</th>\n",
              "      <th>num_clicks</th>\n",
              "      <th>is_trans</th>\n",
              "      <th>AirConditioning</th>\n",
              "      <th>AirportTransfer</th>\n",
              "      <th>Bar</th>\n",
              "      <th>FreeAirportTransportation</th>\n",
              "      <th>FreeBreakfast</th>\n",
              "      <th>FreeParking</th>\n",
              "      <th>FreeWiFi</th>\n",
              "      <th>Gym</th>\n",
              "      <th>HighSpeedInternet</th>\n",
              "      <th>HotTub</th>\n",
              "      <th>LaundryFacility</th>\n",
              "      <th>Parking</th>\n",
              "      <th>PetsAllowed</th>\n",
              "      <th>PrivatePool</th>\n",
              "      <th>SpaServices</th>\n",
              "      <th>SwimmingPool</th>\n",
              "      <th>WasherDryer</th>\n",
              "      <th>WiFi</th>\n",
              "    </tr>\n",
              "  </thead>\n",
              "  <tbody>\n",
              "    <tr>\n",
              "      <th>0</th>\n",
              "      <td>4</td>\n",
              "      <td>4189323</td>\n",
              "      <td>0</td>\n",
              "      <td>4.0</td>\n",
              "      <td>1025.0</td>\n",
              "      <td>3.0</td>\n",
              "      <td>0</td>\n",
              "      <td>1</td>\n",
              "      <td>4</td>\n",
              "      <td>3</td>\n",
              "      <td>1</td>\n",
              "      <td>False</td>\n",
              "      <td>False</td>\n",
              "      <td>True</td>\n",
              "      <td>True</td>\n",
              "      <td>False</td>\n",
              "      <td>True</td>\n",
              "      <td>True</td>\n",
              "      <td>True</td>\n",
              "      <td>False</td>\n",
              "      <td>True</td>\n",
              "      <td>True</td>\n",
              "      <td>False</td>\n",
              "      <td>True</td>\n",
              "      <td>False</td>\n",
              "      <td>False</td>\n",
              "      <td>True</td>\n",
              "      <td>False</td>\n",
              "      <td>False</td>\n",
              "    </tr>\n",
              "    <tr>\n",
              "      <th>1</th>\n",
              "      <td>1</td>\n",
              "      <td>1656386</td>\n",
              "      <td>0</td>\n",
              "      <td>4.0</td>\n",
              "      <td>1025.0</td>\n",
              "      <td>3.0</td>\n",
              "      <td>0</td>\n",
              "      <td>0</td>\n",
              "      <td>2</td>\n",
              "      <td>1</td>\n",
              "      <td>1</td>\n",
              "      <td>False</td>\n",
              "      <td>False</td>\n",
              "      <td>False</td>\n",
              "      <td>False</td>\n",
              "      <td>True</td>\n",
              "      <td>True</td>\n",
              "      <td>True</td>\n",
              "      <td>True</td>\n",
              "      <td>True</td>\n",
              "      <td>True</td>\n",
              "      <td>True</td>\n",
              "      <td>False</td>\n",
              "      <td>False</td>\n",
              "      <td>False</td>\n",
              "      <td>False</td>\n",
              "      <td>True</td>\n",
              "      <td>False</td>\n",
              "      <td>False</td>\n",
              "    </tr>\n",
              "    <tr>\n",
              "      <th>2</th>\n",
              "      <td>1</td>\n",
              "      <td>6172537</td>\n",
              "      <td>0</td>\n",
              "      <td>4.0</td>\n",
              "      <td>1025.0</td>\n",
              "      <td>4.0</td>\n",
              "      <td>1</td>\n",
              "      <td>1</td>\n",
              "      <td>3</td>\n",
              "      <td>1</td>\n",
              "      <td>1</td>\n",
              "      <td>False</td>\n",
              "      <td>False</td>\n",
              "      <td>True</td>\n",
              "      <td>False</td>\n",
              "      <td>False</td>\n",
              "      <td>True</td>\n",
              "      <td>True</td>\n",
              "      <td>True</td>\n",
              "      <td>True</td>\n",
              "      <td>True</td>\n",
              "      <td>True</td>\n",
              "      <td>False</td>\n",
              "      <td>False</td>\n",
              "      <td>False</td>\n",
              "      <td>False</td>\n",
              "      <td>True</td>\n",
              "      <td>False</td>\n",
              "      <td>False</td>\n",
              "    </tr>\n",
              "    <tr>\n",
              "      <th>3</th>\n",
              "      <td>1</td>\n",
              "      <td>6061219</td>\n",
              "      <td>0</td>\n",
              "      <td>4.0</td>\n",
              "      <td>9975.0</td>\n",
              "      <td>4.0</td>\n",
              "      <td>1</td>\n",
              "      <td>1</td>\n",
              "      <td>1</td>\n",
              "      <td>1</td>\n",
              "      <td>1</td>\n",
              "      <td>False</td>\n",
              "      <td>False</td>\n",
              "      <td>True</td>\n",
              "      <td>False</td>\n",
              "      <td>False</td>\n",
              "      <td>True</td>\n",
              "      <td>True</td>\n",
              "      <td>True</td>\n",
              "      <td>False</td>\n",
              "      <td>True</td>\n",
              "      <td>True</td>\n",
              "      <td>False</td>\n",
              "      <td>True</td>\n",
              "      <td>False</td>\n",
              "      <td>True</td>\n",
              "      <td>False</td>\n",
              "      <td>False</td>\n",
              "      <td>True</td>\n",
              "    </tr>\n",
              "    <tr>\n",
              "      <th>4</th>\n",
              "      <td>16</td>\n",
              "      <td>628627</td>\n",
              "      <td>0</td>\n",
              "      <td>5.0</td>\n",
              "      <td>1025.0</td>\n",
              "      <td>3.0</td>\n",
              "      <td>0</td>\n",
              "      <td>0</td>\n",
              "      <td>5</td>\n",
              "      <td>0</td>\n",
              "      <td>1</td>\n",
              "      <td>False</td>\n",
              "      <td>False</td>\n",
              "      <td>False</td>\n",
              "      <td>False</td>\n",
              "      <td>True</td>\n",
              "      <td>True</td>\n",
              "      <td>True</td>\n",
              "      <td>True</td>\n",
              "      <td>False</td>\n",
              "      <td>True</td>\n",
              "      <td>True</td>\n",
              "      <td>False</td>\n",
              "      <td>True</td>\n",
              "      <td>False</td>\n",
              "      <td>False</td>\n",
              "      <td>True</td>\n",
              "      <td>False</td>\n",
              "      <td>False</td>\n",
              "    </tr>\n",
              "  </tbody>\n",
              "</table>\n",
              "</div>"
            ],
            "text/plain": [
              "  rank  prop_id is_travel_ad  ... SwimmingPool WasherDryer   WiFi\n",
              "0    4  4189323            0  ...         True       False  False\n",
              "1    1  1656386            0  ...         True       False  False\n",
              "2    1  6172537            0  ...         True       False  False\n",
              "3    1  6061219            0  ...        False       False   True\n",
              "4   16   628627            0  ...         True       False  False\n",
              "\n",
              "[5 rows x 29 columns]"
            ]
          },
          "metadata": {},
          "execution_count": 33
        }
      ]
    },
    {
      "cell_type": "code",
      "source": [
        "# Most frequently occurance of each variable (mode)\n",
        "result.mode()\n",
        "'''\n",
        "rank:\t\t\t\t\t\t 1\n",
        "is_travel_ad :\t\t\t\t 0\n",
        "review_rating: \t\t\t\t4.0\n",
        "star_rating: \t\t\t\t 3\n",
        "is_free_cancellation:\t\t 1\n",
        "has a discount price:\t\t 1\n",
        "price_bucket :\t\t\t\t 1 - lower price\n",
        "num_click : \t\t\t\t 1\n",
        "'''"
      ],
      "metadata": {
        "colab": {
          "base_uri": "https://localhost:8080/",
          "height": 101
        },
        "id": "tgn5ec32053V",
        "outputId": "440f2682-205d-4a80-e19e-a18461314880"
      },
      "execution_count": null,
      "outputs": [
        {
          "output_type": "execute_result",
          "data": {
            "text/html": [
              "<div>\n",
              "<style scoped>\n",
              "    .dataframe tbody tr th:only-of-type {\n",
              "        vertical-align: middle;\n",
              "    }\n",
              "\n",
              "    .dataframe tbody tr th {\n",
              "        vertical-align: top;\n",
              "    }\n",
              "\n",
              "    .dataframe thead th {\n",
              "        text-align: right;\n",
              "    }\n",
              "</style>\n",
              "<table border=\"1\" class=\"dataframe\">\n",
              "  <thead>\n",
              "    <tr style=\"text-align: right;\">\n",
              "      <th></th>\n",
              "      <th>rank</th>\n",
              "      <th>prop_id</th>\n",
              "      <th>is_travel_ad</th>\n",
              "      <th>review_rating</th>\n",
              "      <th>review_count</th>\n",
              "      <th>star_rating</th>\n",
              "      <th>is_free_cancellation</th>\n",
              "      <th>is_drr</th>\n",
              "      <th>price_bucket</th>\n",
              "      <th>num_clicks</th>\n",
              "      <th>is_trans</th>\n",
              "      <th>AirConditioning</th>\n",
              "      <th>AirportTransfer</th>\n",
              "      <th>Bar</th>\n",
              "      <th>FreeAirportTransportation</th>\n",
              "      <th>FreeBreakfast</th>\n",
              "      <th>FreeParking</th>\n",
              "      <th>FreeWiFi</th>\n",
              "      <th>Gym</th>\n",
              "      <th>HighSpeedInternet</th>\n",
              "      <th>HotTub</th>\n",
              "      <th>LaundryFacility</th>\n",
              "      <th>Parking</th>\n",
              "      <th>PetsAllowed</th>\n",
              "      <th>PrivatePool</th>\n",
              "      <th>SpaServices</th>\n",
              "      <th>SwimmingPool</th>\n",
              "      <th>WasherDryer</th>\n",
              "      <th>WiFi</th>\n",
              "    </tr>\n",
              "  </thead>\n",
              "  <tbody>\n",
              "    <tr>\n",
              "      <th>0</th>\n",
              "      <td>1</td>\n",
              "      <td>5448913</td>\n",
              "      <td>0</td>\n",
              "      <td>4.0</td>\n",
              "      <td>1025.0</td>\n",
              "      <td>3.0</td>\n",
              "      <td>1</td>\n",
              "      <td>1</td>\n",
              "      <td>1</td>\n",
              "      <td>1</td>\n",
              "      <td>1</td>\n",
              "      <td>False</td>\n",
              "      <td>False</td>\n",
              "      <td>True</td>\n",
              "      <td>False</td>\n",
              "      <td>False</td>\n",
              "      <td>True</td>\n",
              "      <td>True</td>\n",
              "      <td>True</td>\n",
              "      <td>False</td>\n",
              "      <td>False</td>\n",
              "      <td>True</td>\n",
              "      <td>False</td>\n",
              "      <td>False</td>\n",
              "      <td>False</td>\n",
              "      <td>False</td>\n",
              "      <td>False</td>\n",
              "      <td>False</td>\n",
              "      <td>False</td>\n",
              "    </tr>\n",
              "  </tbody>\n",
              "</table>\n",
              "</div>"
            ],
            "text/plain": [
              "  rank  prop_id is_travel_ad  ... SwimmingPool WasherDryer   WiFi\n",
              "0    1  5448913            0  ...        False       False  False\n",
              "\n",
              "[1 rows x 29 columns]"
            ]
          },
          "metadata": {},
          "execution_count": 34
        }
      ]
    },
    {
      "cell_type": "code",
      "source": [
        "# all booked records (113231)\n",
        "result_length = len(result)"
      ],
      "metadata": {
        "id": "3IvV8-Nt34zx"
      },
      "execution_count": null,
      "outputs": []
    },
    {
      "cell_type": "code",
      "source": [
        "# count number of available amenity for later percentage calculation\n",
        "AirConditioningTrue = result[result.AirConditioning == True].count()\n",
        "AirportTransferTrue = result[result.AirportTransfer == True].count()\n",
        "BarTrue = result[result.Bar == True].count()\n",
        "FreeAirportTransportationTrue = result[result.FreeAirportTransportation == True].count()\n",
        "FreeBreakfastTrue = result[result.FreeBreakfast == True].count()\n",
        "FreeParkingTrue = result[result.FreeParking == True].count()\n",
        "FreeWiFiTrue = result[result.FreeWiFi == True].count()\n",
        "GymTrue = result[result.Gym == True].count()\n",
        "HighSpeedInternetTrue = result[result.HighSpeedInternet == True].count()\n",
        "HotTubTrue = result[result.HotTub == True].count()\n",
        "LaundryFacilityTrue = result[result.LaundryFacility == True].count()\n",
        "ParkingTrue = result[result.Parking == True].count()\n",
        "PrivatePoolTrue = result[result.PrivatePool == True].count()\n",
        "SpaServicesTrue = result[result.SpaServices == True].count()\n",
        "SwimmingPoolTrue = result[result.SwimmingPool == True].count()\n",
        "WasherDryerTrue = result[result.WasherDryer == True].count()\n",
        "WiFiTrue = result[result.WiFi == True].count()\n",
        "\n"
      ],
      "metadata": {
        "id": "9qIrho833nrn"
      },
      "execution_count": null,
      "outputs": []
    },
    {
      "cell_type": "code",
      "source": [
        "# calculate the persentage of each amenity\n",
        "AirConditioningResult = AirConditioningTrue['AirConditioning']/result_length * 100\n",
        "AirportTransferResult = AirportTransferTrue['AirportTransfer']/result_length * 100\n",
        "BarResult = BarTrue['Bar']/result_length * 100\n",
        "FreeAirportTransportationResult = FreeAirportTransportationTrue['FreeAirportTransportation']/result_length * 100\n",
        "FreeBreakfastResult = FreeBreakfastTrue['FreeBreakfast']/result_length * 100\n",
        "FreeParkingResult = FreeParkingTrue['FreeParking']/result_length * 100\n",
        "FreeWiFiResult = FreeWiFiTrue['FreeWiFi']/result_length * 100\n",
        "GymResult = GymTrue['Gym']/result_length * 100\n",
        "HighSpeedInternetResult = HighSpeedInternetTrue['HighSpeedInternet']/result_length * 100\n",
        "HotTubResult = HotTubTrue['HotTub']/result_length * 100\n",
        "LaundryFacilityResult = LaundryFacilityTrue['LaundryFacility']/result_length * 100\n",
        "ParkingResult = ParkingTrue['Parking']/result_length * 100\n",
        "PrivatePoolResult = PrivatePoolTrue['PrivatePool']/result_length * 100\n",
        "SpaServicesResult = SpaServicesTrue['SpaServices']/result_length * 100\n",
        "SwimmingPoolResult = SwimmingPoolTrue['SwimmingPool']/result_length * 100\n",
        "WasherDryerResult = WasherDryerTrue['WasherDryer']/result_length * 100\n",
        "WiFiResult = WiFiTrue['WiFi']/result_length * 100\n"
      ],
      "metadata": {
        "id": "q3-FQsvj4F9a"
      },
      "execution_count": null,
      "outputs": []
    },
    {
      "cell_type": "code",
      "source": [
        ""
      ],
      "metadata": {
        "id": "viUGjjZZTdBU"
      },
      "execution_count": null,
      "outputs": []
    },
    {
      "cell_type": "code",
      "source": [
        "print(\"AirConditioningResult\", AirConditioningResult)\n",
        "print(\"AirportTransferResult\", AirportTransferResult)\n",
        "print(\"BarResult\",BarResult)\n",
        "print(\"FreeAirportTransportationResult\",FreeAirportTransportationResult)\n",
        "print(\"FreeBreakfastResult\",FreeBreakfastResult)\n",
        "print(\"FreeParkingResult\",FreeParkingResult) \n",
        "print(\"FreeWiFiResult\",FreeWiFiResult) \n",
        "print(\"GymResult\",GymResult) \n",
        "print(\"HighSpeedInternetResult\",HighSpeedInternetResult) \n",
        "print(\"HotTubResult\",HotTubResult) \n",
        "print(\"LaundryFacilityResult\",LaundryFacilityResult)\n",
        "print(\"ParkingResult\",ParkingResult) \n",
        "print(\"PrivatePoolResult\",PrivatePoolResult) \n",
        "print(\"SpaServicesResult\",SpaServicesResult) \n",
        "print(\"SwimmingPoolResult\",SwimmingPoolResult) \n",
        "print(\"WasherDryerResult\",WasherDryerResult) \n",
        "print(\"WiFiResult\",WiFiResult)"
      ],
      "metadata": {
        "colab": {
          "base_uri": "https://localhost:8080/"
        },
        "id": "HQfqCmp664cS",
        "outputId": "e7259102-dd9a-489f-aa88-b9f9c50a60d6"
      },
      "execution_count": null,
      "outputs": [
        {
          "output_type": "stream",
          "name": "stdout",
          "text": [
            "AirConditioningResult 42.01322959260273\n",
            "AirportTransferResult 5.666292799675\n",
            "BarResult 55.13861045120153\n",
            "FreeAirportTransportationResult 8.151477952150913\n",
            "FreeBreakfastResult 31.72982663758158\n",
            "FreeParkingResult 58.59702731584107\n",
            "FreeWiFiResult 92.91713400040625\n",
            "GymResult 65.33369836882126\n",
            "HighSpeedInternetResult 27.492471143061533\n",
            "HotTubResult 22.520334537361677\n",
            "LaundryFacilityResult 82.59840503042453\n",
            "ParkingResult 35.24034937428796\n",
            "PrivatePoolResult 0.12364105236198568\n",
            "SpaServicesResult 18.33861751640452\n",
            "SwimmingPoolResult 47.89854368503325\n",
            "WasherDryerResult 2.1063136420238275\n",
            "WiFiResult 10.188905865001633\n"
          ]
        }
      ]
    },
    {
      "cell_type": "code",
      "source": [
        "'''\n",
        "FreeWiFi: \t\t\t\t\t T 92.91%\n",
        "LaundryFacility:\t\t\t T 82.60%\n",
        "Gym: \t\t\t\t\t\t T 65.33%\n",
        "FreeParking: \t\t\t\t T 58.6%\n",
        "Bar: \t\t\t\t\t\t T 55.14%\n",
        "SwimmingPool:\t\t\t\t F 47.9%\n",
        "AirConditioning: \t\t\t F 42.01%\n",
        "Parking:\t\t\t\t\t F 35.24%\n",
        "FreeBreakfast: \t\t\t\t F 31.73%\n",
        "HighSpeedInternet:\t\t\t F 27.49%\n",
        "HotTub:\t\t\t\t\t\t F 22.52%\n",
        "SpaServices:\t\t\t\t F 18.34%\n",
        "WiFi:\t\t\t\t\t\t F 10.19%\n",
        "FreeAirportTransportation:   F 8.15%\n",
        "AirportTransfer: \t\t\t F 5.67%\n",
        "WasherDryer\t:\t\t\t\t F 2.1%\n",
        "PrivatePool:\t\t\t\t F 0.12%\n",
        "'''"
      ],
      "metadata": {
        "id": "hjDKEiMs4XJy"
      },
      "execution_count": null,
      "outputs": []
    }
  ]
}