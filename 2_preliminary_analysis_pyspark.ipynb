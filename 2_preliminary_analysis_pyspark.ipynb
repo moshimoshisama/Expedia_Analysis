{
  "nbformat": 4,
  "nbformat_minor": 0,
  "metadata": {
    "colab": {
      "name": "2_preliminary_analysis_pyspark.ipynb",
      "provenance": [],
      "collapsed_sections": [],
      "authorship_tag": "ABX9TyO+ZRKZsdzHXkiLUUjAlEwB",
      "include_colab_link": true
    },
    "kernelspec": {
      "name": "python3",
      "display_name": "Python 3"
    },
    "language_info": {
      "name": "python"
    }
  },
  "cells": [
    {
      "cell_type": "markdown",
      "metadata": {
        "id": "view-in-github",
        "colab_type": "text"
      },
      "source": [
        "<a href=\"https://colab.research.google.com/github/moshimoshisama/Expedia_Analysis/blob/main/2_preliminary_analysis_pyspark.ipynb\" target=\"_parent\"><img src=\"https://colab.research.google.com/assets/colab-badge.svg\" alt=\"Open In Colab\"/></a>"
      ]
    },
    {
      "cell_type": "markdown",
      "source": [
        "This notebook read input datas as pyspark dataframe, in order to efficiently handle the data. At the end of this notebook, I realized that the dataset has very unbalanced classes with extremely low click through rate and transaction rate. "
      ],
      "metadata": {
        "id": "t8qg35t9RlQ2"
      }
    },
    {
      "cell_type": "markdown",
      "source": [
        "# **Part I: Pyspark installation & build session**"
      ],
      "metadata": {
        "id": "o2Gu3h_dQlTZ"
      }
    },
    {
      "cell_type": "code",
      "execution_count": null,
      "metadata": {
        "id": "hSr77P6CCNof",
        "colab": {
          "base_uri": "https://localhost:8080/"
        },
        "outputId": "92491d12-7924-4766-a84f-f99ca3b4a514"
      },
      "outputs": [
        {
          "output_type": "stream",
          "name": "stdout",
          "text": [
            "Collecting pyspark\n",
            "  Downloading pyspark-3.2.1.tar.gz (281.4 MB)\n",
            "\u001b[K     |████████████████████████████████| 281.4 MB 35 kB/s \n",
            "\u001b[?25hCollecting py4j\n",
            "  Downloading py4j-0.10.9.5-py2.py3-none-any.whl (199 kB)\n",
            "\u001b[K     |████████████████████████████████| 199 kB 66.2 MB/s \n",
            "\u001b[?25hCollecting findspark\n",
            "  Downloading findspark-2.0.1-py2.py3-none-any.whl (4.4 kB)\n",
            "Collecting py4j\n",
            "  Downloading py4j-0.10.9.3-py2.py3-none-any.whl (198 kB)\n",
            "\u001b[K     |████████████████████████████████| 198 kB 82.4 MB/s \n",
            "\u001b[?25hBuilding wheels for collected packages: pyspark\n",
            "  Building wheel for pyspark (setup.py) ... \u001b[?25l\u001b[?25hdone\n",
            "  Created wheel for pyspark: filename=pyspark-3.2.1-py2.py3-none-any.whl size=281853642 sha256=4bf3aabfd85ea21b886f82cdeab16f12ed455d79c8f194eba55ca9eaaafa9611\n",
            "  Stored in directory: /root/.cache/pip/wheels/9f/f5/07/7cd8017084dce4e93e84e92efd1e1d5334db05f2e83bcef74f\n",
            "Successfully built pyspark\n",
            "Installing collected packages: py4j, pyspark, findspark\n",
            "Successfully installed findspark-2.0.1 py4j-0.10.9.3 pyspark-3.2.1\n"
          ]
        }
      ],
      "source": [
        "!pip install pyspark py4j findspark"
      ]
    },
    {
      "cell_type": "code",
      "source": [
        "from pyspark.sql import SparkSession\n",
        "import pyspark.sql.functions as F\n",
        "from pyspark.sql import SQLContext\n",
        "from pyspark.sql.types import IntegerType"
      ],
      "metadata": {
        "id": "tacU8Q6Zybwn"
      },
      "execution_count": null,
      "outputs": []
    },
    {
      "cell_type": "code",
      "source": [
        "spark = SparkSession.builder.appName(\"expedia_analytics\")\\\n",
        ".getOrCreate()\n"
      ],
      "metadata": {
        "id": "yXprEo3rydyf"
      },
      "execution_count": null,
      "outputs": []
    },
    {
      "cell_type": "code",
      "source": [
        "from google.colab import drive\n",
        "drive.mount('/content/drive')"
      ],
      "metadata": {
        "colab": {
          "base_uri": "https://localhost:8080/"
        },
        "id": "ofF4scNLyg7s",
        "outputId": "de1f94bd-dfa4-4305-e1af-aabfcf77b02e"
      },
      "execution_count": null,
      "outputs": [
        {
          "output_type": "stream",
          "name": "stdout",
          "text": [
            "Mounted at /content/drive\n"
          ]
        }
      ]
    },
    {
      "cell_type": "markdown",
      "source": [
        "# **Part II: Data Readin & expands the data**"
      ],
      "metadata": {
        "id": "Uc3WC7KLzeIp"
      }
    },
    {
      "cell_type": "markdown",
      "source": [
        "Read in main data"
      ],
      "metadata": {
        "id": "j1b9Wl2UyvAj"
      }
    },
    {
      "cell_type": "code",
      "source": [
        "main = spark.read.format(\"csv\").option(\"header\",\"true\").load(\"drive/MyDrive/expedia/source/main.tsv\",sep=\"\\t\")"
      ],
      "metadata": {
        "id": "tKvOeDFpyhaC"
      },
      "execution_count": null,
      "outputs": []
    },
    {
      "cell_type": "code",
      "source": [
        "# preview of the data\n",
        "main.show()"
      ],
      "metadata": {
        "colab": {
          "base_uri": "https://localhost:8080/"
        },
        "id": "bD93r1hf0bjr",
        "outputId": "1e223557-c46c-4bfd-f6db-2fdca847d0c4"
      },
      "execution_count": null,
      "outputs": [
        {
          "output_type": "stream",
          "name": "stdout",
          "text": [
            "+--------------------+--------------------+-------------------+-------------+--------------------+---------+--------------+-------------------+-------------------+-----------+-----------+------------+----------+---------------+--------------------+--------------------+----+-----+--------------+\n",
            "|             user_id|           search_id|   search_timestamp|point_of_sale|geo_location_country|is_mobile|destination_id|       checkin_date|      checkout_date|adult_count|child_count|infant_count|room_count|      sort_type|     applied_filters|         impressions|year|month|length_of_stay|\n",
            "+--------------------+--------------------+-------------------+-------------+--------------------+---------+--------------+-------------------+-------------------+-----------+-----------+------------+----------+---------------+--------------------+--------------------+----+-----+--------------+\n",
            "|001bbff3030c95740...|541933a931216d270...|2021-07-02 19:38:00|            2|                   1|        0|           898|2021-07-04 00:00:00|2021-07-05 00:00:00|          2|          0|           0|         1|    RECOMMENDED|                null|1,5695234,1,4.0,2...|2021|    7|             1|\n",
            "|002ba2a7c74dbffc3...|25b8ebecb15b8f3ed...|2021-06-23 03:39:00|            1|                   1|        0|            50|2021-09-10 00:00:00|2021-09-14 00:00:00|          2|          0|           0|         1|PRICE ASCENDING|                null|1,5151135,0,null,...|2021|    9|             4|\n",
            "|00c5152ed6ef5b937...|349c86ff1be415538...|2021-06-10 00:08:00|            1|                   1|        0|            49|2021-07-07 00:00:00|2021-07-12 00:00:00|          2|          0|           0|         1|    RECOMMENDED|                null|1,1624072,0,4.0,1...|2021|    7|             5|\n",
            "|00d5e2bca7962f67d...|d3b41f5d906b3f5e5...|2021-07-16 01:08:00|           12|                   1|        0|            13|2021-08-25 00:00:00|2021-08-28 00:00:00|          2|          0|           0|         1|    RECOMMENDED|                null|1,2391667,1,4.0,1...|2021|    8|             3|\n",
            "|013f92616fe583c4b...|a359fd984e5ae5be6...|2021-07-07 20:49:00|            1|                   1|        0|           206|2021-08-30 00:00:00|2021-09-04 00:00:00|          1|          0|           0|         1|    RECOMMENDED|       VIPONLY:FALSE|1,6714720,1,5.0,2...|2021|    9|             5|\n",
            "|0152236295041a611...|cc8875772f1246951...|2021-06-10 14:49:00|            2|                   1|        1|             9|2021-06-10 00:00:00|2021-06-11 00:00:00|          2|          0|           0|         1|    RECOMMENDED|             PRICE:0|1,3894329,0,5.0,1...|2021|    6|             1|\n",
            "|0152236295041a611...|43c28b9d3c201db4d...|2021-06-10 14:49:00|            2|                   1|        1|             9|2021-06-24 00:00:00|2021-06-25 00:00:00|          2|          0|           0|         1|    RECOMMENDED|                null|1,3645535,1,4.0,6...|2021|    6|             1|\n",
            "|0152236295041a611...|8486cdf058409e287...|2021-06-10 14:53:00|            2|                   1|        1|             9|2021-06-10 00:00:00|2021-06-11 00:00:00|          2|          0|           0|         1|    RECOMMENDED|                null|1,1105445,1,4.0,8...|2021|    6|             1|\n",
            "|0152236295041a611...|02e111bc0c86ce83b...|2021-06-10 14:53:00|            2|                   1|        1|             9|2021-06-10 00:00:00|2021-06-11 00:00:00|          2|          0|           0|         1|PRICE ASCENDING|                null|1,713480,0,2.0,15...|2021|    6|             1|\n",
            "|01611eb8e2adbc392...|4cbd37e6055dd7b6d...|2021-06-28 19:42:00|            4|                   1|        0|            17|2021-07-14 00:00:00|2021-07-17 00:00:00|          2|          0|           0|         1|    RECOMMENDED|                null|1,1615514,1,4.0,1...|2021|    7|             3|\n",
            "|016f433e1e9814691...|dd28cd5c25b009968...|2021-06-25 05:54:00|            1|                   1|        1|         14674|2021-07-25 00:00:00|2021-07-26 00:00:00|          2|          0|           0|         1|    RECOMMENDED|                null|1,1417933,0,4.0,2...|2021|    7|             1|\n",
            "|016f433e1e9814691...|d1244c2ea151f8d5d...|2021-06-25 06:03:00|            1|                   1|        1|         14674|2021-06-25 00:00:00|2021-06-26 00:00:00|          2|          0|           0|         1|    RECOMMENDED|                null|1,2966956,0,4.0,4...|2021|    6|             1|\n",
            "|017a2c4b88aee86c1...|61d994c9a6c3b64c3...|2021-07-31 23:09:00|            1|                  64|        1|         18636|2021-08-04 00:00:00|2021-08-05 00:00:00|          2|          0|           0|         1|    RECOMMENDED|                null|1,4784809,0,5.0,2...|2021|    8|             1|\n",
            "|017a2c4b88aee86c1...|8a93c692bcd407bcb...|2021-07-31 23:10:00|            1|                  64|        1|         18636|2021-08-21 00:00:00|2021-08-22 00:00:00|          2|          0|           0|         1|    RECOMMENDED|                null|1,4784809,0,5.0,2...|2021|    8|             1|\n",
            "|018e7d1f2484459af...|dd89d215b0a608de7...|2021-06-18 21:20:00|            6|                   4|        0|             1|2021-08-01 00:00:00|2021-08-06 00:00:00|          2|          0|           0|         1|    RECOMMENDED|       VIPONLY:FALSE|1,3955773,0,4.0,2...|2021|    8|             5|\n",
            "|01a367de6a4a099fb...|b4e228f666b1095fa...|2021-06-10 22:04:00|            1|                   1|        0|           719|2021-08-02 00:00:00|2021-08-04 00:00:00|          2|          0|           0|         1|    RECOMMENDED|                null|1,4291709,0,4.0,1...|2021|    8|             2|\n",
            "|022618a80fb6c8614...|daabcde78180d12e2...|2021-06-28 13:29:00|           11|                   4|        0|           143|2021-08-19 00:00:00|2021-08-22 00:00:00|          6|          0|           0|         1|    RECOMMENDED|MEALPLAN:ALL_INCL...|1,6934307,0,0.0,0...|2021|    8|             3|\n",
            "|023fc9d701c799c62...|197e29f822ed8ef83...|2021-06-19 02:20:00|            3|                   2|        0|          7811|2021-06-19 00:00:00|2021-06-20 00:00:00|          2|          0|           0|         1|    RECOMMENDED|       VIPONLY:FALSE|1,6365186,0,5.0,4...|2021|    6|             1|\n",
            "|023fc9d701c799c62...|98ef641302b2f6c70...|2021-06-19 15:25:00|            3|                   2|        0|          7811|2021-06-19 00:00:00|2021-06-20 00:00:00|          2|          0|           0|         1|    RECOMMENDED|       VIPONLY:FALSE|1,6365186,0,5.0,4...|2021|    6|             1|\n",
            "|028382cf0696909da...|41d37cd2954e3840d...|2021-06-04 09:01:00|            1|                 128|        0|         23358|2021-06-18 00:00:00|2021-06-19 00:00:00|          2|          0|           0|         1|    RECOMMENDED|                null|1,1767157,0,4.0,2...|2021|    6|             1|\n",
            "+--------------------+--------------------+-------------------+-------------+--------------------+---------+--------------+-------------------+-------------------+-----------+-----------+------------+----------+---------------+--------------------+--------------------+----+-----+--------------+\n",
            "only showing top 20 rows\n",
            "\n"
          ]
        }
      ]
    },
    {
      "cell_type": "code",
      "source": [
        "# data name with data type\n",
        "main.dtypes"
      ],
      "metadata": {
        "colab": {
          "base_uri": "https://localhost:8080/"
        },
        "id": "9KQhTAud3u1d",
        "outputId": "bdd60ebd-db58-4aa7-8464-0bbe1defa2dc"
      },
      "execution_count": null,
      "outputs": [
        {
          "output_type": "execute_result",
          "data": {
            "text/plain": [
              "[('user_id', 'string'),\n",
              " ('search_id', 'string'),\n",
              " ('search_timestamp', 'timestamp'),\n",
              " ('point_of_sale', 'string'),\n",
              " ('geo_location_country', 'string'),\n",
              " ('is_mobile', 'string'),\n",
              " ('destination_id', 'string'),\n",
              " ('checkin_date', 'timestamp'),\n",
              " ('checkout_date', 'timestamp'),\n",
              " ('adult_count', 'string'),\n",
              " ('child_count', 'string'),\n",
              " ('infant_count', 'string'),\n",
              " ('room_count', 'string'),\n",
              " ('sort_type', 'string'),\n",
              " ('applied_filters', 'string'),\n",
              " ('impressions', 'string'),\n",
              " ('year', 'int'),\n",
              " ('month', 'int'),\n",
              " ('length_of_stay', 'int')]"
            ]
          },
          "metadata": {},
          "execution_count": 8
        }
      ]
    },
    {
      "cell_type": "markdown",
      "source": [
        "Read in amenities data"
      ],
      "metadata": {
        "id": "FuP3x689R2zj"
      }
    },
    {
      "cell_type": "code",
      "source": [
        "amenities = spark.read.format(\"csv\").option(\"header\",\"true\").load(\"drive/MyDrive/expedia/source/amenities.tsv\",sep=\"\\t\")"
      ],
      "metadata": {
        "id": "F2RaBWkNQdgg"
      },
      "execution_count": null,
      "outputs": []
    },
    {
      "cell_type": "code",
      "source": [
        "# preview of the data\n",
        "amenities.show()"
      ],
      "metadata": {
        "colab": {
          "base_uri": "https://localhost:8080/"
        },
        "id": "oEnD7AhSQ4Jd",
        "outputId": "20bb0f2c-e205-4362-d00d-e03d9442374d"
      },
      "execution_count": null,
      "outputs": [
        {
          "output_type": "stream",
          "name": "stdout",
          "text": [
            "+-------+---------------+---------------+---+-------------------------+-------------+-----------+--------+---+-----------------+------+---------------+-------+-----------+-----------+-----------+------------+-----------+----+\n",
            "|prop_id|AirConditioning|AirportTransfer|Bar|FreeAirportTransportation|FreeBreakfast|FreeParking|FreeWiFi|Gym|HighSpeedInternet|HotTub|LaundryFacility|Parking|PetsAllowed|PrivatePool|SpaServices|SwimmingPool|WasherDryer|WiFi|\n",
            "+-------+---------------+---------------+---+-------------------------+-------------+-----------+--------+---+-----------------+------+---------------+-------+-----------+-----------+-----------+------------+-----------+----+\n",
            "|      3|              0|              0|  0|                        0|            0|          1|       1|  0|                0|     0|              0|      0|          0|          0|          0|           0|          0|   0|\n",
            "|      5|              0|              0|  0|                        0|            0|          0|       0|  0|                0|     0|              0|      0|          1|          0|          0|           1|          0|   0|\n",
            "|     11|              0|              0|  0|                        0|            0|          0|       0|  0|                0|     0|              0|      0|          1|          0|          0|           0|          0|   0|\n",
            "|     16|              1|              0|  0|                        0|            0|          0|       0|  1|                0|     0|              0|      0|          0|          0|          0|           1|          0|   0|\n",
            "|     23|              1|              0|  0|                        0|            0|          1|       1|  0|                0|     0|              1|      0|          0|          0|          0|           0|          0|   0|\n",
            "|     26|              1|              0|  0|                        0|            0|          0|       0|  0|                0|     0|              0|      0|          0|          1|          0|           0|          0|   0|\n",
            "|     35|              0|              0|  0|                        0|            0|          0|       1|  0|                0|     0|              0|      0|          0|          0|          0|           0|          0|   0|\n",
            "|     36|              1|              0|  0|                        0|            0|          0|       0|  0|                0|     0|              0|      0|          1|          0|          0|           0|          0|   0|\n",
            "|     46|              0|              0|  0|                        0|            0|          0|       0|  0|                0|     0|              0|      0|          1|          0|          0|           0|          0|   0|\n",
            "|     50|              0|              0|  0|                        0|            1|          1|       1|  0|                0|     0|              0|      0|          1|          0|          1|           1|          0|   0|\n",
            "|     60|              0|              0|  0|                        0|            0|          0|       1|  0|                0|     0|              0|      0|          1|          0|          0|           0|          0|   0|\n",
            "|     61|              1|              0|  0|                        0|            0|          0|       1|  0|                0|     0|              0|      0|          0|          0|          0|           0|          0|   0|\n",
            "|     64|              0|              0|  0|                        0|            0|          0|       1|  0|                1|     0|              0|      0|          0|          0|          0|           0|          1|   0|\n",
            "|     73|              1|              0|  0|                        0|            0|          0|       1|  0|                0|     0|              0|      1|          1|          0|          0|           0|          0|   0|\n",
            "|     75|              1|              0|  0|                        0|            0|          0|       1|  0|                0|     0|              0|      0|          0|          0|          0|           0|          0|   0|\n",
            "|     80|              1|              0|  0|                        0|            0|          1|       1|  1|                0|     0|              1|      0|          0|          0|          0|           0|          0|   0|\n",
            "|     83|              0|              0|  0|                        0|            0|          1|       1|  0|                0|     0|              0|      0|          0|          0|          0|           0|          0|   0|\n",
            "|     85|              0|              0|  0|                        0|            0|          0|       1|  0|                0|     0|              0|      0|          0|          0|          0|           0|          0|   0|\n",
            "|     88|              1|              0|  0|                        0|            0|          0|       0|  0|                0|     0|              0|      0|          0|          0|          0|           0|          0|   0|\n",
            "|     89|              0|              0|  0|                        0|            1|          0|       1|  0|                0|     0|              1|      0|          0|          0|          0|           0|          0|   0|\n",
            "+-------+---------------+---------------+---+-------------------------+-------------+-----------+--------+---+-----------------+------+---------------+-------+-----------+-----------+-----------+------------+-----------+----+\n",
            "only showing top 20 rows\n",
            "\n"
          ]
        }
      ]
    },
    {
      "cell_type": "markdown",
      "source": [
        "Seperate impressions from the main data"
      ],
      "metadata": {
        "id": "9uhWv5aOSA-W"
      }
    },
    {
      "cell_type": "code",
      "source": [
        "impr = main.select([\"user_id\",\"search_id\",\"impressions\"])"
      ],
      "metadata": {
        "id": "VSxNid2bQ8Tw"
      },
      "execution_count": null,
      "outputs": []
    },
    {
      "cell_type": "code",
      "source": [
        "impr_test = impr.withColumn(\"impressions\",F.explode(F.split(\"impressions\",\"\\\\|\")))"
      ],
      "metadata": {
        "id": "YIlAlvSnRAPT"
      },
      "execution_count": null,
      "outputs": []
    },
    {
      "cell_type": "code",
      "source": [
        "impr_test_seperate = impr_test.withColumn(\"rank\",F.split(F.col(\"impressions\"),\",\").getItem(0))\\\n",
        "  .withColumn(\"prop_id\",F.split(F.col(\"impressions\"),\",\").getItem(1))\\\n",
        "  .withColumn(\"is_travel_ad\",F.split(F.col(\"impressions\"),\",\").getItem(2))\\\n",
        "  .withColumn(\"review_rating\",F.split(F.col(\"impressions\"),\",\").getItem(3))\\\n",
        "  .withColumn(\"review_count\",F.split(F.col(\"impressions\"),\",\").getItem(4))\\\n",
        "  .withColumn(\"star_rating\",F.split(F.col(\"impressions\"),\",\").getItem(5))\\\n",
        "  .withColumn(\"is_free_cancellation\",F.split(F.col(\"impressions\"),\",\").getItem(6))\\\n",
        "  .withColumn(\"is_drr\",F.split(F.col(\"impressions\"),\",\").getItem(7))\\\n",
        "  .withColumn(\"price_bucket\",F.split(F.col(\"impressions\"),\",\").getItem(8))\\\n",
        "  .withColumn(\"num_clicks\",F.split(F.col(\"impressions\"),\",\").getItem(9))\\\n",
        "  .withColumn(\"is_trans\",F.split(F.col(\"impressions\"),\",\").getItem(10))\\\n",
        "  .drop(\"impressions\")"
      ],
      "metadata": {
        "id": "5kv_UpPJRDbl"
      },
      "execution_count": null,
      "outputs": []
    },
    {
      "cell_type": "code",
      "source": [
        "impr_test_seperate.show(n=10)"
      ],
      "metadata": {
        "colab": {
          "base_uri": "https://localhost:8080/"
        },
        "id": "Nug-K0M5RGYX",
        "outputId": "26ef72fa-f8e1-45a7-d138-590cfe52acff"
      },
      "execution_count": null,
      "outputs": [
        {
          "output_type": "stream",
          "name": "stdout",
          "text": [
            "+--------------------+--------------------+----+-------+------------+-------------+------------+-----------+--------------------+------+------------+----------+--------+\n",
            "|             user_id|           search_id|rank|prop_id|is_travel_ad|review_rating|review_count|star_rating|is_free_cancellation|is_drr|price_bucket|num_clicks|is_trans|\n",
            "+--------------------+--------------------+----+-------+------------+-------------+------------+-----------+--------------------+------+------------+----------+--------+\n",
            "|001bbff3030c95740...|541933a931216d270...|   1|5695234|           1|          4.0|       250.0|        2.0|                   1|     0|           3|         0|       0|\n",
            "|001bbff3030c95740...|541933a931216d270...|   2|1734546|           1|          4.0|      1000.0|        2.0|                   1|     0|           4|         0|       0|\n",
            "|001bbff3030c95740...|541933a931216d270...|   3|5675938|           0|          5.0|       700.0|        3.0|                   1|     0|           3|         0|       0|\n",
            "|001bbff3030c95740...|541933a931216d270...|   4|5695234|           0|          4.0|       250.0|        2.0|                   1|     0|           3|         0|       0|\n",
            "|001bbff3030c95740...|541933a931216d270...|   5|2012023|           0|          4.0|       625.0|        2.0|                   0|     0|           1|         0|       0|\n",
            "|001bbff3030c95740...|541933a931216d270...|   6| 309921|           0|          5.0|       525.0|        3.0|                   1|     0|           5|         0|       0|\n",
            "|001bbff3030c95740...|541933a931216d270...|   7|2722643|           0|          4.0|        75.0|        3.0|                   1|     1|           2|         1|       0|\n",
            "|001bbff3030c95740...|541933a931216d270...|   8|1734546|           0|          4.0|      1000.0|        2.0|                   1|     0|           4|         0|       0|\n",
            "|001bbff3030c95740...|541933a931216d270...|   9|1197530|           0|          4.0|       250.0|        3.0|                   1|     0|           2|         1|       0|\n",
            "|001bbff3030c95740...|541933a931216d270...|  10|2951009|           0|          4.0|       575.0|        2.0|                   1|     1|           4|         0|       0|\n",
            "+--------------------+--------------------+----+-------+------------+-------------+------------+-----------+--------------------+------+------------+----------+--------+\n",
            "only showing top 10 rows\n",
            "\n"
          ]
        }
      ]
    },
    {
      "cell_type": "markdown",
      "source": [
        "Merge impression data with main data"
      ],
      "metadata": {
        "id": "nmKivLdjSIu5"
      }
    },
    {
      "cell_type": "code",
      "source": [
        "merge_main = main.join(impr_test_seperate,[\"user_id\",\"search_id\"],how='inner').distinct()"
      ],
      "metadata": {
        "id": "TknISMPkRLTU"
      },
      "execution_count": null,
      "outputs": []
    },
    {
      "cell_type": "code",
      "source": [
        "merge_main= merge_main.drop('impressions')"
      ],
      "metadata": {
        "id": "eCppGWR_RZqK"
      },
      "execution_count": null,
      "outputs": []
    },
    {
      "cell_type": "code",
      "source": [
        "# create extra column is_clicked, as we only care if a property is clicked, don't care the exact number of clicks\n",
        "merge_main = merge_main.withColumn(\"is_clicked\",F.when(F.col('num_clicks')=='0', 0).otherwise(1))"
      ],
      "metadata": {
        "id": "lbrDZNDOk6V5"
      },
      "execution_count": null,
      "outputs": []
    },
    {
      "cell_type": "markdown",
      "source": [
        "Merge with amenities data"
      ],
      "metadata": {
        "id": "FpdHqNe7kie3"
      }
    },
    {
      "cell_type": "code",
      "source": [
        "merge_all = merge_main.join(amenities,on=['prop_id'], how='left')"
      ],
      "metadata": {
        "id": "-GJ3-Oh7kNQP"
      },
      "execution_count": null,
      "outputs": []
    },
    {
      "cell_type": "code",
      "source": [
        "merge_all.dtypes"
      ],
      "metadata": {
        "colab": {
          "base_uri": "https://localhost:8080/"
        },
        "id": "EGy-fspsk89l",
        "outputId": "c4a927da-87ca-4bcc-8df1-7c6669d98540"
      },
      "execution_count": null,
      "outputs": [
        {
          "output_type": "execute_result",
          "data": {
            "text/plain": [
              "[('prop_id', 'string'),\n",
              " ('user_id', 'string'),\n",
              " ('search_id', 'string'),\n",
              " ('search_timestamp', 'timestamp'),\n",
              " ('point_of_sale', 'double'),\n",
              " ('geo_location_country', 'string'),\n",
              " ('is_mobile', 'string'),\n",
              " ('destination_id', 'double'),\n",
              " ('checkin_date', 'timestamp'),\n",
              " ('checkout_date', 'timestamp'),\n",
              " ('adult_count', 'double'),\n",
              " ('child_count', 'double'),\n",
              " ('infant_count', 'double'),\n",
              " ('room_count', 'double'),\n",
              " ('sort_type', 'string'),\n",
              " ('applied_filters', 'string'),\n",
              " ('year', 'int'),\n",
              " ('month', 'int'),\n",
              " ('length_of_stay', 'int'),\n",
              " ('rank', 'string'),\n",
              " ('is_travel_ad', 'string'),\n",
              " ('review_rating', 'string'),\n",
              " ('review_count', 'string'),\n",
              " ('star_rating', 'string'),\n",
              " ('is_free_cancellation', 'string'),\n",
              " ('is_drr', 'string'),\n",
              " ('price_bucket', 'string'),\n",
              " ('num_clicks', 'string'),\n",
              " ('is_trans', 'string'),\n",
              " ('click_bool', 'int'),\n",
              " ('AirConditioning', 'string'),\n",
              " ('AirportTransfer', 'string'),\n",
              " ('Bar', 'string'),\n",
              " ('FreeAirportTransportation', 'string'),\n",
              " ('FreeBreakfast', 'string'),\n",
              " ('FreeParking', 'string'),\n",
              " ('FreeWiFi', 'string'),\n",
              " ('Gym', 'string'),\n",
              " ('HighSpeedInternet', 'string'),\n",
              " ('HotTub', 'string'),\n",
              " ('LaundryFacility', 'string'),\n",
              " ('Parking', 'string'),\n",
              " ('PetsAllowed', 'string'),\n",
              " ('PrivatePool', 'string'),\n",
              " ('SpaServices', 'string'),\n",
              " ('SwimmingPool', 'string'),\n",
              " ('WasherDryer', 'string'),\n",
              " ('WiFi', 'string')]"
            ]
          },
          "metadata": {},
          "execution_count": 26
        }
      ]
    },
    {
      "cell_type": "markdown",
      "source": [
        "# **Part III: statistical analysis**"
      ],
      "metadata": {
        "id": "XcSRmmwCReYX"
      }
    },
    {
      "cell_type": "markdown",
      "source": [
        "General Numeric Summaries"
      ],
      "metadata": {
        "id": "M5uLQvg2zoET"
      }
    },
    {
      "cell_type": "code",
      "source": [
        "# count number of search history\n",
        "main.count()"
      ],
      "metadata": {
        "colab": {
          "base_uri": "https://localhost:8080/"
        },
        "id": "VrtOZKxpz2kn",
        "outputId": "40c343f4-a736-4e8f-999c-b705cb71ac57"
      },
      "execution_count": null,
      "outputs": [
        {
          "output_type": "execute_result",
          "data": {
            "text/plain": [
              "2577809"
            ]
          },
          "metadata": {},
          "execution_count": 9
        }
      ]
    },
    {
      "cell_type": "code",
      "source": [
        "# count distinct number of users\n",
        "main.select(F.countDistinct(\"user_id\")).show()"
      ],
      "metadata": {
        "colab": {
          "base_uri": "https://localhost:8080/"
        },
        "id": "1SFejs0PymkZ",
        "outputId": "8f0a5f72-5573-4359-b2f4-1a3de7825819"
      },
      "execution_count": null,
      "outputs": [
        {
          "output_type": "stream",
          "name": "stdout",
          "text": [
            "+-----------------------+\n",
            "|count(DISTINCT user_id)|\n",
            "+-----------------------+\n",
            "|                 812638|\n",
            "+-----------------------+\n",
            "\n"
          ]
        }
      ]
    },
    {
      "cell_type": "code",
      "source": [
        "# number of search based on customer's location\n",
        "main.groupby(\"geo_location_country\").count().sort(F.col(\"count\").desc()).show()"
      ],
      "metadata": {
        "colab": {
          "base_uri": "https://localhost:8080/"
        },
        "id": "eBN6plhF2RMz",
        "outputId": "b2feeef8-d739-4e26-a38e-1661c058bdd8"
      },
      "execution_count": null,
      "outputs": [
        {
          "output_type": "stream",
          "name": "stdout",
          "text": [
            "+--------------------+-------+\n",
            "|geo_location_country|  count|\n",
            "+--------------------+-------+\n",
            "|                   1|1784053|\n",
            "|                   2| 171071|\n",
            "|                   3|  85298|\n",
            "|                   4|  60894|\n",
            "|                   5|  57624|\n",
            "|                   6|  55745|\n",
            "|                   7|  53899|\n",
            "|                   8|  53270|\n",
            "|                   9|  25849|\n",
            "|                  10|  20456|\n",
            "|                  11|  17462|\n",
            "|                  12|  17001|\n",
            "|                  13|  12271|\n",
            "|                  14|  10099|\n",
            "|                  15|   8344|\n",
            "|                  19|   6475|\n",
            "|                  17|   6316|\n",
            "|                  20|   6244|\n",
            "|                  16|   6022|\n",
            "|                  18|   5766|\n",
            "+--------------------+-------+\n",
            "only showing top 20 rows\n",
            "\n"
          ]
        }
      ]
    },
    {
      "cell_type": "code",
      "source": [
        "# number of search based on destination location\n",
        "main.groupby(\"destination_id\").count().sort(F.col(\"count\").desc()).show() "
      ],
      "metadata": {
        "colab": {
          "base_uri": "https://localhost:8080/"
        },
        "id": "8hmfeTgSI9sV",
        "outputId": "ee27194e-eb1e-44df-93d6-3bd084a9962f"
      },
      "execution_count": null,
      "outputs": [
        {
          "output_type": "stream",
          "name": "stdout",
          "text": [
            "+--------------+-----+\n",
            "|destination_id|count|\n",
            "+--------------+-----+\n",
            "|             2|52603|\n",
            "|             3|38232|\n",
            "|             1|35962|\n",
            "|            71|26599|\n",
            "|             4|21298|\n",
            "|            10|19425|\n",
            "|             6|17655|\n",
            "|             8|16372|\n",
            "|            18|16049|\n",
            "|             5|14803|\n",
            "|            12|14454|\n",
            "|             9|12686|\n",
            "|            11|12660|\n",
            "|             7|12601|\n",
            "|            15|12400|\n",
            "|            33|11446|\n",
            "|            13|11136|\n",
            "|            31|10910|\n",
            "|            32|10392|\n",
            "|            16|10284|\n",
            "+--------------+-----+\n",
            "only showing top 20 rows\n",
            "\n"
          ]
        }
      ]
    },
    {
      "cell_type": "code",
      "source": [
        "# filter out positive clicked instances\n",
        "clicked_records = merge_all.filter(F.col('is_clicked') == '1')"
      ],
      "metadata": {
        "id": "b907hIx-T5Ww"
      },
      "execution_count": null,
      "outputs": []
    },
    {
      "cell_type": "code",
      "source": [
        "# filter out positive transaction instances\n",
        "booked_records = merge_all.filter(F.col('is_trans') == '1')"
      ],
      "metadata": {
        "id": "xXfxqIV2VMMT"
      },
      "execution_count": null,
      "outputs": []
    },
    {
      "cell_type": "code",
      "source": [
        "# count positive clicked instances\n",
        "clicked_records.count()"
      ],
      "metadata": {
        "colab": {
          "base_uri": "https://localhost:8080/"
        },
        "id": "hynWcqWlVRSM",
        "outputId": "cf44a254-f6f9-44af-e8ac-61f55da8ee6a"
      },
      "execution_count": null,
      "outputs": [
        {
          "output_type": "execute_result",
          "data": {
            "text/plain": [
              "961595"
            ]
          },
          "metadata": {},
          "execution_count": 32
        }
      ]
    },
    {
      "cell_type": "code",
      "source": [
        "# count positive transanction instances\n",
        "booked_records.count()"
      ],
      "metadata": {
        "id": "V7W1-3oHVTlg",
        "colab": {
          "base_uri": "https://localhost:8080/"
        },
        "outputId": "9e500df5-3105-4da3-c7ad-e998cd1455d3"
      },
      "execution_count": null,
      "outputs": [
        {
          "output_type": "execute_result",
          "data": {
            "text/plain": [
              "113380"
            ]
          },
          "metadata": {},
          "execution_count": 39
        }
      ]
    },
    {
      "cell_type": "code",
      "source": [
        "cols = ['rank','is_travel_ad','review_rating','review_count','star_rating',\n",
        "        'is_free_cancellation','price_bucket','num_clicks','is_trans',\n",
        "        'AirConditioning','AirportTransfer','Bar','FreeAirportTransportation',\n",
        "        'FreeBreakfast','FreeParking','FreeWiFi','Gym','HighSpeedInternet',\n",
        "        'HotTub','LaundryFacility','Parking','PetsAllowed','PrivatePool','SpaServices',\n",
        "        'SwimmingPool','WasherDryer','WiFi']"
      ],
      "metadata": {
        "id": "PNaiG4YuluYy"
      },
      "execution_count": null,
      "outputs": []
    },
    {
      "cell_type": "code",
      "source": [
        "# 69% searches comes from country ID1, which could be united state\n",
        "1784053/2577809"
      ],
      "metadata": {
        "colab": {
          "base_uri": "https://localhost:8080/"
        },
        "id": "4IIRoJK4_POs",
        "outputId": "e707d1fc-1f3e-4a65-e202-53d6704fc768"
      },
      "execution_count": null,
      "outputs": [
        {
          "output_type": "execute_result",
          "data": {
            "text/plain": [
              "0.6920811433275312"
            ]
          },
          "metadata": {},
          "execution_count": 13
        }
      ]
    },
    {
      "cell_type": "code",
      "source": [
        "# filter out US data\n",
        "main_nr1 = main.filter(F.col('geo_location_country') == '1')"
      ],
      "metadata": {
        "id": "5-TtucWFAIXk"
      },
      "execution_count": null,
      "outputs": []
    },
    {
      "cell_type": "code",
      "source": [
        "# count US users\n",
        "main_nr1.select(F.countDistinct(\"user_id\")).show()"
      ],
      "metadata": {
        "colab": {
          "base_uri": "https://localhost:8080/"
        },
        "id": "igccnHcMemUM",
        "outputId": "53b3a1b7-e8e8-449c-97bf-3b3caa1e94e9"
      },
      "execution_count": null,
      "outputs": [
        {
          "output_type": "stream",
          "name": "stdout",
          "text": [
            "+-----------------------+\n",
            "|count(DISTINCT user_id)|\n",
            "+-----------------------+\n",
            "|                 531794|\n",
            "+-----------------------+\n",
            "\n"
          ]
        }
      ]
    },
    {
      "cell_type": "code",
      "source": [
        "# 65% users located in us\n",
        "531794/812638"
      ],
      "metadata": {
        "colab": {
          "base_uri": "https://localhost:8080/"
        },
        "id": "V_oG_W8ve4VS",
        "outputId": "a508039e-769e-47d3-ed4f-4fc44fe8e028"
      },
      "execution_count": null,
      "outputs": [
        {
          "output_type": "execute_result",
          "data": {
            "text/plain": [
              "0.6544045442127984"
            ]
          },
          "metadata": {},
          "execution_count": 22
        }
      ]
    },
    {
      "cell_type": "code",
      "source": [
        "# US destination country list\n",
        "main_nr1.groupby(\"destination_id\").count().sort(F.col(\"count\").desc()).show() "
      ],
      "metadata": {
        "colab": {
          "base_uri": "https://localhost:8080/"
        },
        "id": "qHleQ17jFY-z",
        "outputId": "3aad0f6c-ad2f-48a9-81c0-f7eee6413cd0"
      },
      "execution_count": null,
      "outputs": [
        {
          "output_type": "stream",
          "name": "stdout",
          "text": [
            "+--------------+-----+\n",
            "|destination_id|count|\n",
            "+--------------+-----+\n",
            "|             2|48020|\n",
            "|             3|33069|\n",
            "|            71|24508|\n",
            "|             4|18974|\n",
            "|             1|16872|\n",
            "|            10|16470|\n",
            "|             6|15298|\n",
            "|            18|14503|\n",
            "|             5|14307|\n",
            "|             8|12927|\n",
            "|             9|12601|\n",
            "|             7|11874|\n",
            "|            11|11626|\n",
            "|            12|11326|\n",
            "|            15|11315|\n",
            "|            33|10494|\n",
            "|            13|10156|\n",
            "|            28| 9459|\n",
            "|            31| 9092|\n",
            "|            16| 9077|\n",
            "+--------------+-----+\n",
            "only showing top 20 rows\n",
            "\n"
          ]
        }
      ]
    },
    {
      "cell_type": "markdown",
      "source": [
        "# **Part4: Focus on us**"
      ],
      "metadata": {
        "id": "HtRgQ4tYoa66"
      }
    },
    {
      "cell_type": "code",
      "source": [
        "# filter out US records\n",
        "us = merge_main.filter(F.col('geo_location_country') == '1')"
      ],
      "metadata": {
        "id": "CqDVWLAmpKba"
      },
      "execution_count": null,
      "outputs": []
    },
    {
      "cell_type": "code",
      "source": [
        "# Random sample 60% of us data\n",
        "us_sample= us.sample(0.6,123)"
      ],
      "metadata": {
        "id": "Z7JMQ0qYpgWH"
      },
      "execution_count": null,
      "outputs": []
    },
    {
      "cell_type": "code",
      "source": [
        "# positive transaction instances from US sample\n",
        "us_booked = us_sample.filter(F.col('is_trans')=='1')"
      ],
      "metadata": {
        "id": "z1VAwikHVzkK"
      },
      "execution_count": null,
      "outputs": []
    },
    {
      "cell_type": "code",
      "source": [
        "# negative transaction instances from US sample\n",
        "us_notbooked = us_sample.filter(F.col('is_trans')=='0')"
      ],
      "metadata": {
        "id": "wGKF8bL34fvF"
      },
      "execution_count": null,
      "outputs": []
    },
    {
      "cell_type": "code",
      "source": [
        "# count positive transaction instances from US sample\n",
        "us_booked.count()"
      ],
      "metadata": {
        "colab": {
          "base_uri": "https://localhost:8080/"
        },
        "id": "cJwLE7Ai4jTI",
        "outputId": "5d6e3cc4-59e7-47f9-90be-f94a204135a6"
      },
      "execution_count": null,
      "outputs": [
        {
          "output_type": "execute_result",
          "data": {
            "text/plain": [
              "55491"
            ]
          },
          "metadata": {},
          "execution_count": 24
        }
      ]
    },
    {
      "cell_type": "code",
      "source": [
        "# count negative transaction instances from US sample\n",
        "us_notbooked.count()"
      ],
      "metadata": {
        "colab": {
          "base_uri": "https://localhost:8080/"
        },
        "id": "G3rhE-AE5n43",
        "outputId": "ed00ad09-1094-44b5-8d2e-6d5d018a8b46"
      },
      "execution_count": null,
      "outputs": [
        {
          "output_type": "execute_result",
          "data": {
            "text/plain": [
              "75646830"
            ]
          },
          "metadata": {},
          "execution_count": 25
        }
      ]
    },
    {
      "cell_type": "code",
      "source": [
        "# look into frequency of num_clicks\n",
        "us_sample.groupby(\"num_clicks\").count().sort(F.col(\"count\").desc()).show() "
      ],
      "metadata": {
        "colab": {
          "base_uri": "https://localhost:8080/"
        },
        "id": "sRE9GHBd5co0",
        "outputId": "bb83d88b-e679-4f22-8aca-1c1cb609ce06"
      },
      "execution_count": null,
      "outputs": [
        {
          "output_type": "stream",
          "name": "stdout",
          "text": [
            "+----------+--------+\n",
            "|num_clicks|   count|\n",
            "+----------+--------+\n",
            "|         0|75289427|\n",
            "|         1|  379475|\n",
            "|         2|   27858|\n",
            "|         3|    4163|\n",
            "|         4|     949|\n",
            "|         5|     283|\n",
            "|         6|     107|\n",
            "|         7|      25|\n",
            "|         8|      18|\n",
            "|         9|       8|\n",
            "|        12|       3|\n",
            "|        11|       2|\n",
            "|        22|       1|\n",
            "|        10|       1|\n",
            "|        35|       1|\n",
            "+----------+--------+\n",
            "\n"
          ]
        }
      ]
    },
    {
      "cell_type": "code",
      "source": [
        "# look into frequency of length of stay\n",
        "us_sample.groupby(\"length_of_stay\").count().sort(F.col(\"count\").desc()).show() \n"
      ],
      "metadata": {
        "colab": {
          "base_uri": "https://localhost:8080/"
        },
        "id": "CGS4fEk-67ry",
        "outputId": "bff3d8ff-1a8f-4d6f-f076-0b01272ee465"
      },
      "execution_count": null,
      "outputs": [
        {
          "output_type": "stream",
          "name": "stdout",
          "text": [
            "+--------------+--------+\n",
            "|length_of_stay|   count|\n",
            "+--------------+--------+\n",
            "|             1|28855158|\n",
            "|             2|14214528|\n",
            "|             3|11106787|\n",
            "|             4| 7745580|\n",
            "|             5| 4827951|\n",
            "|             7| 3679421|\n",
            "|             6| 2522458|\n",
            "|             8|  849486|\n",
            "|             9|  537946|\n",
            "|            10|  304275|\n",
            "|            14|  250714|\n",
            "|            11|  149711|\n",
            "|            13|   94609|\n",
            "|            12|   90879|\n",
            "|            28|   89951|\n",
            "|            15|   71671|\n",
            "|            27|   51848|\n",
            "|            21|   47308|\n",
            "|            16|   42915|\n",
            "|            17|   29585|\n",
            "+--------------+--------+\n",
            "only showing top 20 rows\n",
            "\n"
          ]
        }
      ]
    },
    {
      "cell_type": "code",
      "source": [
        "# look into frequency of star_rating\n",
        "us_sample.groupby(\"star_rating\").count().sort(F.col(\"count\").desc()).show() "
      ],
      "metadata": {
        "colab": {
          "base_uri": "https://localhost:8080/"
        },
        "id": "OuQrzSbSaSW0",
        "outputId": "85f89517-3c22-4282-9bf2-a2cd8f12df94"
      },
      "execution_count": null,
      "outputs": [
        {
          "output_type": "stream",
          "name": "stdout",
          "text": [
            "+-----------+--------+\n",
            "|star_rating|   count|\n",
            "+-----------+--------+\n",
            "|        3.0|24362414|\n",
            "|       null|20427067|\n",
            "|        4.0|19039365|\n",
            "|        2.0| 6039869|\n",
            "|        5.0| 5795333|\n",
            "|        1.0|   37617|\n",
            "|        0.0|     551|\n",
            "|        6.0|     105|\n",
            "+-----------+--------+\n",
            "\n"
          ]
        }
      ]
    },
    {
      "cell_type": "markdown",
      "source": [
        "As the below shown, extreme low click through rate and transaction rate over all us related impressions."
      ],
      "metadata": {
        "id": "6nffRykhglt7"
      }
    },
    {
      "cell_type": "code",
      "source": [
        "# filter out all us positive transaction impressions\n",
        "us_booked_all = us.filter(F.col('is_trans')=='1')"
      ],
      "metadata": {
        "id": "O2nwntfSGXhN"
      },
      "execution_count": null,
      "outputs": []
    },
    {
      "cell_type": "code",
      "source": [
        "# filter out all us negative transaction impressions\n",
        "us_notbooked_all = us.filter(F.col('is_trans')=='0')"
      ],
      "metadata": {
        "id": "DSPzZnXZHaVT"
      },
      "execution_count": null,
      "outputs": []
    },
    {
      "cell_type": "code",
      "source": [
        "# count all us positive transaction impressions\n",
        "us_booked_all.count()"
      ],
      "metadata": {
        "colab": {
          "base_uri": "https://localhost:8080/"
        },
        "id": "xLz9ACs4HTrZ",
        "outputId": "594f5c2c-0ae3-4b08-8198-4c780086402e"
      },
      "execution_count": null,
      "outputs": [
        {
          "output_type": "execute_result",
          "data": {
            "text/plain": [
              "92555"
            ]
          },
          "metadata": {},
          "execution_count": 20
        }
      ]
    },
    {
      "cell_type": "code",
      "source": [
        "# count all us negative transaction impressions\n",
        "us_notbooked_all.count()"
      ],
      "metadata": {
        "colab": {
          "base_uri": "https://localhost:8080/"
        },
        "id": "gQH79nbaHdin",
        "outputId": "1d8d1627-9dea-4b7b-8c4a-96a431fc7a66"
      },
      "execution_count": null,
      "outputs": [
        {
          "output_type": "execute_result",
          "data": {
            "text/plain": [
              "126071956"
            ]
          },
          "metadata": {},
          "execution_count": 21
        }
      ]
    },
    {
      "cell_type": "code",
      "source": [
        "# number of total us impressions\n",
        "92555+126071956"
      ],
      "metadata": {
        "colab": {
          "base_uri": "https://localhost:8080/"
        },
        "id": "bzbyo09asVBi",
        "outputId": "69a689fc-fb16-47f8-c325-1939ce5e414c"
      },
      "execution_count": null,
      "outputs": [
        {
          "output_type": "execute_result",
          "data": {
            "text/plain": [
              "126164511"
            ]
          },
          "metadata": {},
          "execution_count": 38
        }
      ]
    },
    {
      "cell_type": "code",
      "source": [
        "# Transaction rate over impressions\n",
        "92555/(92555+126071956)"
      ],
      "metadata": {
        "colab": {
          "base_uri": "https://localhost:8080/"
        },
        "id": "dmLRsOPRHhjR",
        "outputId": "919e1a69-c16e-4cee-c65d-3b76a9a32ea0"
      },
      "execution_count": null,
      "outputs": [
        {
          "output_type": "execute_result",
          "data": {
            "text/plain": [
              "0.0007336056650669378"
            ]
          },
          "metadata": {},
          "execution_count": 34
        }
      ]
    },
    {
      "cell_type": "code",
      "source": [
        "# Transaction rate over search results\n",
        "92555/1784053"
      ],
      "metadata": {
        "colab": {
          "base_uri": "https://localhost:8080/"
        },
        "id": "yFM_8Crcocmo",
        "outputId": "532b9250-f28d-4936-929a-84445e115818"
      },
      "execution_count": null,
      "outputs": [
        {
          "output_type": "execute_result",
          "data": {
            "text/plain": [
              "0.0518790641309423"
            ]
          },
          "metadata": {},
          "execution_count": 35
        }
      ]
    },
    {
      "cell_type": "code",
      "source": [
        "# filter out all us negative click through impressions\n",
        "us_notclick = us.filter(F.col('num_clicks')=='0')"
      ],
      "metadata": {
        "id": "gKnJQaDQGkyg"
      },
      "execution_count": null,
      "outputs": []
    },
    {
      "cell_type": "code",
      "source": [
        "# count all us negative click through impressions\n",
        "us_notclick.count()"
      ],
      "metadata": {
        "colab": {
          "base_uri": "https://localhost:8080/"
        },
        "id": "JZwhLHPvGwAH",
        "outputId": "2d4cfb8f-a7b3-4aca-bce1-dfff36fa91e4"
      },
      "execution_count": null,
      "outputs": [
        {
          "output_type": "execute_result",
          "data": {
            "text/plain": [
              "125476375"
            ]
          },
          "metadata": {},
          "execution_count": 18
        }
      ]
    },
    {
      "cell_type": "code",
      "source": [
        "# total number of positive clicked instance\n",
        "92555+126071956-125476375"
      ],
      "metadata": {
        "colab": {
          "base_uri": "https://localhost:8080/"
        },
        "id": "KeqDRf1fkrs3",
        "outputId": "aa34b2ea-1685-4e46-f7b8-491f3dceab04"
      },
      "execution_count": null,
      "outputs": [
        {
          "output_type": "execute_result",
          "data": {
            "text/plain": [
              "688136"
            ]
          },
          "metadata": {},
          "execution_count": 19
        }
      ]
    },
    {
      "cell_type": "code",
      "source": [
        "# Click through rate over impressions\n",
        "688136/(92555+126071956)"
      ],
      "metadata": {
        "colab": {
          "base_uri": "https://localhost:8080/"
        },
        "id": "sXoF3x16n-cv",
        "outputId": "f9fd1bc1-764a-4787-972d-d77109fe2531"
      },
      "execution_count": null,
      "outputs": [
        {
          "output_type": "execute_result",
          "data": {
            "text/plain": [
              "0.005454275489562988"
            ]
          },
          "metadata": {},
          "execution_count": 36
        }
      ]
    },
    {
      "cell_type": "code",
      "source": [
        "# Click through rate over search results\n",
        "688136/1784053"
      ],
      "metadata": {
        "colab": {
          "base_uri": "https://localhost:8080/"
        },
        "id": "-sohvbrzo03_",
        "outputId": "5a619bba-572e-4295-9e37-80e50ac4b289"
      },
      "execution_count": null,
      "outputs": [
        {
          "output_type": "execute_result",
          "data": {
            "text/plain": [
              "0.38571499837729034"
            ]
          },
          "metadata": {},
          "execution_count": 37
        }
      ]
    }
  ]
}