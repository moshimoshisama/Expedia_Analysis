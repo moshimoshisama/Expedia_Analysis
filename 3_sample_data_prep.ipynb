{
  "cells": [
    {
      "cell_type": "markdown",
      "metadata": {
        "id": "view-in-github",
        "colab_type": "text"
      },
      "source": [
        "<a href=\"https://colab.research.google.com/github/moshimoshisama/Expedia_Analysis/blob/main/3_sample_data_prep.ipynb\" target=\"_parent\"><img src=\"https://colab.research.google.com/assets/colab-badge.svg\" alt=\"Open In Colab\"/></a>"
      ]
    },
    {
      "cell_type": "markdown",
      "metadata": {
        "id": "ZZaV-x5bN0a2"
      },
      "source": [
        "This notebook sample the data, as only takes the top3 frequent countries with all their positive click through instances and we sampled negative instances to match the number and to solve unbalanced classes. Note that a transaction must happen with a click, by taking all positive click through instances, we are taking all positive transaction instances."
      ]
    },
    {
      "cell_type": "markdown",
      "metadata": {
        "id": "LGbd3VxtN14f"
      },
      "source": [
        "# **Part I: Pyspark installation & build session**"
      ]
    },
    {
      "cell_type": "code",
      "execution_count": 1,
      "metadata": {
        "colab": {
          "base_uri": "https://localhost:8080/"
        },
        "id": "pSC0OmxgKJxe",
        "outputId": "a62b052a-48a0-4d12-d6f3-f8ebb27fbef7"
      },
      "outputs": [
        {
          "output_type": "stream",
          "name": "stdout",
          "text": [
            "Requirement already satisfied: pyspark in /usr/local/lib/python3.7/dist-packages (3.2.1)\n",
            "Requirement already satisfied: py4j in /usr/local/lib/python3.7/dist-packages (0.10.9.3)\n",
            "Requirement already satisfied: findspark in /usr/local/lib/python3.7/dist-packages (2.0.1)\n"
          ]
        }
      ],
      "source": [
        "!pip install pyspark py4j findspark"
      ]
    },
    {
      "cell_type": "code",
      "execution_count": 2,
      "metadata": {
        "id": "UboZIJsqKOtN"
      },
      "outputs": [],
      "source": [
        "from pyspark.sql import SparkSession\n",
        "import pyspark.sql.functions as F\n",
        "from pyspark.sql import SQLContext\n",
        "from pyspark.sql.types import IntegerType"
      ]
    },
    {
      "cell_type": "code",
      "execution_count": 3,
      "metadata": {
        "id": "z-zM6ghmKRJg"
      },
      "outputs": [],
      "source": [
        "MAX_MEMORY = \"45g\"\n",
        "\n",
        "spark = SparkSession \\\n",
        "    .builder \\\n",
        "    .appName(\"expedia_analytics\") \\\n",
        "    .config(\"spark.executor.memory\", MAX_MEMORY) \\\n",
        "    .config(\"spark.driver.memory\", MAX_MEMORY) \\\n",
        "    .config('spark.driver.maxResultSize', '10G')\\\n",
        "    .getOrCreate()"
      ]
    },
    {
      "cell_type": "code",
      "execution_count": 4,
      "metadata": {
        "colab": {
          "base_uri": "https://localhost:8080/"
        },
        "id": "5cLvp-lKKUT_",
        "outputId": "231f72c3-9ffa-4eba-fac7-a0b79a73a843"
      },
      "outputs": [
        {
          "output_type": "stream",
          "name": "stdout",
          "text": [
            "Drive already mounted at /content/drive; to attempt to forcibly remount, call drive.mount(\"/content/drive\", force_remount=True).\n"
          ]
        }
      ],
      "source": [
        "from google.colab import drive\n",
        "drive.mount('/content/drive')"
      ]
    },
    {
      "cell_type": "markdown",
      "source": [
        "# **Part II: data Preprocessing**"
      ],
      "metadata": {
        "id": "58jCIMgS0_Zo"
      }
    },
    {
      "cell_type": "code",
      "execution_count": 5,
      "metadata": {
        "id": "KeuD6mnAKVqG"
      },
      "outputs": [],
      "source": [
        "main = spark.read.format(\"csv\").option(\"header\",\"true\").load(\"drive/MyDrive/expedia/source/main.tsv\",sep=\"\\t\")"
      ]
    },
    {
      "cell_type": "code",
      "execution_count": 6,
      "metadata": {
        "id": "R7uxJGStKXlL"
      },
      "outputs": [],
      "source": [
        "# calculate exact columns for future potential use\n",
        "main = main.withColumn('year_month',main.checkin_date[0:7])\n",
        "main = main.withColumn('checkin_date',F.to_timestamp(main.checkin_date,'yyyy-MM-dd'))\n",
        "main = main.withColumn('year',F.year(main.checkin_date))\n",
        "main = main.withColumn('month',F.month(main.checkin_date))\n"
      ]
    },
    {
      "cell_type": "code",
      "execution_count": 10,
      "metadata": {
        "id": "bi0ob2QbKZA7"
      },
      "outputs": [],
      "source": [
        "# filter out the top 3 countries data\n",
        "top1 = main.filter(F.col('geo_location_country') == '1')\n",
        "top2 = main.filter(F.col('geo_location_country') == '2')\n",
        "top3 = main.filter(F.col('geo_location_country') == '3')"
      ]
    },
    {
      "cell_type": "code",
      "execution_count": null,
      "metadata": {
        "colab": {
          "base_uri": "https://localhost:8080/"
        },
        "id": "u6vH1_CLmRiV",
        "outputId": "396275bf-6392-4de7-baf6-47da3953e51c"
      },
      "outputs": [
        {
          "name": "stdout",
          "output_type": "stream",
          "text": [
            "+--------------+-----+\n",
            "|destination_id|count|\n",
            "+--------------+-----+\n",
            "|             2|48020|\n",
            "|             3|33069|\n",
            "|            71|24508|\n",
            "|             4|18974|\n",
            "|             1|16872|\n",
            "|            10|16470|\n",
            "|             6|15298|\n",
            "|            18|14503|\n",
            "|             5|14307|\n",
            "|             8|12927|\n",
            "|             9|12601|\n",
            "|             7|11874|\n",
            "|            11|11626|\n",
            "|            12|11326|\n",
            "|            15|11315|\n",
            "|            33|10494|\n",
            "|            13|10156|\n",
            "|            28| 9459|\n",
            "|            31| 9092|\n",
            "|            16| 9077|\n",
            "+--------------+-----+\n",
            "only showing top 20 rows\n",
            "\n"
          ]
        }
      ],
      "source": [
        "# show top destinations of country 1\n",
        "top1.groupby(\"destination_id\").count().sort(F.col(\"count\").desc()).show() "
      ]
    },
    {
      "cell_type": "code",
      "execution_count": null,
      "metadata": {
        "colab": {
          "base_uri": "https://localhost:8080/"
        },
        "id": "WNWNqdufmV2e",
        "outputId": "5e3ce5fa-7d3b-4160-f84e-7464ed76d58a"
      },
      "outputs": [
        {
          "name": "stdout",
          "output_type": "stream",
          "text": [
            "+--------------+-----+\n",
            "|destination_id|count|\n",
            "+--------------+-----+\n",
            "|            60| 4091|\n",
            "|            69| 3567|\n",
            "|            58| 3436|\n",
            "|            51| 3358|\n",
            "|           100| 2523|\n",
            "|             2| 2357|\n",
            "|           111| 2251|\n",
            "|           121| 2156|\n",
            "|           104| 2121|\n",
            "|           163| 1872|\n",
            "|           161| 1774|\n",
            "|           155| 1672|\n",
            "|           803| 1654|\n",
            "|           165| 1654|\n",
            "|           160| 1607|\n",
            "|           196| 1601|\n",
            "|             3| 1515|\n",
            "|           232| 1333|\n",
            "|           202| 1296|\n",
            "|           493| 1045|\n",
            "+--------------+-----+\n",
            "only showing top 20 rows\n",
            "\n"
          ]
        }
      ],
      "source": [
        "# show top destinations of country 2\n",
        "top2.groupby(\"destination_id\").count().sort(F.col(\"count\").desc()).show() "
      ]
    },
    {
      "cell_type": "code",
      "execution_count": null,
      "metadata": {
        "colab": {
          "base_uri": "https://localhost:8080/"
        },
        "id": "VYpPnladmYFN",
        "outputId": "5f4f7b25-4791-4df1-95dc-4f8dfef1dbfa"
      },
      "outputs": [
        {
          "name": "stdout",
          "output_type": "stream",
          "text": [
            "+--------------+-----+\n",
            "|destination_id|count|\n",
            "+--------------+-----+\n",
            "|            57| 2497|\n",
            "|            47| 1871|\n",
            "|           256|  989|\n",
            "|           311|  981|\n",
            "|           345|  865|\n",
            "|           364|  853|\n",
            "|           405|  774|\n",
            "|           404|  767|\n",
            "|           349|  757|\n",
            "|           377|  721|\n",
            "|           491|  682|\n",
            "|           492|  565|\n",
            "|           117|  558|\n",
            "|           614|  540|\n",
            "|           361|  540|\n",
            "|           499|  514|\n",
            "|           656|  478|\n",
            "|           663|  470|\n",
            "|           682|  399|\n",
            "|           745|  397|\n",
            "+--------------+-----+\n",
            "only showing top 20 rows\n",
            "\n"
          ]
        }
      ],
      "source": [
        "# show top destinations of country 3\n",
        "top3.groupby(\"destination_id\").count().sort(F.col(\"count\").desc()).show() "
      ]
    },
    {
      "cell_type": "code",
      "execution_count": 7,
      "metadata": {
        "id": "bEM_m7F3KcX7"
      },
      "outputs": [],
      "source": [
        "# function to expand the impression list\n",
        "def get_impr(df):\n",
        "  impr = df.select([\"user_id\",\"search_id\",\"impressions\"])\n",
        "  impr_test = impr.withColumn(\"impressions\",F.explode(F.split(\"impressions\",\"\\\\|\")))\n",
        "  impr_test_seperate = impr_test.withColumn(\"rank\",F.split(F.col(\"impressions\"),\",\").getItem(0))\\\n",
        "  .withColumn(\"prop_id\",F.split(F.col(\"impressions\"),\",\").getItem(1))\\\n",
        "  .withColumn(\"is_travel_ad\",F.split(F.col(\"impressions\"),\",\").getItem(2))\\\n",
        "  .withColumn(\"review_rating\",F.split(F.col(\"impressions\"),\",\").getItem(3))\\\n",
        "  .withColumn(\"review_count\",F.split(F.col(\"impressions\"),\",\").getItem(4))\\\n",
        "  .withColumn(\"star_rating\",F.split(F.col(\"impressions\"),\",\").getItem(5))\\\n",
        "  .withColumn(\"is_free_cancellation\",F.split(F.col(\"impressions\"),\",\").getItem(6))\\\n",
        "  .withColumn(\"is_drr\",F.split(F.col(\"impressions\"),\",\").getItem(7))\\\n",
        "  .withColumn(\"price_bucket\",F.split(F.col(\"impressions\"),\",\").getItem(8))\\\n",
        "  .withColumn(\"num_clicks\",F.split(F.col(\"impressions\"),\",\").getItem(9))\\\n",
        "  .withColumn(\"is_trans\",F.split(F.col(\"impressions\"),\",\").getItem(10))\\\n",
        "  .drop(\"impressions\")\n",
        "  impr_test_seperate = impr_test_seperate.withColumn(\"is_clicked\",F.when(F.col('num_clicks')=='0', 0).otherwise(1))\n",
        "  return df.join(impr_test_seperate,[\"user_id\",\"search_id\"],how='inner').distinct()"
      ]
    },
    {
      "cell_type": "code",
      "execution_count": 11,
      "metadata": {
        "id": "kpOB1tEbZxnl"
      },
      "outputs": [],
      "source": [
        "top1_impr = get_impr(top1)\n",
        "top2_impr = get_impr(top2)\n",
        "top3_impr = get_impr(top3)"
      ]
    },
    {
      "cell_type": "code",
      "source": [
        ""
      ],
      "metadata": {
        "id": "GXz4KkQJ1uQ2"
      },
      "execution_count": null,
      "outputs": []
    },
    {
      "cell_type": "markdown",
      "source": [
        "Sample the data and export as csv, here we guess the fractions of sampling negative instances based on previous preliminary analysis"
      ],
      "metadata": {
        "id": "93yj_I-u1pUW"
      }
    },
    {
      "cell_type": "code",
      "execution_count": null,
      "metadata": {
        "id": "rfdpTN6mwe_w"
      },
      "outputs": [],
      "source": [
        "top3_sample = top3_impr.sampleBy(\"is_clicked\",\n",
        "             fractions={1:1.0,\n",
        "                  0:0.01},\n",
        "             seed=40)"
      ]
    },
    {
      "cell_type": "code",
      "execution_count": null,
      "metadata": {
        "id": "mwDyS7XpxRBp"
      },
      "outputs": [],
      "source": [
        "top3_sample = top3_sample.toPandas()"
      ]
    },
    {
      "cell_type": "code",
      "execution_count": null,
      "metadata": {
        "id": "ClY8aIEixcbn"
      },
      "outputs": [],
      "source": [
        "top3_sample.to_csv('drive/MyDrive/expedia/source/top3_sample.csv',header=True,index=False)"
      ]
    },
    {
      "cell_type": "code",
      "execution_count": null,
      "metadata": {
        "id": "S2wk8A59xiSN"
      },
      "outputs": [],
      "source": [
        "top2_sample_0 = top2_impr.sampleBy(\"is_clicked\",\n",
        "             fractions={0:0.004},\n",
        "             seed=41)"
      ]
    },
    {
      "cell_type": "code",
      "execution_count": null,
      "metadata": {
        "id": "y9uqs4I8A81_"
      },
      "outputs": [],
      "source": [
        "top2_sample_1 = top2_impr.filter(F.col('is_clicked')==1)"
      ]
    },
    {
      "cell_type": "code",
      "execution_count": null,
      "metadata": {
        "id": "8S0x5k9Exrej"
      },
      "outputs": [],
      "source": [
        "top2_sample_1 = top2_sample_1.toPandas()"
      ]
    },
    {
      "cell_type": "code",
      "execution_count": null,
      "metadata": {
        "id": "bZ0FjIuKxu1F"
      },
      "outputs": [],
      "source": [
        "top2_sample_1.to_csv('drive/MyDrive/expedia/source/top2_1_sample.csv',header=True,index=False)"
      ]
    },
    {
      "cell_type": "code",
      "execution_count": null,
      "metadata": {
        "id": "2UKnvCqvIol9"
      },
      "outputs": [],
      "source": [
        "top2_sample_0.coalesce(1).write.format('com.databricks.spark.csv').save('drive/MyDrive/expedia/source/top2_0_sample.csv',header = 'true')"
      ]
    },
    {
      "cell_type": "code",
      "execution_count": null,
      "metadata": {
        "id": "yEP8GM3mBj6H"
      },
      "outputs": [],
      "source": [
        "top1_sample_1 = top1_impr.filter(F.col('is_clicked')==1)"
      ]
    },
    {
      "cell_type": "code",
      "execution_count": 19,
      "metadata": {
        "id": "85Jhb4rfxyta"
      },
      "outputs": [],
      "source": [
        "top1_sample_0 = top1_impr.sampleBy(\"is_clicked\",\n",
        "             fractions={0:0.005},\n",
        "             seed=42)"
      ]
    },
    {
      "cell_type": "code",
      "execution_count": null,
      "metadata": {
        "colab": {
          "background_save": true
        },
        "id": "UPlnE3h0I89s"
      },
      "outputs": [],
      "source": [
        "top1_sample_1.coalesce(1).write.format('com.databricks.spark.csv').save('drive/MyDrive/expedia/source/top1_1_sample.csv',header = 'true')"
      ]
    },
    {
      "cell_type": "code",
      "execution_count": 21,
      "metadata": {
        "id": "j3vcVOyjJEXx"
      },
      "outputs": [],
      "source": [
        "top1_sample_0.coalesce(1).write.format('com.databricks.spark.csv').save('drive/MyDrive/expedia/source/1_0_sample_data_test.csv',header = 'true')"
      ]
    }
  ],
  "metadata": {
    "colab": {
      "collapsed_sections": [],
      "name": "3_sample_data_prep.ipynb",
      "provenance": [],
      "authorship_tag": "ABX9TyNs9HnJqQbRDm4mrZi/Zk7H",
      "include_colab_link": true
    },
    "kernelspec": {
      "display_name": "Python 3",
      "name": "python3"
    },
    "language_info": {
      "name": "python"
    }
  },
  "nbformat": 4,
  "nbformat_minor": 0
}