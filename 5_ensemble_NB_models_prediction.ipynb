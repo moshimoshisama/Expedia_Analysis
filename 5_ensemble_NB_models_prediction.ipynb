{
  "nbformat": 4,
  "nbformat_minor": 0,
  "metadata": {
    "colab": {
      "name": "5_ensemble_NB_models_prediction.ipynb",
      "provenance": [],
      "authorship_tag": "ABX9TyOxfUst46r4Y9aDq4prdivD",
      "include_colab_link": true
    },
    "kernelspec": {
      "name": "python3",
      "display_name": "Python 3"
    },
    "language_info": {
      "name": "python"
    }
  },
  "cells": [
    {
      "cell_type": "markdown",
      "metadata": {
        "id": "view-in-github",
        "colab_type": "text"
      },
      "source": [
        "<a href=\"https://colab.research.google.com/github/moshimoshisama/Expedia_Analysis/blob/main/5_ensemble_NB_models_prediction.ipynb\" target=\"_parent\"><img src=\"https://colab.research.google.com/assets/colab-badge.svg\" alt=\"Open In Colab\"/></a>"
      ]
    },
    {
      "cell_type": "markdown",
      "source": [
        "This notebook takes the sampled data and train 5 ensemble models and 3 Naive Bayes models on click through and transaction perdictions"
      ],
      "metadata": {
        "id": "7HqEFyDf6RRX"
      }
    },
    {
      "cell_type": "markdown",
      "source": [
        "# **Part I: Data read in**"
      ],
      "metadata": {
        "id": "7A1P60xQ6gVB"
      }
    },
    {
      "cell_type": "code",
      "execution_count": 1,
      "metadata": {
        "id": "SCg3GualXx5D"
      },
      "outputs": [],
      "source": [
        "import pandas as pd\n",
        "import numpy as np\n",
        "import seaborn as sb\n",
        "import matplotlib.pyplot as plt"
      ]
    },
    {
      "cell_type": "code",
      "source": [
        "from google.colab import drive\n",
        "drive.mount('/content/drive')"
      ],
      "metadata": {
        "colab": {
          "base_uri": "https://localhost:8080/"
        },
        "id": "FoZ9I3s3X8dM",
        "outputId": "b1afdb72-1d32-4243-cdbf-791a29e7d888"
      },
      "execution_count": 2,
      "outputs": [
        {
          "output_type": "stream",
          "name": "stdout",
          "text": [
            "Drive already mounted at /content/drive; to attempt to forcibly remount, call drive.mount(\"/content/drive\", force_remount=True).\n"
          ]
        }
      ]
    },
    {
      "cell_type": "code",
      "source": [
        "# Read in all sampled data\n",
        "top10 = pd.read_csv(\"/content/drive/MyDrive/expedia/source/top1_0_data.csv\",sep=\",\")\n",
        "top11 = pd.read_csv(\"/content/drive/MyDrive/expedia/source/top1_1_sample_data.csv\",sep=\",\")\n",
        "top21 = pd.read_csv(\"/content/drive/MyDrive/expedia/source/top2_1_sample.csv\",sep=\",\")\n",
        "top20 = pd.read_csv(\"/content/drive/MyDrive/expedia/source/top2_0_sample_data.csv\",sep=\",\")\n",
        "top3 = pd.read_csv(\"/content/drive/MyDrive/expedia/source/top3_sample.csv\",sep=\",\")"
      ],
      "metadata": {
        "id": "MAG2z51kX-eW"
      },
      "execution_count": 3,
      "outputs": []
    },
    {
      "cell_type": "code",
      "source": [
        "top_list = [top10,top11,top21,top20,top3]"
      ],
      "metadata": {
        "id": "6xcX0F2DYn3G"
      },
      "execution_count": 4,
      "outputs": []
    },
    {
      "cell_type": "code",
      "source": [
        "top_all = pd.concat(top_list)"
      ],
      "metadata": {
        "id": "URBgtID0YqWf"
      },
      "execution_count": 5,
      "outputs": []
    },
    {
      "cell_type": "code",
      "source": [
        "amenities = pd.read_csv(\"drive/MyDrive/expedia/source/amenities.tsv\",sep=\"\\t\")"
      ],
      "metadata": {
        "id": "UIoDIXvWbrAo"
      },
      "execution_count": 6,
      "outputs": []
    },
    {
      "cell_type": "code",
      "source": [
        "top_all_merge = top_all.merge(amenities,on=['prop_id'], how='left')"
      ],
      "metadata": {
        "id": "d3KNbBWnbtQt"
      },
      "execution_count": 7,
      "outputs": []
    },
    {
      "cell_type": "code",
      "source": [
        "top_all_merge.dtypes"
      ],
      "metadata": {
        "colab": {
          "base_uri": "https://localhost:8080/"
        },
        "id": "Ev5SRJVobvS-",
        "outputId": "a5a8822d-3429-40e0-8b34-11ff770dbee0"
      },
      "execution_count": null,
      "outputs": [
        {
          "output_type": "execute_result",
          "data": {
            "text/plain": [
              "user_id                       object\n",
              "search_id                     object\n",
              "search_timestamp              object\n",
              "point_of_sale                  int64\n",
              "geo_location_country           int64\n",
              "is_mobile                      int64\n",
              "destination_id                 int64\n",
              "checkin_date                  object\n",
              "checkout_date                 object\n",
              "adult_count                    int64\n",
              "child_count                    int64\n",
              "infant_count                   int64\n",
              "room_count                     int64\n",
              "sort_type                     object\n",
              "applied_filters               object\n",
              "impressions                   object\n",
              "year_month                    object\n",
              "year                         float64\n",
              "month                        float64\n",
              "rank                           int64\n",
              "prop_id                        int64\n",
              "is_travel_ad                   int64\n",
              "review_rating                float64\n",
              "review_count                 float64\n",
              "star_rating                  float64\n",
              "is_free_cancellation           int64\n",
              "is_drr                         int64\n",
              "price_bucket                 float64\n",
              "num_clicks                     int64\n",
              "is_trans                       int64\n",
              "is_clicked                     int64\n",
              "AirConditioning              float64\n",
              "AirportTransfer              float64\n",
              "Bar                          float64\n",
              "FreeAirportTransportation    float64\n",
              "FreeBreakfast                float64\n",
              "FreeParking                  float64\n",
              "FreeWiFi                     float64\n",
              "Gym                          float64\n",
              "HighSpeedInternet            float64\n",
              "HotTub                       float64\n",
              "LaundryFacility              float64\n",
              "Parking                      float64\n",
              "PetsAllowed                  float64\n",
              "PrivatePool                  float64\n",
              "SpaServices                  float64\n",
              "SwimmingPool                 float64\n",
              "WasherDryer                  float64\n",
              "WiFi                         float64\n",
              "dtype: object"
            ]
          },
          "metadata": {},
          "execution_count": 11
        }
      ]
    },
    {
      "cell_type": "code",
      "source": [
        "# count for positive click through instances\n",
        "top_all_merge[top_all_merge.is_clicked == True].count()"
      ],
      "metadata": {
        "colab": {
          "base_uri": "https://localhost:8080/"
        },
        "id": "ZPMbSEftb2N7",
        "outputId": "210575c5-f690-4088-ed56-199d1ed85234"
      },
      "execution_count": null,
      "outputs": [
        {
          "output_type": "execute_result",
          "data": {
            "text/plain": [
              "user_id                      802820\n",
              "search_id                    802820\n",
              "search_timestamp             802820\n",
              "point_of_sale                802820\n",
              "geo_location_country         802820\n",
              "is_mobile                    802820\n",
              "destination_id               802820\n",
              "checkin_date                 802820\n",
              "checkout_date                802820\n",
              "adult_count                  802820\n",
              "child_count                  802820\n",
              "infant_count                 802820\n",
              "room_count                   802820\n",
              "sort_type                    802820\n",
              "applied_filters              206501\n",
              "impressions                  802820\n",
              "year_month                   802820\n",
              "year                         802820\n",
              "month                        802820\n",
              "rank                         802820\n",
              "prop_id                      802820\n",
              "is_travel_ad                 802820\n",
              "review_rating                802309\n",
              "review_count                 802309\n",
              "star_rating                  744405\n",
              "is_free_cancellation         802820\n",
              "is_drr                       802820\n",
              "price_bucket                 756242\n",
              "num_clicks                   802820\n",
              "is_trans                     802820\n",
              "is_clicked                   802820\n",
              "AirConditioning              784616\n",
              "AirportTransfer              784616\n",
              "Bar                          784616\n",
              "FreeAirportTransportation    784616\n",
              "FreeBreakfast                784616\n",
              "FreeParking                  784616\n",
              "FreeWiFi                     784616\n",
              "Gym                          784616\n",
              "HighSpeedInternet            784616\n",
              "HotTub                       784616\n",
              "LaundryFacility              784616\n",
              "Parking                      784616\n",
              "PetsAllowed                  784616\n",
              "PrivatePool                  784616\n",
              "SpaServices                  784616\n",
              "SwimmingPool                 784616\n",
              "WasherDryer                  784616\n",
              "WiFi                         784616\n",
              "dtype: int64"
            ]
          },
          "metadata": {},
          "execution_count": 12
        }
      ]
    },
    {
      "cell_type": "code",
      "source": [
        "# count for negative click through instances\n",
        "top_all_merge[top_all_merge.is_clicked == False].count()"
      ],
      "metadata": {
        "colab": {
          "base_uri": "https://localhost:8080/"
        },
        "id": "7hoJx7R0b-v6",
        "outputId": "bfbfed96-f6ca-4aa3-f629-a73d1ad31769"
      },
      "execution_count": null,
      "outputs": [
        {
          "output_type": "execute_result",
          "data": {
            "text/plain": [
              "user_id                      738343\n",
              "search_id                    738343\n",
              "search_timestamp             738343\n",
              "point_of_sale                738343\n",
              "geo_location_country         738343\n",
              "is_mobile                    738343\n",
              "destination_id               738343\n",
              "checkin_date                 738335\n",
              "checkout_date                738335\n",
              "adult_count                  738343\n",
              "child_count                  738343\n",
              "infant_count                 738343\n",
              "room_count                   738343\n",
              "sort_type                    738343\n",
              "applied_filters              200435\n",
              "impressions                  738343\n",
              "year_month                   738335\n",
              "year                         738335\n",
              "month                        738335\n",
              "rank                         738343\n",
              "prop_id                      738343\n",
              "is_travel_ad                 738343\n",
              "review_rating                737825\n",
              "review_count                 737825\n",
              "star_rating                  538643\n",
              "is_free_cancellation         738343\n",
              "is_drr                       738343\n",
              "price_bucket                 515570\n",
              "num_clicks                   738343\n",
              "is_trans                     738343\n",
              "is_clicked                   738343\n",
              "AirConditioning              668916\n",
              "AirportTransfer              668916\n",
              "Bar                          668916\n",
              "FreeAirportTransportation    668916\n",
              "FreeBreakfast                668916\n",
              "FreeParking                  668916\n",
              "FreeWiFi                     668916\n",
              "Gym                          668916\n",
              "HighSpeedInternet            668916\n",
              "HotTub                       668916\n",
              "LaundryFacility              668916\n",
              "Parking                      668916\n",
              "PetsAllowed                  668916\n",
              "PrivatePool                  668916\n",
              "SpaServices                  668916\n",
              "SwimmingPool                 668916\n",
              "WasherDryer                  668916\n",
              "WiFi                         668916\n",
              "dtype: int64"
            ]
          },
          "metadata": {},
          "execution_count": 13
        }
      ]
    },
    {
      "cell_type": "code",
      "source": [
        "# count for positive transaction instances\n",
        "top_all_merge[top_all_merge.is_trans == True].count()"
      ],
      "metadata": {
        "colab": {
          "base_uri": "https://localhost:8080/"
        },
        "id": "2tZ_Kho6cCkQ",
        "outputId": "81c0863b-5a93-481b-94cd-6657fba8f208"
      },
      "execution_count": null,
      "outputs": [
        {
          "output_type": "execute_result",
          "data": {
            "text/plain": [
              "user_id                      75084\n",
              "search_id                    75084\n",
              "search_timestamp             75084\n",
              "point_of_sale                75084\n",
              "geo_location_country         75084\n",
              "is_mobile                    75084\n",
              "destination_id               75084\n",
              "checkin_date                 75084\n",
              "checkout_date                75084\n",
              "adult_count                  75084\n",
              "child_count                  75084\n",
              "infant_count                 75084\n",
              "room_count                   75084\n",
              "sort_type                    75084\n",
              "applied_filters              16223\n",
              "impressions                  75084\n",
              "year_month                   75084\n",
              "year                         75084\n",
              "month                        75084\n",
              "rank                         75084\n",
              "prop_id                      75084\n",
              "is_travel_ad                 75084\n",
              "review_rating                74963\n",
              "review_count                 74963\n",
              "star_rating                  74564\n",
              "is_free_cancellation         75084\n",
              "is_drr                       75084\n",
              "price_bucket                 70603\n",
              "num_clicks                   75084\n",
              "is_trans                     75084\n",
              "is_clicked                   75084\n",
              "AirConditioning              75005\n",
              "AirportTransfer              75005\n",
              "Bar                          75005\n",
              "FreeAirportTransportation    75005\n",
              "FreeBreakfast                75005\n",
              "FreeParking                  75005\n",
              "FreeWiFi                     75005\n",
              "Gym                          75005\n",
              "HighSpeedInternet            75005\n",
              "HotTub                       75005\n",
              "LaundryFacility              75005\n",
              "Parking                      75005\n",
              "PetsAllowed                  75005\n",
              "PrivatePool                  75005\n",
              "SpaServices                  75005\n",
              "SwimmingPool                 75005\n",
              "WasherDryer                  75005\n",
              "WiFi                         75005\n",
              "dtype: int64"
            ]
          },
          "metadata": {},
          "execution_count": 14
        }
      ]
    },
    {
      "cell_type": "markdown",
      "source": [
        "# **Part II: Data prepocessing and resampling**"
      ],
      "metadata": {
        "id": "om2WsXt27Eb1"
      }
    },
    {
      "cell_type": "code",
      "source": [
        "# only keep property and amenity related features, drop the others\n",
        "top_all_merge = top_all_merge.drop(['user_id','search_id','search_timestamp','point_of_sale','is_mobile',\\\n",
        "                  'geo_location_country','destination_id','checkin_date',\\\n",
        "                  'checkout_date','adult_count','child_count','infant_count','room_count','impressions','year_month',\\\n",
        "                  'year','month','prop_id','num_clicks','applied_filters','sort_type'\\\n",
        "                  ],1)"
      ],
      "metadata": {
        "colab": {
          "base_uri": "https://localhost:8080/"
        },
        "id": "2ILtJhqjcTl8",
        "outputId": "50678e11-c266-4ff3-b844-a1dd11add760"
      },
      "execution_count": 8,
      "outputs": [
        {
          "output_type": "stream",
          "name": "stderr",
          "text": [
            "/usr/local/lib/python3.7/dist-packages/ipykernel_launcher.py:1: FutureWarning: In a future version of pandas all arguments of DataFrame.drop except for the argument 'labels' will be keyword-only\n",
            "  \"\"\"Entry point for launching an IPython kernel.\n"
          ]
        }
      ]
    },
    {
      "cell_type": "code",
      "source": [
        "top_all_merge = top_all_merge.fillna(0)"
      ],
      "metadata": {
        "id": "rfnkD2NNcWot"
      },
      "execution_count": 9,
      "outputs": []
    },
    {
      "cell_type": "code",
      "source": [
        "# features after drop\n",
        "top_all_merge.dtypes"
      ],
      "metadata": {
        "colab": {
          "base_uri": "https://localhost:8080/"
        },
        "id": "TXwxZpupcYja",
        "outputId": "25be0475-f81c-4e0a-98a3-59d27e69d64e"
      },
      "execution_count": null,
      "outputs": [
        {
          "output_type": "execute_result",
          "data": {
            "text/plain": [
              "is_travel_ad                   int64\n",
              "review_rating                float64\n",
              "star_rating                  float64\n",
              "is_free_cancellation           int64\n",
              "is_drr                         int64\n",
              "price_bucket                 float64\n",
              "is_trans                       int64\n",
              "is_clicked                     int64\n",
              "AirConditioning              float64\n",
              "AirportTransfer              float64\n",
              "Bar                          float64\n",
              "FreeAirportTransportation    float64\n",
              "FreeBreakfast                float64\n",
              "FreeParking                  float64\n",
              "FreeWiFi                     float64\n",
              "Gym                          float64\n",
              "HighSpeedInternet            float64\n",
              "HotTub                       float64\n",
              "LaundryFacility              float64\n",
              "Parking                      float64\n",
              "PetsAllowed                  float64\n",
              "PrivatePool                  float64\n",
              "SpaServices                  float64\n",
              "SwimmingPool                 float64\n",
              "WasherDryer                  float64\n",
              "WiFi                         float64\n",
              "dtype: object"
            ]
          },
          "metadata": {},
          "execution_count": 17
        }
      ]
    },
    {
      "cell_type": "code",
      "source": [
        "# Resampled transaction instances, number of negative instance match with positive instance\n",
        "import numpy as np\n",
        "\n",
        "book_indices = top_all_merge[top_all_merge.is_trans == 1].index\n",
        "random_indices = np.random.choice(book_indices, len(top_all_merge.loc[top_all_merge.is_trans == 1]), replace=False)\n",
        "book_sample = top_all_merge.loc[random_indices]\n",
        "\n",
        "not_booked = top_all_merge[top_all_merge.is_trans == 0].index\n",
        "random_indices = np.random.choice(not_booked, len(top_all_merge.loc[top_all_merge.is_trans == 1]), replace=False)\n",
        "not_book_sample = top_all_merge.loc[random_indices]\n",
        "\n",
        "trans_sample_data = pd.concat([not_book_sample, book_sample], axis=0)\n",
        "\n",
        "print(\"Percentage of not book impressions: \", len(trans_sample_data[trans_sample_data.is_trans == 0])/len(trans_sample_data))\n",
        "print(\"Percentage of book impression: \", len(trans_sample_data[trans_sample_data.is_trans == 1])/len(trans_sample_data))\n",
        "print(\"Total number of records in resampled data: \", len(trans_sample_data))"
      ],
      "metadata": {
        "colab": {
          "base_uri": "https://localhost:8080/"
        },
        "id": "iMnG4J08c2Zc",
        "outputId": "2d4ed18d-0a1e-4453-a602-f0935a41c7a1"
      },
      "execution_count": 15,
      "outputs": [
        {
          "output_type": "stream",
          "name": "stdout",
          "text": [
            "Percentage of not book impressions:  0.5\n",
            "Percentage of book impression:  0.5\n",
            "Total number of records in resampled data:  150168\n"
          ]
        }
      ]
    },
    {
      "cell_type": "code",
      "source": [
        "# since we already have less negative click through instance, we do not apply resampled and directly use it as train/test dataset\n",
        "print(\"Percentage of not click impressions: \", len(top_all_merge[top_all_merge.is_clicked == 0])/len(top_all_merge))\n",
        "print(\"Percentage of click impression: \", len(top_all_merge[top_all_merge.is_clicked == 1])/len(top_all_merge))\n",
        "print(\"Total number of records in resampled data: \", len(top_all_merge))"
      ],
      "metadata": {
        "colab": {
          "base_uri": "https://localhost:8080/"
        },
        "id": "cdPPhon9c3Z9",
        "outputId": "2e01c35f-16da-41ad-a901-ec867afc1672"
      },
      "execution_count": 16,
      "outputs": [
        {
          "output_type": "stream",
          "name": "stdout",
          "text": [
            "Percentage of not click impressions:  0.4790817064775108\n",
            "Percentage of click impression:  0.5209182935224892\n",
            "Total number of records in resampled data:  1541163\n"
          ]
        }
      ]
    },
    {
      "cell_type": "markdown",
      "source": [
        "# **Part III: Grid Search Parameter & Ensemble Models Training**"
      ],
      "metadata": {
        "id": "A6XPQzKg8LPj"
      }
    },
    {
      "cell_type": "code",
      "source": [
        "# identify predict result Y values\n",
        "Y1 = trans_sample_data['is_trans'].values\n",
        "Y2 = top_all_merge['is_clicked'].values"
      ],
      "metadata": {
        "id": "_IqLQZTbcb-F"
      },
      "execution_count": 10,
      "outputs": []
    },
    {
      "cell_type": "code",
      "source": [
        "# identify X values\n",
        "top_all_merge=top_all_merge.drop(['is_trans','is_clicked'],1)\n",
        "trans_sample_data=trans_sample_data.drop(['is_trans','is_clicked'],1)\n",
        "X1 = trans_sample_data.values\n",
        "X2 = top_all_merge.values"
      ],
      "metadata": {
        "colab": {
          "base_uri": "https://localhost:8080/"
        },
        "id": "T7DzezzRce0B",
        "outputId": "7548d332-3aa6-41cc-e973-3b08f0e8b813"
      },
      "execution_count": 11,
      "outputs": [
        {
          "output_type": "stream",
          "name": "stderr",
          "text": [
            "/usr/local/lib/python3.7/dist-packages/ipykernel_launcher.py:1: FutureWarning: In a future version of pandas all arguments of DataFrame.drop except for the argument 'labels' will be keyword-only\n",
            "  \"\"\"Entry point for launching an IPython kernel.\n"
          ]
        }
      ]
    },
    {
      "cell_type": "code",
      "source": [
        "# import ensembled and Naive Bayes models\n",
        "from sklearn.ensemble import RandomForestClassifier\n",
        "from sklearn.ensemble import GradientBoostingClassifier\n",
        "from sklearn.ensemble import BaggingClassifier\n",
        "from sklearn.ensemble import AdaBoostClassifier\n",
        "from sklearn.ensemble import ExtraTreesClassifier\n",
        "from sklearn.neural_network import MLPClassifier\n",
        "from sklearn.naive_bayes import GaussianNB\n",
        "from sklearn.naive_bayes import BernoulliNB\n",
        "from sklearn.naive_bayes import MultinomialNB\n",
        "from sklearn import metrics\n",
        "from sklearn.model_selection import train_test_split\n",
        "from sklearn.preprocessing import MinMaxScaler\n",
        "from sklearn.model_selection import GridSearchCV\n",
        "from sklearn.model_selection import cross_val_score"
      ],
      "metadata": {
        "id": "v1Fo2Bsgcfe4"
      },
      "execution_count": 12,
      "outputs": []
    },
    {
      "cell_type": "code",
      "source": [
        "# split the dataset into 70% training and 30% testing\n",
        "X1_train,X1_test,y1_train,y1_test = train_test_split(X1,Y1,test_size=0.3,random_state=1)\n",
        "X2_train,X2_test,y2_train,y2_test = train_test_split(X2,Y2,test_size=0.3,random_state=1)\n"
      ],
      "metadata": {
        "id": "LwaTRZ5ochPl"
      },
      "execution_count": 13,
      "outputs": []
    },
    {
      "cell_type": "code",
      "source": [
        "# we use grid search to fine tune the parameter, init_ensemble function is the initial parameters that we have for each ensemble models\n",
        "def init_ensemble():\n",
        "    rf =RandomForestClassifier(random_state=40)\n",
        "    bagg = BaggingClassifier(random_state=40)\n",
        "    extra = ExtraTreesClassifier(random_state=40)\n",
        "    ada = AdaBoostClassifier(random_state=40)\n",
        "    grad = GradientBoostingClassifier(random_state=40)\n",
        "    classifier_list = [rf,bagg,extra,ada,grad]\n",
        "    classifier_name_list = ['Random Forests','Bagging','Extra Trees','AdaBoost','Gradient Boost']\n",
        "    classifier_list = [extra,ada,grad]\n",
        "    classifier_name_list = ['Extra Trees','AdaBoost','Gradient Boost']\n",
        "    return classifier_list,classifier_name_list"
      ],
      "metadata": {
        "id": "NAT6ilwhcjb2"
      },
      "execution_count": 24,
      "outputs": []
    },
    {
      "cell_type": "code",
      "source": [
        "# grid search function\n",
        "def grid_search_ensemble(trained_model,trained_model_name,X_train,y_train):\n",
        "    print('--------- Model : ', trained_model_name, ' ---------------\\n')\n",
        "    param_test1 = {'n_estimators':range(50,131,20)}\n",
        "    gsearch1 = GridSearchCV(estimator = trained_model,\n",
        "                       param_grid = param_test1, scoring='roc_auc',cv=5)\n",
        "\n",
        "    gsearch1.fit(X_train,y_train)\n",
        "    print(gsearch1.cv_results_, gsearch1.best_params_, gsearch1.best_score_)\n",
        "    print(\"---------------------------------------\\n\")"
      ],
      "metadata": {
        "id": "ddDsOVw3clXP"
      },
      "execution_count": 25,
      "outputs": []
    },
    {
      "cell_type": "code",
      "source": [
        "# grid search for parameter in transaction dataset \n",
        "classifier_list, classifier_name_list = init_ensemble()\n",
        "for classifier,classifier_name in zip(classifier_list,classifier_name_list):\n",
        "    grid_search_ensemble(classifier,classifier_name,X1_train,y1_train)"
      ],
      "metadata": {
        "colab": {
          "base_uri": "https://localhost:8080/"
        },
        "id": "ocT1yPW6cnGr",
        "outputId": "0c918d2d-5018-432c-8ac4-92fb90a46ba3"
      },
      "execution_count": null,
      "outputs": [
        {
          "output_type": "stream",
          "name": "stdout",
          "text": [
            "--------- Model :  Random Forests  ---------------\n",
            "\n",
            "{'mean_fit_time': array([ 4.65974693,  6.48595743,  8.40189071, 10.41962638, 11.89718542]), 'std_fit_time': array([0.09385643, 0.06019939, 0.04631809, 0.27506814, 0.12377632]), 'mean_score_time': array([0.44501867, 0.62258563, 0.80007019, 0.98556285, 1.12737141]), 'std_score_time': array([0.01115817, 0.01241301, 0.01380099, 0.02902238, 0.00846948]), 'param_n_estimators': masked_array(data=[50, 70, 90, 110, 130],\n",
            "             mask=[False, False, False, False, False],\n",
            "       fill_value='?',\n",
            "            dtype=object), 'params': [{'n_estimators': 50}, {'n_estimators': 70}, {'n_estimators': 90}, {'n_estimators': 110}, {'n_estimators': 130}], 'split0_test_score': array([0.66884158, 0.67003161, 0.67014577, 0.67029703, 0.67011042]), 'split1_test_score': array([0.67240753, 0.67301247, 0.67371027, 0.67395938, 0.67420254]), 'split2_test_score': array([0.66907291, 0.66953579, 0.66993411, 0.67000683, 0.67019732]), 'split3_test_score': array([0.66925378, 0.66969995, 0.67007128, 0.67019295, 0.67021541]), 'split4_test_score': array([0.67390217, 0.67481024, 0.6753675 , 0.67570771, 0.67592216]), 'mean_test_score': array([0.67069559, 0.67141801, 0.67184579, 0.67203278, 0.67212957]), 'std_test_score': array([0.00206699, 0.00211972, 0.00226151, 0.00235453, 0.00245583]), 'rank_test_score': array([5, 4, 3, 2, 1], dtype=int32)} {'n_estimators': 130} 0.67212956960526\n",
            "---------------------------------------\n",
            "\n",
            "--------- Model :  Bagging  ---------------\n",
            "\n",
            "{'mean_fit_time': array([15.25797973, 21.36443124, 26.40283346, 31.11689301, 36.43834081]), 'std_fit_time': array([0.75046553, 0.26314005, 0.36883434, 0.67720472, 1.25191561]), 'mean_score_time': array([0.68215017, 0.92989244, 1.1900342 , 1.35380635, 1.63006682]), 'std_score_time': array([0.01926153, 0.02099653, 0.0149231 , 0.01552563, 0.0467511 ]), 'param_n_estimators': masked_array(data=[50, 70, 90, 110, 130],\n",
            "             mask=[False, False, False, False, False],\n",
            "       fill_value='?',\n",
            "            dtype=object), 'params': [{'n_estimators': 50}, {'n_estimators': 70}, {'n_estimators': 90}, {'n_estimators': 110}, {'n_estimators': 130}], 'split0_test_score': array([0.66577584, 0.66657691, 0.66654748, 0.66679158, 0.66686603]), 'split1_test_score': array([0.6692278 , 0.66996114, 0.67068018, 0.67065485, 0.67071123]), 'split2_test_score': array([0.66663404, 0.66718574, 0.66767034, 0.66804168, 0.6682846 ]), 'split3_test_score': array([0.66580792, 0.66649487, 0.6669603 , 0.66677852, 0.66678769]), 'split4_test_score': array([0.67084251, 0.67106764, 0.67148787, 0.67168608, 0.67166837]), 'mean_test_score': array([0.66765762, 0.66825726, 0.66866923, 0.66879054, 0.66886358]), 'std_test_score': array([0.00203072, 0.00189099, 0.00202033, 0.0020231 , 0.00199576]), 'rank_test_score': array([5, 4, 3, 2, 1], dtype=int32)} {'n_estimators': 130} 0.6688635827595892\n",
            "---------------------------------------\n",
            "\n",
            "--------- Model :  Extra Trees  ---------------\n",
            "\n",
            "{'mean_fit_time': array([ 5.12071447,  7.20809989,  9.24638629, 11.14519444, 13.60785379]), 'std_fit_time': array([0.10007898, 0.13976709, 0.06365157, 0.22691824, 0.38748477]), 'mean_score_time': array([0.48023062, 0.67178659, 0.86137309, 1.0259151 , 1.24719543]), 'std_score_time': array([0.00840116, 0.01421481, 0.01270504, 0.00894808, 0.01609374]), 'param_n_estimators': masked_array(data=[50, 70, 90, 110, 130],\n",
            "             mask=[False, False, False, False, False],\n",
            "       fill_value='?',\n",
            "            dtype=object), 'params': [{'n_estimators': 50}, {'n_estimators': 70}, {'n_estimators': 90}, {'n_estimators': 110}, {'n_estimators': 130}], 'split0_test_score': array([0.65380523, 0.65363533, 0.65377897, 0.65383798, 0.65398104]), 'split1_test_score': array([0.65612526, 0.65601946, 0.6558744 , 0.6558473 , 0.65588842]), 'split2_test_score': array([0.65407179, 0.65408129, 0.65438924, 0.6543635 , 0.65432727]), 'split3_test_score': array([0.65304952, 0.65322085, 0.65325766, 0.65332573, 0.65342584]), 'split4_test_score': array([0.65805988, 0.65809087, 0.65817683, 0.6582153 , 0.65822466]), 'mean_test_score': array([0.65502234, 0.65500956, 0.65509542, 0.65511796, 0.65516945]), 'std_test_score': array([0.00182866, 0.00181461, 0.00177263, 0.00176324, 0.0017328 ]), 'rank_test_score': array([4, 5, 3, 2, 1], dtype=int32)} {'n_estimators': 130} 0.6551694467406962\n",
            "---------------------------------------\n",
            "\n",
            "--------- Model :  AdaBoost  ---------------\n",
            "\n",
            "{'mean_fit_time': array([3.91172175, 5.237012  , 7.00632343, 8.50931993, 9.82234445]), 'std_fit_time': array([0.21150646, 0.05762687, 0.29765319, 0.23145804, 0.10868305]), 'mean_score_time': array([0.24014082, 0.32765012, 0.42007885, 0.53991652, 0.61073728]), 'std_score_time': array([0.0069376 , 0.00894549, 0.01944998, 0.07256633, 0.02638042]), 'param_n_estimators': masked_array(data=[50, 70, 90, 110, 130],\n",
            "             mask=[False, False, False, False, False],\n",
            "       fill_value='?',\n",
            "            dtype=object), 'params': [{'n_estimators': 50}, {'n_estimators': 70}, {'n_estimators': 90}, {'n_estimators': 110}, {'n_estimators': 130}], 'split0_test_score': array([0.66579307, 0.66624742, 0.66638434, 0.66641447, 0.66643321]), 'split1_test_score': array([0.66853373, 0.66886099, 0.66877907, 0.66864674, 0.66868196]), 'split2_test_score': array([0.66827625, 0.66845941, 0.66856094, 0.6685712 , 0.66870327]), 'split3_test_score': array([0.66796522, 0.66795791, 0.66793893, 0.66791899, 0.66790048]), 'split4_test_score': array([0.67093335, 0.67161854, 0.67164278, 0.67170244, 0.67170469]), 'mean_test_score': array([0.66830032, 0.66862885, 0.66866121, 0.66865077, 0.66868472]), 'std_test_score': array([0.00163625, 0.00174024, 0.00170994, 0.00172369, 0.00172075]), 'rank_test_score': array([5, 4, 2, 3, 1], dtype=int32)} {'n_estimators': 130} 0.6686847226226522\n",
            "---------------------------------------\n",
            "\n",
            "--------- Model :  Gradient Boost  ---------------\n",
            "\n",
            "{'mean_fit_time': array([ 5.95301023,  8.59474058, 10.42764463, 13.00214   , 14.78439698]), 'std_fit_time': array([0.09826151, 0.28577308, 0.47044429, 0.24572538, 0.29984529]), 'mean_score_time': array([0.03131018, 0.04020882, 0.04797311, 0.05473442, 0.06076965]), 'std_score_time': array([0.00024112, 0.00142132, 0.00184703, 0.00151353, 0.00042726]), 'param_n_estimators': masked_array(data=[50, 70, 90, 110, 130],\n",
            "             mask=[False, False, False, False, False],\n",
            "       fill_value='?',\n",
            "            dtype=object), 'params': [{'n_estimators': 50}, {'n_estimators': 70}, {'n_estimators': 90}, {'n_estimators': 110}, {'n_estimators': 130}], 'split0_test_score': array([0.66881771, 0.67072462, 0.67199895, 0.67315751, 0.67368983]), 'split1_test_score': array([0.67359769, 0.67559103, 0.6764675 , 0.67720468, 0.67774669]), 'split2_test_score': array([0.67441678, 0.67675771, 0.67778046, 0.67913586, 0.67968892]), 'split3_test_score': array([0.67301541, 0.67485229, 0.67579684, 0.67682099, 0.67728412]), 'split4_test_score': array([0.67709568, 0.67769824, 0.67841946, 0.67914753, 0.67974188]), 'mean_test_score': array([0.67338865, 0.67512478, 0.67609264, 0.67709331, 0.67763029]), 'std_test_score': array([0.00267864, 0.00240592, 0.00224718, 0.00218947, 0.00220714]), 'rank_test_score': array([5, 4, 3, 2, 1], dtype=int32)} {'n_estimators': 130} 0.6776302887423247\n",
            "---------------------------------------\n",
            "\n"
          ]
        }
      ]
    },
    {
      "cell_type": "code",
      "source": [
        "# grid search for parameter in click through dataset \n",
        "classifier_list, classifier_name_list = init_ensemble()\n",
        "for classifier,classifier_name in zip(classifier_list,classifier_name_list):\n",
        "    grid_search_ensemble(classifier,classifier_name,X2_train,y2_train)"
      ],
      "metadata": {
        "colab": {
          "base_uri": "https://localhost:8080/"
        },
        "id": "ymAdxZgQpB07",
        "outputId": "6a67c068-086b-44c8-b4ce-e748cbc2b4bb"
      },
      "execution_count": null,
      "outputs": [
        {
          "output_type": "stream",
          "name": "stdout",
          "text": [
            "--------- Model :  Random Forests  ---------------\n",
            "\n",
            "{'mean_fit_time': array([109.25745611, 152.68746724, 190.71161962, 223.35603671,\n",
            "       243.18492603]), 'std_fit_time': array([2.1760785 , 2.33909556, 3.37419131, 6.07612459, 4.99640828]), 'mean_score_time': array([ 6.68425484,  8.82783031, 11.03025556, 13.31992264, 15.39602337]), 'std_score_time': array([0.72059813, 0.17437247, 0.10322079, 0.15324446, 0.54794681]), 'param_n_estimators': masked_array(data=[50, 70, 90, 110, 130],\n",
            "             mask=[False, False, False, False, False],\n",
            "       fill_value='?',\n",
            "            dtype=object), 'params': [{'n_estimators': 50}, {'n_estimators': 70}, {'n_estimators': 90}, {'n_estimators': 110}, {'n_estimators': 130}], 'split0_test_score': array([0.71701721, 0.71735607, 0.71741106, 0.71759263, 0.71771022]), 'split1_test_score': array([0.7173805 , 0.71776198, 0.71791705, 0.71803108, 0.71805384]), 'split2_test_score': array([0.71747161, 0.71779669, 0.71794049, 0.71810255, 0.71812962]), 'split3_test_score': array([0.71699612, 0.71742891, 0.71756667, 0.71771783, 0.7177729 ]), 'split4_test_score': array([0.71635596, 0.71660305, 0.71673349, 0.71681162, 0.71682668]), 'mean_test_score': array([0.71704428, 0.71738934, 0.71751375, 0.71765114, 0.71769865]), 'std_test_score': array([0.00039306, 0.00043029, 0.00043975, 0.00046061, 0.0004643 ]), 'rank_test_score': array([5, 4, 3, 2, 1], dtype=int32)} {'n_estimators': 130} 0.7176986509234359\n",
            "---------------------------------------\n",
            "\n",
            "--------- Model :  Bagging  ---------------\n",
            "\n"
          ]
        }
      ]
    },
    {
      "cell_type": "code",
      "source": [
        "# grid search for parameter in click through dataset \n",
        "classifier_list, classifier_name_list = init_ensemble()\n",
        "for classifier,classifier_name in zip(classifier_list,classifier_name_list):\n",
        "    grid_search_ensemble(classifier,classifier_name,X2_train,y2_train)"
      ],
      "metadata": {
        "colab": {
          "base_uri": "https://localhost:8080/"
        },
        "id": "zJIOt0z7pqmj",
        "outputId": "875f4356-9619-44f8-d02f-e2cd91b0e699"
      },
      "execution_count": 26,
      "outputs": [
        {
          "output_type": "stream",
          "name": "stdout",
          "text": [
            "--------- Model :  Extra Trees  ---------------\n",
            "\n",
            "{'mean_fit_time': array([105.39956856, 135.71173911, 176.50132217, 210.31603861,\n",
            "       257.03138881]), 'std_fit_time': array([6.08283947, 3.43803221, 2.65431916, 4.28201282, 5.39463748]), 'mean_score_time': array([ 7.12734246,  9.37777801, 12.5305624 , 14.8128933 , 18.13384676]), 'std_score_time': array([0.18961381, 0.31709999, 0.36042902, 1.04784793, 0.82113961]), 'param_n_estimators': masked_array(data=[50, 70, 90, 110, 130],\n",
            "             mask=[False, False, False, False, False],\n",
            "       fill_value='?',\n",
            "            dtype=object), 'params': [{'n_estimators': 50}, {'n_estimators': 70}, {'n_estimators': 90}, {'n_estimators': 110}, {'n_estimators': 130}], 'split0_test_score': array([0.70810123, 0.70820718, 0.70832593, 0.70835839, 0.70836242]), 'split1_test_score': array([0.70851279, 0.70854803, 0.70860178, 0.70864898, 0.70867647]), 'split2_test_score': array([0.70828571, 0.70842335, 0.70848852, 0.70850329, 0.70848407]), 'split3_test_score': array([0.70832034, 0.70837765, 0.70851686, 0.70857399, 0.70855599]), 'split4_test_score': array([0.70714864, 0.70733496, 0.70747229, 0.70746885, 0.70748264]), 'mean_test_score': array([0.70807374, 0.70817824, 0.70828108, 0.7083107 , 0.70831232]), 'std_test_score': array([0.00048064, 0.00043555, 0.00041416, 0.0004317 , 0.00042717]), 'rank_test_score': array([5, 4, 3, 2, 1], dtype=int32)} {'n_estimators': 130} 0.7083123194647122\n",
            "---------------------------------------\n",
            "\n",
            "--------- Model :  AdaBoost  ---------------\n",
            "\n",
            "{'mean_fit_time': array([ 63.55294161,  88.40754848, 113.08668742, 135.61612353,\n",
            "       158.04665036]), 'std_fit_time': array([0.38207411, 1.03155901, 0.90313287, 0.306888  , 1.45848442]), 'mean_score_time': array([2.23986478, 3.07994008, 3.95469179, 4.73609896, 5.48599896]), 'std_score_time': array([0.02029816, 0.02627354, 0.01553768, 0.04312935, 0.02369082]), 'param_n_estimators': masked_array(data=[50, 70, 90, 110, 130],\n",
            "             mask=[False, False, False, False, False],\n",
            "       fill_value='?',\n",
            "            dtype=object), 'params': [{'n_estimators': 50}, {'n_estimators': 70}, {'n_estimators': 90}, {'n_estimators': 110}, {'n_estimators': 130}], 'split0_test_score': array([0.69741912, 0.6975201 , 0.69756092, 0.69754294, 0.69753914]), 'split1_test_score': array([0.6984537 , 0.69855961, 0.69872407, 0.69872694, 0.69874294]), 'split2_test_score': array([0.69736497, 0.69764589, 0.69768434, 0.69778828, 0.69778438]), 'split3_test_score': array([0.70026447, 0.70030512, 0.70044458, 0.7004802 , 0.7005191 ]), 'split4_test_score': array([0.69670978, 0.6967647 , 0.69684548, 0.69691649, 0.69691729]), 'mean_test_score': array([0.69804241, 0.69815908, 0.69825188, 0.69829097, 0.69830057]), 'std_test_score': array([0.00124338, 0.00121506, 0.00124967, 0.0012397 , 0.00125517]), 'rank_test_score': array([5, 4, 3, 2, 1], dtype=int32)} {'n_estimators': 130} 0.6983005692806017\n",
            "---------------------------------------\n",
            "\n",
            "--------- Model :  Gradient Boost  ---------------\n",
            "\n",
            "{'mean_fit_time': array([102.41255169, 142.42460508, 185.20313044, 232.38766966,\n",
            "       275.60732813]), 'std_fit_time': array([1.1805578 , 1.2308742 , 2.4917362 , 4.6392686 , 3.25507541]), 'mean_score_time': array([0.35950909, 0.45610051, 0.557939  , 0.66584306, 0.76488976]), 'std_score_time': array([0.00339522, 0.00413916, 0.0017801 , 0.01631666, 0.00847277]), 'param_n_estimators': masked_array(data=[50, 70, 90, 110, 130],\n",
            "             mask=[False, False, False, False, False],\n",
            "       fill_value='?',\n",
            "            dtype=object), 'params': [{'n_estimators': 50}, {'n_estimators': 70}, {'n_estimators': 90}, {'n_estimators': 110}, {'n_estimators': 130}], 'split0_test_score': array([0.70318351, 0.7055372 , 0.70711497, 0.7082943 , 0.70905304]), 'split1_test_score': array([0.70450461, 0.70627526, 0.70767308, 0.70850304, 0.70924643]), 'split2_test_score': array([0.70337513, 0.70540955, 0.70695646, 0.70794657, 0.70872377]), 'split3_test_score': array([0.70645484, 0.70816566, 0.70960064, 0.71049182, 0.71128498]), 'split4_test_score': array([0.70263825, 0.70473613, 0.70637831, 0.7072574 , 0.7079947 ]), 'mean_test_score': array([0.70403127, 0.70602476, 0.70754469, 0.70849863, 0.70926058]), 'std_test_score': array([0.00135554, 0.00117669, 0.00110766, 0.00108259, 0.00109837]), 'rank_test_score': array([5, 4, 3, 2, 1], dtype=int32)} {'n_estimators': 130} 0.7092605843075681\n",
            "---------------------------------------\n",
            "\n"
          ]
        }
      ]
    },
    {
      "cell_type": "code",
      "source": [
        "# ensemble models with fine tune parameters for transaction perdiction\n",
        "def get_ensemble_models_trans():\n",
        "    rf =RandomForestClassifier(n_estimators=130,min_samples_leaf=5,min_samples_split=3,random_state=40)\n",
        "    bagg = BaggingClassifier(n_estimators=130,random_state=40)\n",
        "    extra = ExtraTreesClassifier(n_estimators=130,random_state=40)\n",
        "    ada = AdaBoostClassifier(n_estimators=130,random_state=40)\n",
        "    grad = GradientBoostingClassifier(n_estimators=130,random_state=40)\n",
        "    classifier_list = [rf,bagg,extra,ada,grad]\n",
        "    classifier_name_list = ['Random Forests','Bagging','Extra Trees','AdaBoost','Gradient Boost']\n",
        "    return classifier_list,classifier_name_list"
      ],
      "metadata": {
        "id": "iJUwDENdv0Gd"
      },
      "execution_count": null,
      "outputs": []
    },
    {
      "cell_type": "code",
      "source": [
        "# ensemble models with fine tune parameters for click through perdiction\n",
        "def get_ensemble_models_clicked():\n",
        "    rf =RandomForestClassifier(n_estimators=130,min_samples_leaf=5,min_samples_split=3,random_state=40)\n",
        "    bagg = BaggingClassifier(n_estimators=130,random_state=40)\n",
        "    extra = ExtraTreesClassifier(n_estimators=130,random_state=40)\n",
        "    ada = AdaBoostClassifier(n_estimators=130,random_state=40)\n",
        "    grad = GradientBoostingClassifier(n_estimators=130,random_state=40)\n",
        "    classifier_list = [rf,bagg,extra,ada,grad]\n",
        "    classifier_name_list = ['Random Forests','Bagging','Extra Trees','AdaBoost','Gradient Boost']\n",
        "    return classifier_list,classifier_name_list"
      ],
      "metadata": {
        "id": "XEFIgiA5v2za"
      },
      "execution_count": 14,
      "outputs": []
    },
    {
      "cell_type": "code",
      "source": [
        "# evaluation metrics print out function\n",
        "def print_evaluation_metrics(trained_model,trained_model_name,X_test,y_test):\n",
        "    print('--------- Model : ', trained_model_name, ' ---------------\\n')\n",
        "    predicted_values = trained_model.predict(X_test)\n",
        "    print(metrics.classification_report(y_test,predicted_values))\n",
        "    print(\"Accuracy Score : \",metrics.accuracy_score(y_test,predicted_values))\n",
        "    print(\"---------------------------------------\\n\")"
      ],
      "metadata": {
        "id": "IdpYHOBBv4-e"
      },
      "execution_count": 15,
      "outputs": []
    },
    {
      "cell_type": "code",
      "source": [
        "# ensemble model training for trasaction prediction\n",
        "classifier_list, classifier_name_list = get_ensemble_models_trans()\n",
        "for classifier,classifier_name in zip(classifier_list,classifier_name_list):\n",
        "    classifier.fit(X1_train,y1_train)\n",
        "    print_evaluation_metrics(classifier,classifier_name,X1_test,y1_test)"
      ],
      "metadata": {
        "colab": {
          "base_uri": "https://localhost:8080/"
        },
        "id": "DPdx_vpjv639",
        "outputId": "bfda9816-d99b-434b-81fe-c38e483122d8"
      },
      "execution_count": null,
      "outputs": [
        {
          "output_type": "stream",
          "name": "stdout",
          "text": [
            "--------- Model :  Random Forests  ---------------\n",
            "\n",
            "              precision    recall  f1-score   support\n",
            "\n",
            "           0       0.74      0.51      0.61     22655\n",
            "           1       0.63      0.82      0.71     22396\n",
            "\n",
            "    accuracy                           0.67     45051\n",
            "   macro avg       0.68      0.67      0.66     45051\n",
            "weighted avg       0.68      0.67      0.66     45051\n",
            "\n",
            "Accuracy Score :  0.6663115136178998\n",
            "---------------------------------------\n",
            "\n",
            "--------- Model :  Bagging  ---------------\n",
            "\n",
            "              precision    recall  f1-score   support\n",
            "\n",
            "           0       0.67      0.58      0.62     22655\n",
            "           1       0.63      0.71      0.66     22396\n",
            "\n",
            "    accuracy                           0.64     45051\n",
            "   macro avg       0.65      0.64      0.64     45051\n",
            "weighted avg       0.65      0.64      0.64     45051\n",
            "\n",
            "Accuracy Score :  0.6440034627422255\n",
            "---------------------------------------\n",
            "\n",
            "--------- Model :  Extra Trees  ---------------\n",
            "\n",
            "              precision    recall  f1-score   support\n",
            "\n",
            "           0       0.65      0.61      0.63     22655\n",
            "           1       0.63      0.67      0.65     22396\n",
            "\n",
            "    accuracy                           0.64     45051\n",
            "   macro avg       0.64      0.64      0.64     45051\n",
            "weighted avg       0.64      0.64      0.64     45051\n",
            "\n",
            "Accuracy Score :  0.640074582140241\n",
            "---------------------------------------\n",
            "\n",
            "--------- Model :  AdaBoost  ---------------\n",
            "\n",
            "              precision    recall  f1-score   support\n",
            "\n",
            "           0       0.72      0.47      0.57     22655\n",
            "           1       0.60      0.81      0.69     22396\n",
            "\n",
            "    accuracy                           0.64     45051\n",
            "   macro avg       0.66      0.64      0.63     45051\n",
            "weighted avg       0.66      0.64      0.63     45051\n",
            "\n",
            "Accuracy Score :  0.6408070853033229\n",
            "---------------------------------------\n",
            "\n",
            "--------- Model :  Gradient Boost  ---------------\n",
            "\n",
            "              precision    recall  f1-score   support\n",
            "\n",
            "           0       0.75      0.46      0.57     22655\n",
            "           1       0.61      0.85      0.71     22396\n",
            "\n",
            "    accuracy                           0.65     45051\n",
            "   macro avg       0.68      0.65      0.64     45051\n",
            "weighted avg       0.68      0.65      0.64     45051\n",
            "\n",
            "Accuracy Score :  0.6524605447159886\n",
            "---------------------------------------\n",
            "\n"
          ]
        }
      ]
    },
    {
      "cell_type": "code",
      "source": [
        "# ensemble model training for click through prediction\n",
        "classifier_list, classifier_name_list = get_ensemble_models_clicked()\n",
        "for classifier,classifier_name in zip(classifier_list,classifier_name_list):\n",
        "    classifier.fit(X2_train,y2_train)\n",
        "    print_evaluation_metrics(classifier,classifier_name,X2_test,y2_test)"
      ],
      "metadata": {
        "colab": {
          "base_uri": "https://localhost:8080/",
          "height": 606
        },
        "id": "o0ccoBKAv88I",
        "outputId": "a7dc51a1-2f80-4cd6-a62b-8e5952dd4c06"
      },
      "execution_count": null,
      "outputs": [
        {
          "output_type": "stream",
          "name": "stdout",
          "text": [
            "--------- Model :  Random Forests  ---------------\n",
            "\n",
            "              precision    recall  f1-score   support\n",
            "\n",
            "           0       0.75      0.76      0.75    220991\n",
            "           1       0.78      0.76      0.77    241358\n",
            "\n",
            "    accuracy                           0.76    462349\n",
            "   macro avg       0.76      0.76      0.76    462349\n",
            "weighted avg       0.76      0.76      0.76    462349\n",
            "\n",
            "Accuracy Score :  0.7628869101047044\n",
            "---------------------------------------\n",
            "\n"
          ]
        },
        {
          "output_type": "error",
          "ename": "KeyboardInterrupt",
          "evalue": "ignored",
          "traceback": [
            "\u001b[0;31m---------------------------------------------------------------------------\u001b[0m",
            "\u001b[0;31mKeyboardInterrupt\u001b[0m                         Traceback (most recent call last)",
            "\u001b[0;32m<ipython-input-23-8fc11eaa3509>\u001b[0m in \u001b[0;36m<module>\u001b[0;34m()\u001b[0m\n\u001b[1;32m      1\u001b[0m \u001b[0mclassifier_list\u001b[0m\u001b[0;34m,\u001b[0m \u001b[0mclassifier_name_list\u001b[0m \u001b[0;34m=\u001b[0m \u001b[0mget_ensemble_models_clicked\u001b[0m\u001b[0;34m(\u001b[0m\u001b[0;34m)\u001b[0m\u001b[0;34m\u001b[0m\u001b[0;34m\u001b[0m\u001b[0m\n\u001b[1;32m      2\u001b[0m \u001b[0;32mfor\u001b[0m \u001b[0mclassifier\u001b[0m\u001b[0;34m,\u001b[0m\u001b[0mclassifier_name\u001b[0m \u001b[0;32min\u001b[0m \u001b[0mzip\u001b[0m\u001b[0;34m(\u001b[0m\u001b[0mclassifier_list\u001b[0m\u001b[0;34m,\u001b[0m\u001b[0mclassifier_name_list\u001b[0m\u001b[0;34m)\u001b[0m\u001b[0;34m:\u001b[0m\u001b[0;34m\u001b[0m\u001b[0;34m\u001b[0m\u001b[0m\n\u001b[0;32m----> 3\u001b[0;31m     \u001b[0mclassifier\u001b[0m\u001b[0;34m.\u001b[0m\u001b[0mfit\u001b[0m\u001b[0;34m(\u001b[0m\u001b[0mX2_train\u001b[0m\u001b[0;34m,\u001b[0m\u001b[0my2_train\u001b[0m\u001b[0;34m)\u001b[0m\u001b[0;34m\u001b[0m\u001b[0;34m\u001b[0m\u001b[0m\n\u001b[0m\u001b[1;32m      4\u001b[0m     \u001b[0mprint_evaluation_metrics\u001b[0m\u001b[0;34m(\u001b[0m\u001b[0mclassifier\u001b[0m\u001b[0;34m,\u001b[0m\u001b[0mclassifier_name\u001b[0m\u001b[0;34m,\u001b[0m\u001b[0mX2_test\u001b[0m\u001b[0;34m,\u001b[0m\u001b[0my2_test\u001b[0m\u001b[0;34m)\u001b[0m\u001b[0;34m\u001b[0m\u001b[0;34m\u001b[0m\u001b[0m\n",
            "\u001b[0;32m/usr/local/lib/python3.7/dist-packages/sklearn/ensemble/_bagging.py\u001b[0m in \u001b[0;36mfit\u001b[0;34m(self, X, y, sample_weight)\u001b[0m\n\u001b[1;32m    267\u001b[0m             \u001b[0mmulti_output\u001b[0m\u001b[0;34m=\u001b[0m\u001b[0;32mTrue\u001b[0m\u001b[0;34m,\u001b[0m\u001b[0;34m\u001b[0m\u001b[0;34m\u001b[0m\u001b[0m\n\u001b[1;32m    268\u001b[0m         )\n\u001b[0;32m--> 269\u001b[0;31m         \u001b[0;32mreturn\u001b[0m \u001b[0mself\u001b[0m\u001b[0;34m.\u001b[0m\u001b[0m_fit\u001b[0m\u001b[0;34m(\u001b[0m\u001b[0mX\u001b[0m\u001b[0;34m,\u001b[0m \u001b[0my\u001b[0m\u001b[0;34m,\u001b[0m \u001b[0mself\u001b[0m\u001b[0;34m.\u001b[0m\u001b[0mmax_samples\u001b[0m\u001b[0;34m,\u001b[0m \u001b[0msample_weight\u001b[0m\u001b[0;34m=\u001b[0m\u001b[0msample_weight\u001b[0m\u001b[0;34m)\u001b[0m\u001b[0;34m\u001b[0m\u001b[0;34m\u001b[0m\u001b[0m\n\u001b[0m\u001b[1;32m    270\u001b[0m \u001b[0;34m\u001b[0m\u001b[0m\n\u001b[1;32m    271\u001b[0m     \u001b[0;32mdef\u001b[0m \u001b[0m_parallel_args\u001b[0m\u001b[0;34m(\u001b[0m\u001b[0mself\u001b[0m\u001b[0;34m)\u001b[0m\u001b[0;34m:\u001b[0m\u001b[0;34m\u001b[0m\u001b[0;34m\u001b[0m\u001b[0m\n",
            "\u001b[0;32m/usr/local/lib/python3.7/dist-packages/sklearn/ensemble/_bagging.py\u001b[0m in \u001b[0;36m_fit\u001b[0;34m(self, X, y, max_samples, max_depth, sample_weight)\u001b[0m\n\u001b[1;32m    405\u001b[0m                 \u001b[0mverbose\u001b[0m\u001b[0;34m=\u001b[0m\u001b[0mself\u001b[0m\u001b[0;34m.\u001b[0m\u001b[0mverbose\u001b[0m\u001b[0;34m,\u001b[0m\u001b[0;34m\u001b[0m\u001b[0;34m\u001b[0m\u001b[0m\n\u001b[1;32m    406\u001b[0m             )\n\u001b[0;32m--> 407\u001b[0;31m             \u001b[0;32mfor\u001b[0m \u001b[0mi\u001b[0m \u001b[0;32min\u001b[0m \u001b[0mrange\u001b[0m\u001b[0;34m(\u001b[0m\u001b[0mn_jobs\u001b[0m\u001b[0;34m)\u001b[0m\u001b[0;34m\u001b[0m\u001b[0;34m\u001b[0m\u001b[0m\n\u001b[0m\u001b[1;32m    408\u001b[0m         )\n\u001b[1;32m    409\u001b[0m \u001b[0;34m\u001b[0m\u001b[0m\n",
            "\u001b[0;32m/usr/local/lib/python3.7/dist-packages/joblib/parallel.py\u001b[0m in \u001b[0;36m__call__\u001b[0;34m(self, iterable)\u001b[0m\n\u001b[1;32m   1041\u001b[0m             \u001b[0;31m# remaining jobs.\u001b[0m\u001b[0;34m\u001b[0m\u001b[0;34m\u001b[0m\u001b[0;34m\u001b[0m\u001b[0m\n\u001b[1;32m   1042\u001b[0m             \u001b[0mself\u001b[0m\u001b[0;34m.\u001b[0m\u001b[0m_iterating\u001b[0m \u001b[0;34m=\u001b[0m \u001b[0;32mFalse\u001b[0m\u001b[0;34m\u001b[0m\u001b[0;34m\u001b[0m\u001b[0m\n\u001b[0;32m-> 1043\u001b[0;31m             \u001b[0;32mif\u001b[0m \u001b[0mself\u001b[0m\u001b[0;34m.\u001b[0m\u001b[0mdispatch_one_batch\u001b[0m\u001b[0;34m(\u001b[0m\u001b[0miterator\u001b[0m\u001b[0;34m)\u001b[0m\u001b[0;34m:\u001b[0m\u001b[0;34m\u001b[0m\u001b[0;34m\u001b[0m\u001b[0m\n\u001b[0m\u001b[1;32m   1044\u001b[0m                 \u001b[0mself\u001b[0m\u001b[0;34m.\u001b[0m\u001b[0m_iterating\u001b[0m \u001b[0;34m=\u001b[0m \u001b[0mself\u001b[0m\u001b[0;34m.\u001b[0m\u001b[0m_original_iterator\u001b[0m \u001b[0;32mis\u001b[0m \u001b[0;32mnot\u001b[0m \u001b[0;32mNone\u001b[0m\u001b[0;34m\u001b[0m\u001b[0;34m\u001b[0m\u001b[0m\n\u001b[1;32m   1045\u001b[0m \u001b[0;34m\u001b[0m\u001b[0m\n",
            "\u001b[0;32m/usr/local/lib/python3.7/dist-packages/joblib/parallel.py\u001b[0m in \u001b[0;36mdispatch_one_batch\u001b[0;34m(self, iterator)\u001b[0m\n\u001b[1;32m    859\u001b[0m                 \u001b[0;32mreturn\u001b[0m \u001b[0;32mFalse\u001b[0m\u001b[0;34m\u001b[0m\u001b[0;34m\u001b[0m\u001b[0m\n\u001b[1;32m    860\u001b[0m             \u001b[0;32melse\u001b[0m\u001b[0;34m:\u001b[0m\u001b[0;34m\u001b[0m\u001b[0;34m\u001b[0m\u001b[0m\n\u001b[0;32m--> 861\u001b[0;31m                 \u001b[0mself\u001b[0m\u001b[0;34m.\u001b[0m\u001b[0m_dispatch\u001b[0m\u001b[0;34m(\u001b[0m\u001b[0mtasks\u001b[0m\u001b[0;34m)\u001b[0m\u001b[0;34m\u001b[0m\u001b[0;34m\u001b[0m\u001b[0m\n\u001b[0m\u001b[1;32m    862\u001b[0m                 \u001b[0;32mreturn\u001b[0m \u001b[0;32mTrue\u001b[0m\u001b[0;34m\u001b[0m\u001b[0;34m\u001b[0m\u001b[0m\n\u001b[1;32m    863\u001b[0m \u001b[0;34m\u001b[0m\u001b[0m\n",
            "\u001b[0;32m/usr/local/lib/python3.7/dist-packages/joblib/parallel.py\u001b[0m in \u001b[0;36m_dispatch\u001b[0;34m(self, batch)\u001b[0m\n\u001b[1;32m    777\u001b[0m         \u001b[0;32mwith\u001b[0m \u001b[0mself\u001b[0m\u001b[0;34m.\u001b[0m\u001b[0m_lock\u001b[0m\u001b[0;34m:\u001b[0m\u001b[0;34m\u001b[0m\u001b[0;34m\u001b[0m\u001b[0m\n\u001b[1;32m    778\u001b[0m             \u001b[0mjob_idx\u001b[0m \u001b[0;34m=\u001b[0m \u001b[0mlen\u001b[0m\u001b[0;34m(\u001b[0m\u001b[0mself\u001b[0m\u001b[0;34m.\u001b[0m\u001b[0m_jobs\u001b[0m\u001b[0;34m)\u001b[0m\u001b[0;34m\u001b[0m\u001b[0;34m\u001b[0m\u001b[0m\n\u001b[0;32m--> 779\u001b[0;31m             \u001b[0mjob\u001b[0m \u001b[0;34m=\u001b[0m \u001b[0mself\u001b[0m\u001b[0;34m.\u001b[0m\u001b[0m_backend\u001b[0m\u001b[0;34m.\u001b[0m\u001b[0mapply_async\u001b[0m\u001b[0;34m(\u001b[0m\u001b[0mbatch\u001b[0m\u001b[0;34m,\u001b[0m \u001b[0mcallback\u001b[0m\u001b[0;34m=\u001b[0m\u001b[0mcb\u001b[0m\u001b[0;34m)\u001b[0m\u001b[0;34m\u001b[0m\u001b[0;34m\u001b[0m\u001b[0m\n\u001b[0m\u001b[1;32m    780\u001b[0m             \u001b[0;31m# A job can complete so quickly than its callback is\u001b[0m\u001b[0;34m\u001b[0m\u001b[0;34m\u001b[0m\u001b[0;34m\u001b[0m\u001b[0m\n\u001b[1;32m    781\u001b[0m             \u001b[0;31m# called before we get here, causing self._jobs to\u001b[0m\u001b[0;34m\u001b[0m\u001b[0;34m\u001b[0m\u001b[0;34m\u001b[0m\u001b[0m\n",
            "\u001b[0;32m/usr/local/lib/python3.7/dist-packages/joblib/_parallel_backends.py\u001b[0m in \u001b[0;36mapply_async\u001b[0;34m(self, func, callback)\u001b[0m\n\u001b[1;32m    206\u001b[0m     \u001b[0;32mdef\u001b[0m \u001b[0mapply_async\u001b[0m\u001b[0;34m(\u001b[0m\u001b[0mself\u001b[0m\u001b[0;34m,\u001b[0m \u001b[0mfunc\u001b[0m\u001b[0;34m,\u001b[0m \u001b[0mcallback\u001b[0m\u001b[0;34m=\u001b[0m\u001b[0;32mNone\u001b[0m\u001b[0;34m)\u001b[0m\u001b[0;34m:\u001b[0m\u001b[0;34m\u001b[0m\u001b[0;34m\u001b[0m\u001b[0m\n\u001b[1;32m    207\u001b[0m         \u001b[0;34m\"\"\"Schedule a func to be run\"\"\"\u001b[0m\u001b[0;34m\u001b[0m\u001b[0;34m\u001b[0m\u001b[0m\n\u001b[0;32m--> 208\u001b[0;31m         \u001b[0mresult\u001b[0m \u001b[0;34m=\u001b[0m \u001b[0mImmediateResult\u001b[0m\u001b[0;34m(\u001b[0m\u001b[0mfunc\u001b[0m\u001b[0;34m)\u001b[0m\u001b[0;34m\u001b[0m\u001b[0;34m\u001b[0m\u001b[0m\n\u001b[0m\u001b[1;32m    209\u001b[0m         \u001b[0;32mif\u001b[0m \u001b[0mcallback\u001b[0m\u001b[0;34m:\u001b[0m\u001b[0;34m\u001b[0m\u001b[0;34m\u001b[0m\u001b[0m\n\u001b[1;32m    210\u001b[0m             \u001b[0mcallback\u001b[0m\u001b[0;34m(\u001b[0m\u001b[0mresult\u001b[0m\u001b[0;34m)\u001b[0m\u001b[0;34m\u001b[0m\u001b[0;34m\u001b[0m\u001b[0m\n",
            "\u001b[0;32m/usr/local/lib/python3.7/dist-packages/joblib/_parallel_backends.py\u001b[0m in \u001b[0;36m__init__\u001b[0;34m(self, batch)\u001b[0m\n\u001b[1;32m    570\u001b[0m         \u001b[0;31m# Don't delay the application, to avoid keeping the input\u001b[0m\u001b[0;34m\u001b[0m\u001b[0;34m\u001b[0m\u001b[0;34m\u001b[0m\u001b[0m\n\u001b[1;32m    571\u001b[0m         \u001b[0;31m# arguments in memory\u001b[0m\u001b[0;34m\u001b[0m\u001b[0;34m\u001b[0m\u001b[0;34m\u001b[0m\u001b[0m\n\u001b[0;32m--> 572\u001b[0;31m         \u001b[0mself\u001b[0m\u001b[0;34m.\u001b[0m\u001b[0mresults\u001b[0m \u001b[0;34m=\u001b[0m \u001b[0mbatch\u001b[0m\u001b[0;34m(\u001b[0m\u001b[0;34m)\u001b[0m\u001b[0;34m\u001b[0m\u001b[0;34m\u001b[0m\u001b[0m\n\u001b[0m\u001b[1;32m    573\u001b[0m \u001b[0;34m\u001b[0m\u001b[0m\n\u001b[1;32m    574\u001b[0m     \u001b[0;32mdef\u001b[0m \u001b[0mget\u001b[0m\u001b[0;34m(\u001b[0m\u001b[0mself\u001b[0m\u001b[0;34m)\u001b[0m\u001b[0;34m:\u001b[0m\u001b[0;34m\u001b[0m\u001b[0;34m\u001b[0m\u001b[0m\n",
            "\u001b[0;32m/usr/local/lib/python3.7/dist-packages/joblib/parallel.py\u001b[0m in \u001b[0;36m__call__\u001b[0;34m(self)\u001b[0m\n\u001b[1;32m    261\u001b[0m         \u001b[0;32mwith\u001b[0m \u001b[0mparallel_backend\u001b[0m\u001b[0;34m(\u001b[0m\u001b[0mself\u001b[0m\u001b[0;34m.\u001b[0m\u001b[0m_backend\u001b[0m\u001b[0;34m,\u001b[0m \u001b[0mn_jobs\u001b[0m\u001b[0;34m=\u001b[0m\u001b[0mself\u001b[0m\u001b[0;34m.\u001b[0m\u001b[0m_n_jobs\u001b[0m\u001b[0;34m)\u001b[0m\u001b[0;34m:\u001b[0m\u001b[0;34m\u001b[0m\u001b[0;34m\u001b[0m\u001b[0m\n\u001b[1;32m    262\u001b[0m             return [func(*args, **kwargs)\n\u001b[0;32m--> 263\u001b[0;31m                     for func, args, kwargs in self.items]\n\u001b[0m\u001b[1;32m    264\u001b[0m \u001b[0;34m\u001b[0m\u001b[0m\n\u001b[1;32m    265\u001b[0m     \u001b[0;32mdef\u001b[0m \u001b[0m__reduce__\u001b[0m\u001b[0;34m(\u001b[0m\u001b[0mself\u001b[0m\u001b[0;34m)\u001b[0m\u001b[0;34m:\u001b[0m\u001b[0;34m\u001b[0m\u001b[0;34m\u001b[0m\u001b[0m\n",
            "\u001b[0;32m/usr/local/lib/python3.7/dist-packages/joblib/parallel.py\u001b[0m in \u001b[0;36m<listcomp>\u001b[0;34m(.0)\u001b[0m\n\u001b[1;32m    261\u001b[0m         \u001b[0;32mwith\u001b[0m \u001b[0mparallel_backend\u001b[0m\u001b[0;34m(\u001b[0m\u001b[0mself\u001b[0m\u001b[0;34m.\u001b[0m\u001b[0m_backend\u001b[0m\u001b[0;34m,\u001b[0m \u001b[0mn_jobs\u001b[0m\u001b[0;34m=\u001b[0m\u001b[0mself\u001b[0m\u001b[0;34m.\u001b[0m\u001b[0m_n_jobs\u001b[0m\u001b[0;34m)\u001b[0m\u001b[0;34m:\u001b[0m\u001b[0;34m\u001b[0m\u001b[0;34m\u001b[0m\u001b[0m\n\u001b[1;32m    262\u001b[0m             return [func(*args, **kwargs)\n\u001b[0;32m--> 263\u001b[0;31m                     for func, args, kwargs in self.items]\n\u001b[0m\u001b[1;32m    264\u001b[0m \u001b[0;34m\u001b[0m\u001b[0m\n\u001b[1;32m    265\u001b[0m     \u001b[0;32mdef\u001b[0m \u001b[0m__reduce__\u001b[0m\u001b[0;34m(\u001b[0m\u001b[0mself\u001b[0m\u001b[0;34m)\u001b[0m\u001b[0;34m:\u001b[0m\u001b[0;34m\u001b[0m\u001b[0;34m\u001b[0m\u001b[0m\n",
            "\u001b[0;32m/usr/local/lib/python3.7/dist-packages/sklearn/utils/fixes.py\u001b[0m in \u001b[0;36m__call__\u001b[0;34m(self, *args, **kwargs)\u001b[0m\n\u001b[1;32m    214\u001b[0m     \u001b[0;32mdef\u001b[0m \u001b[0m__call__\u001b[0m\u001b[0;34m(\u001b[0m\u001b[0mself\u001b[0m\u001b[0;34m,\u001b[0m \u001b[0;34m*\u001b[0m\u001b[0margs\u001b[0m\u001b[0;34m,\u001b[0m \u001b[0;34m**\u001b[0m\u001b[0mkwargs\u001b[0m\u001b[0;34m)\u001b[0m\u001b[0;34m:\u001b[0m\u001b[0;34m\u001b[0m\u001b[0;34m\u001b[0m\u001b[0m\n\u001b[1;32m    215\u001b[0m         \u001b[0;32mwith\u001b[0m \u001b[0mconfig_context\u001b[0m\u001b[0;34m(\u001b[0m\u001b[0;34m**\u001b[0m\u001b[0mself\u001b[0m\u001b[0;34m.\u001b[0m\u001b[0mconfig\u001b[0m\u001b[0;34m)\u001b[0m\u001b[0;34m:\u001b[0m\u001b[0;34m\u001b[0m\u001b[0;34m\u001b[0m\u001b[0m\n\u001b[0;32m--> 216\u001b[0;31m             \u001b[0;32mreturn\u001b[0m \u001b[0mself\u001b[0m\u001b[0;34m.\u001b[0m\u001b[0mfunction\u001b[0m\u001b[0;34m(\u001b[0m\u001b[0;34m*\u001b[0m\u001b[0margs\u001b[0m\u001b[0;34m,\u001b[0m \u001b[0;34m**\u001b[0m\u001b[0mkwargs\u001b[0m\u001b[0;34m)\u001b[0m\u001b[0;34m\u001b[0m\u001b[0;34m\u001b[0m\u001b[0m\n\u001b[0m\u001b[1;32m    217\u001b[0m \u001b[0;34m\u001b[0m\u001b[0m\n\u001b[1;32m    218\u001b[0m \u001b[0;34m\u001b[0m\u001b[0m\n",
            "\u001b[0;32m/usr/local/lib/python3.7/dist-packages/sklearn/ensemble/_bagging.py\u001b[0m in \u001b[0;36m_parallel_build_estimators\u001b[0;34m(n_estimators, ensemble, X, y, sample_weight, seeds, total_n_estimators, verbose)\u001b[0m\n\u001b[1;32m    121\u001b[0m                 \u001b[0mcurr_sample_weight\u001b[0m\u001b[0;34m[\u001b[0m\u001b[0mnot_indices_mask\u001b[0m\u001b[0;34m]\u001b[0m \u001b[0;34m=\u001b[0m \u001b[0;36m0\u001b[0m\u001b[0;34m\u001b[0m\u001b[0;34m\u001b[0m\u001b[0m\n\u001b[1;32m    122\u001b[0m \u001b[0;34m\u001b[0m\u001b[0m\n\u001b[0;32m--> 123\u001b[0;31m             \u001b[0mestimator\u001b[0m\u001b[0;34m.\u001b[0m\u001b[0mfit\u001b[0m\u001b[0;34m(\u001b[0m\u001b[0mX\u001b[0m\u001b[0;34m[\u001b[0m\u001b[0;34m:\u001b[0m\u001b[0;34m,\u001b[0m \u001b[0mfeatures\u001b[0m\u001b[0;34m]\u001b[0m\u001b[0;34m,\u001b[0m \u001b[0my\u001b[0m\u001b[0;34m,\u001b[0m \u001b[0msample_weight\u001b[0m\u001b[0;34m=\u001b[0m\u001b[0mcurr_sample_weight\u001b[0m\u001b[0;34m)\u001b[0m\u001b[0;34m\u001b[0m\u001b[0;34m\u001b[0m\u001b[0m\n\u001b[0m\u001b[1;32m    124\u001b[0m \u001b[0;34m\u001b[0m\u001b[0m\n\u001b[1;32m    125\u001b[0m         \u001b[0;32melse\u001b[0m\u001b[0;34m:\u001b[0m\u001b[0;34m\u001b[0m\u001b[0;34m\u001b[0m\u001b[0m\n",
            "\u001b[0;32m/usr/local/lib/python3.7/dist-packages/sklearn/tree/_classes.py\u001b[0m in \u001b[0;36mfit\u001b[0;34m(self, X, y, sample_weight, check_input, X_idx_sorted)\u001b[0m\n\u001b[1;32m    940\u001b[0m             \u001b[0msample_weight\u001b[0m\u001b[0;34m=\u001b[0m\u001b[0msample_weight\u001b[0m\u001b[0;34m,\u001b[0m\u001b[0;34m\u001b[0m\u001b[0;34m\u001b[0m\u001b[0m\n\u001b[1;32m    941\u001b[0m             \u001b[0mcheck_input\u001b[0m\u001b[0;34m=\u001b[0m\u001b[0mcheck_input\u001b[0m\u001b[0;34m,\u001b[0m\u001b[0;34m\u001b[0m\u001b[0;34m\u001b[0m\u001b[0m\n\u001b[0;32m--> 942\u001b[0;31m             \u001b[0mX_idx_sorted\u001b[0m\u001b[0;34m=\u001b[0m\u001b[0mX_idx_sorted\u001b[0m\u001b[0;34m,\u001b[0m\u001b[0;34m\u001b[0m\u001b[0;34m\u001b[0m\u001b[0m\n\u001b[0m\u001b[1;32m    943\u001b[0m         )\n\u001b[1;32m    944\u001b[0m         \u001b[0;32mreturn\u001b[0m \u001b[0mself\u001b[0m\u001b[0;34m\u001b[0m\u001b[0;34m\u001b[0m\u001b[0m\n",
            "\u001b[0;32m/usr/local/lib/python3.7/dist-packages/sklearn/tree/_classes.py\u001b[0m in \u001b[0;36mfit\u001b[0;34m(self, X, y, sample_weight, check_input, X_idx_sorted)\u001b[0m\n\u001b[1;32m    418\u001b[0m             )\n\u001b[1;32m    419\u001b[0m \u001b[0;34m\u001b[0m\u001b[0m\n\u001b[0;32m--> 420\u001b[0;31m         \u001b[0mbuilder\u001b[0m\u001b[0;34m.\u001b[0m\u001b[0mbuild\u001b[0m\u001b[0;34m(\u001b[0m\u001b[0mself\u001b[0m\u001b[0;34m.\u001b[0m\u001b[0mtree_\u001b[0m\u001b[0;34m,\u001b[0m \u001b[0mX\u001b[0m\u001b[0;34m,\u001b[0m \u001b[0my\u001b[0m\u001b[0;34m,\u001b[0m \u001b[0msample_weight\u001b[0m\u001b[0;34m)\u001b[0m\u001b[0;34m\u001b[0m\u001b[0;34m\u001b[0m\u001b[0m\n\u001b[0m\u001b[1;32m    421\u001b[0m \u001b[0;34m\u001b[0m\u001b[0m\n\u001b[1;32m    422\u001b[0m         \u001b[0;32mif\u001b[0m \u001b[0mself\u001b[0m\u001b[0;34m.\u001b[0m\u001b[0mn_outputs_\u001b[0m \u001b[0;34m==\u001b[0m \u001b[0;36m1\u001b[0m \u001b[0;32mand\u001b[0m \u001b[0mis_classifier\u001b[0m\u001b[0;34m(\u001b[0m\u001b[0mself\u001b[0m\u001b[0;34m)\u001b[0m\u001b[0;34m:\u001b[0m\u001b[0;34m\u001b[0m\u001b[0;34m\u001b[0m\u001b[0m\n",
            "\u001b[0;31mKeyboardInterrupt\u001b[0m: "
          ]
        }
      ]
    },
    {
      "cell_type": "code",
      "source": [
        "# ensemble model training for click through prediction\n",
        "classifier_list, classifier_name_list = get_ensemble_models_clicked()\n",
        "for classifier,classifier_name in zip(classifier_list,classifier_name_list):\n",
        "    classifier.fit(X2_train,y2_train)\n",
        "    print_evaluation_metrics(classifier,classifier_name,X2_test,y2_test)"
      ],
      "metadata": {
        "id": "tKtF4xjOFW1K",
        "colab": {
          "base_uri": "https://localhost:8080/"
        },
        "outputId": "1d1c2af5-71be-4a99-f201-edd4238863cf"
      },
      "execution_count": null,
      "outputs": [
        {
          "output_type": "stream",
          "name": "stdout",
          "text": [
            "--------- Model :  Bagging  ---------------\n",
            "\n",
            "              precision    recall  f1-score   support\n",
            "\n",
            "           0       0.68      0.58      0.63    220991\n",
            "           1       0.66      0.74      0.70    241358\n",
            "\n",
            "    accuracy                           0.67    462349\n",
            "   macro avg       0.67      0.66      0.66    462349\n",
            "weighted avg       0.67      0.67      0.67    462349\n",
            "\n",
            "Accuracy Score :  0.6675995838641373\n",
            "---------------------------------------\n",
            "\n"
          ]
        }
      ]
    },
    {
      "cell_type": "code",
      "source": [
        "# ensemble model training for click through prediction\n",
        "classifier_list, classifier_name_list = get_ensemble_models_clicked()\n",
        "for classifier,classifier_name in zip(classifier_list,classifier_name_list):\n",
        "    classifier.fit(X2_train,y2_train)\n",
        "    print_evaluation_metrics(classifier,classifier_name,X2_test,y2_test)"
      ],
      "metadata": {
        "colab": {
          "base_uri": "https://localhost:8080/"
        },
        "id": "kRvatFANmt5d",
        "outputId": "c7da74f6-d4eb-40ce-a01f-e5a7faaa1dc7"
      },
      "execution_count": 16,
      "outputs": [
        {
          "output_type": "stream",
          "name": "stdout",
          "text": [
            "--------- Model :  Extra Trees  ---------------\n",
            "\n",
            "              precision    recall  f1-score   support\n",
            "\n",
            "           0       0.66      0.61      0.63    220991\n",
            "           1       0.67      0.72      0.69    241358\n",
            "\n",
            "    accuracy                           0.66    462349\n",
            "   macro avg       0.66      0.66      0.66    462349\n",
            "weighted avg       0.66      0.66      0.66    462349\n",
            "\n",
            "Accuracy Score :  0.6643747472147663\n",
            "---------------------------------------\n",
            "\n",
            "--------- Model :  AdaBoost  ---------------\n",
            "\n",
            "              precision    recall  f1-score   support\n",
            "\n",
            "           0       0.73      0.45      0.56    220991\n",
            "           1       0.63      0.85      0.72    241358\n",
            "\n",
            "    accuracy                           0.66    462349\n",
            "   macro avg       0.68      0.65      0.64    462349\n",
            "weighted avg       0.68      0.66      0.64    462349\n",
            "\n",
            "Accuracy Score :  0.6593979872347513\n",
            "---------------------------------------\n",
            "\n",
            "--------- Model :  Gradient Boost  ---------------\n",
            "\n",
            "              precision    recall  f1-score   support\n",
            "\n",
            "           0       0.77      0.43      0.55    220991\n",
            "           1       0.63      0.88      0.73    241358\n",
            "\n",
            "    accuracy                           0.66    462349\n",
            "   macro avg       0.70      0.65      0.64    462349\n",
            "weighted avg       0.69      0.66      0.64    462349\n",
            "\n",
            "Accuracy Score :  0.664007059602162\n",
            "---------------------------------------\n",
            "\n"
          ]
        }
      ]
    },
    {
      "cell_type": "markdown",
      "source": [
        "# **Part IV: Naive Bayes Models Training**"
      ],
      "metadata": {
        "id": "NO4-pmUw9EJa"
      }
    },
    {
      "cell_type": "code",
      "source": [
        "# define NB models\n",
        "def get_naive_bayes_models():\n",
        "    gnb = GaussianNB()\n",
        "    mnb = MultinomialNB()\n",
        "    bnb = BernoulliNB()\n",
        "    classifier_list = [gnb,mnb,bnb]\n",
        "    classifier_name_list = ['Gaussian NB','Multinomial NB','Bernoulli NB']\n",
        "    return classifier_list,classifier_name_list"
      ],
      "metadata": {
        "id": "xofbvFZPGkpa"
      },
      "execution_count": null,
      "outputs": []
    },
    {
      "cell_type": "code",
      "source": [
        "# NB model training for transaction prediction\n",
        "classifier_list, classifier_name_list = get_naive_bayes_models()\n",
        "for classifier,classifier_name in zip(classifier_list,classifier_name_list):\n",
        "    classifier.fit(X1_train,y1_train)\n",
        "    print_evaluation_metrics(classifier,classifier_name,X1_test,y1_test)"
      ],
      "metadata": {
        "colab": {
          "base_uri": "https://localhost:8080/"
        },
        "id": "QjGbUIwdGnS2",
        "outputId": "3866437f-3fcb-4549-c796-8fa3d8f52849"
      },
      "execution_count": null,
      "outputs": [
        {
          "output_type": "stream",
          "name": "stdout",
          "text": [
            "--------- Model :  Gaussian NB  ---------------\n",
            "\n",
            "              precision    recall  f1-score   support\n",
            "\n",
            "           0       0.68      0.43      0.53     22655\n",
            "           1       0.58      0.79      0.67     22396\n",
            "\n",
            "    accuracy                           0.61     45051\n",
            "   macro avg       0.63      0.61      0.60     45051\n",
            "weighted avg       0.63      0.61      0.60     45051\n",
            "\n",
            "Accuracy Score :  0.6125280237952543\n",
            "---------------------------------------\n",
            "\n",
            "--------- Model :  Multinomial NB  ---------------\n",
            "\n",
            "              precision    recall  f1-score   support\n",
            "\n",
            "           0       0.57      0.65      0.61     22655\n",
            "           1       0.59      0.51      0.55     22396\n",
            "\n",
            "    accuracy                           0.58     45051\n",
            "   macro avg       0.58      0.58      0.58     45051\n",
            "weighted avg       0.58      0.58      0.58     45051\n",
            "\n",
            "Accuracy Score :  0.5812745555037624\n",
            "---------------------------------------\n",
            "\n",
            "--------- Model :  Bernoulli NB  ---------------\n",
            "\n",
            "              precision    recall  f1-score   support\n",
            "\n",
            "           0       0.67      0.46      0.54     22655\n",
            "           1       0.58      0.77      0.67     22396\n",
            "\n",
            "    accuracy                           0.61     45051\n",
            "   macro avg       0.63      0.61      0.60     45051\n",
            "weighted avg       0.63      0.61      0.60     45051\n",
            "\n",
            "Accuracy Score :  0.6135046946793634\n",
            "---------------------------------------\n",
            "\n"
          ]
        }
      ]
    },
    {
      "cell_type": "code",
      "source": [
        "# NB model training for click through prediction\n",
        "classifier_list, classifier_name_list = get_naive_bayes_models()\n",
        "for classifier,classifier_name in zip(classifier_list,classifier_name_list):\n",
        "    classifier.fit(X2_train,y2_train)\n",
        "    print_evaluation_metrics(classifier,classifier_name,X2_test,y2_test)"
      ],
      "metadata": {
        "colab": {
          "base_uri": "https://localhost:8080/"
        },
        "id": "XKpLI8ghGsM0",
        "outputId": "473d0701-3592-4428-d1f4-a1480f35219e"
      },
      "execution_count": null,
      "outputs": [
        {
          "output_type": "stream",
          "name": "stdout",
          "text": [
            "--------- Model :  Gaussian NB  ---------------\n",
            "\n",
            "              precision    recall  f1-score   support\n",
            "\n",
            "           0       0.70      0.57      0.63    220991\n",
            "           1       0.66      0.78      0.72    241358\n",
            "\n",
            "    accuracy                           0.68    462349\n",
            "   macro avg       0.68      0.67      0.67    462349\n",
            "weighted avg       0.68      0.68      0.67    462349\n",
            "\n",
            "Accuracy Score :  0.6787556586042146\n",
            "---------------------------------------\n",
            "\n",
            "--------- Model :  Multinomial NB  ---------------\n",
            "\n",
            "              precision    recall  f1-score   support\n",
            "\n",
            "           0       0.66      0.76      0.71    220991\n",
            "           1       0.75      0.65      0.69    241358\n",
            "\n",
            "    accuracy                           0.70    462349\n",
            "   macro avg       0.71      0.70      0.70    462349\n",
            "weighted avg       0.71      0.70      0.70    462349\n",
            "\n",
            "Accuracy Score :  0.7022422455763936\n",
            "---------------------------------------\n",
            "\n",
            "--------- Model :  Bernoulli NB  ---------------\n",
            "\n",
            "              precision    recall  f1-score   support\n",
            "\n",
            "           0       0.67      0.48      0.56    220991\n",
            "           1       0.62      0.78      0.69    241358\n",
            "\n",
            "    accuracy                           0.64    462349\n",
            "   macro avg       0.65      0.63      0.63    462349\n",
            "weighted avg       0.64      0.64      0.63    462349\n",
            "\n",
            "Accuracy Score :  0.638729617669769\n",
            "---------------------------------------\n",
            "\n"
          ]
        }
      ]
    },
    {
      "cell_type": "markdown",
      "source": [
        "# **Part V: feature importances plot from Random Forest**"
      ],
      "metadata": {
        "id": "kMJUnY1I9gi-"
      }
    },
    {
      "cell_type": "code",
      "source": [
        "# feature importances plot for transaction prediction\n",
        "rf =RandomForestClassifier(n_estimators=130,min_samples_leaf=5,min_samples_split=3,random_state=40)\n",
        "rf.fit(X1_train, y1_train)\n",
        "(pd.Series(rf.feature_importances_, index=top_all_merge.columns).plot(kind='barh'))"
      ],
      "metadata": {
        "colab": {
          "base_uri": "https://localhost:8080/",
          "height": 282
        },
        "id": "6xnSQgNpGtWR",
        "outputId": "2fe1c20e-a531-40d4-de23-1fabef23d968"
      },
      "execution_count": null,
      "outputs": [
        {
          "output_type": "execute_result",
          "data": {
            "text/plain": [
              "<matplotlib.axes._subplots.AxesSubplot at 0x7f9a51ae3f90>"
            ]
          },
          "metadata": {},
          "execution_count": 21
        },
        {
          "output_type": "display_data",
          "data": {
            "text/plain": [
              "<Figure size 432x288 with 1 Axes>"
            ],
            "image/png": "[encoded data removed]"
          },
          "metadata": {
            "needs_background": "light"
          }
        }
      ]
    },
    {
      "cell_type": "code",
      "source": [
        "# feature importances plot for click through prediction\n",
        "rf =RandomForestClassifier(n_estimators=130,min_samples_leaf=5,min_samples_split=3,random_state=40)\n",
        "rf.fit(X2_train, y2_train)\n",
        "(pd.Series(rf.feature_importances_, index=top_all_merge.columns).plot(kind='barh'))"
      ],
      "metadata": {
        "colab": {
          "base_uri": "https://localhost:8080/",
          "height": 282
        },
        "id": "teaFnnEZKTzD",
        "outputId": "e04975e6-a499-42e4-90af-2f0b15ca4189"
      },
      "execution_count": null,
      "outputs": [
        {
          "output_type": "execute_result",
          "data": {
            "text/plain": [
              "<matplotlib.axes._subplots.AxesSubplot at 0x7f9a51961b10>"
            ]
          },
          "metadata": {},
          "execution_count": 22
        },
        {
          "output_type": "display_data",
          "data": {
            "text/plain": [
              "<Figure size 432x288 with 1 Axes>"
            ],
            "image/png": "[encoded data removed]"
          },
          "metadata": {
            "needs_background": "light"
          }
        }
      ]
    }
  ]
}