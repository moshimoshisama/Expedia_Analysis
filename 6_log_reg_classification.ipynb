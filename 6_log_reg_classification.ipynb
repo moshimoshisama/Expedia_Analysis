{
  "nbformat": 4,
  "nbformat_minor": 0,
  "metadata": {
    "colab": {
      "name": "6_log_reg_classification.ipynb",
      "provenance": [],
      "authorship_tag": "ABX9TyMX4I0NR5HH7eLP2u/OUasy",
      "include_colab_link": true
    },
    "kernelspec": {
      "name": "python3",
      "display_name": "Python 3"
    },
    "language_info": {
      "name": "python"
    }
  },
  "cells": [
    {
      "cell_type": "markdown",
      "metadata": {
        "id": "view-in-github",
        "colab_type": "text"
      },
      "source": [
        "<a href=\"https://colab.research.google.com/github/moshimoshisama/Expedia_Analysis/blob/main/6_log_reg_classification.ipynb\" target=\"_parent\"><img src=\"https://colab.research.google.com/assets/colab-badge.svg\" alt=\"Open In Colab\"/></a>"
      ]
    },
    {
      "cell_type": "markdown",
      "source": [
        "This notebook perform logistic regression classification models on sampled dataset, for click through and transaction predictions"
      ],
      "metadata": {
        "id": "YJ_B5Nhl-FkM"
      }
    },
    {
      "cell_type": "markdown",
      "source": [
        "# **Part I: Data Read in**"
      ],
      "metadata": {
        "id": "TGv29Xup-P7D"
      }
    },
    {
      "cell_type": "code",
      "execution_count": 1,
      "metadata": {
        "id": "PvwiUy7ndqa3"
      },
      "outputs": [],
      "source": [
        "import pandas as pd\n",
        "import numpy as np\n",
        "import seaborn as sns\n",
        "from sklearn import preprocessing\n",
        "import matplotlib.pyplot as plt \n",
        "plt.rc(\"font\", size=14)\n",
        "from sklearn.linear_model import LogisticRegression\n",
        "from sklearn.model_selection import train_test_split\n",
        "import seaborn as sns\n",
        "sns.set(style=\"white\")\n",
        "sns.set(style=\"whitegrid\", color_codes=True)"
      ]
    },
    {
      "cell_type": "code",
      "source": [
        "from google.colab import drive\n",
        "drive.mount('/content/drive')"
      ],
      "metadata": {
        "colab": {
          "base_uri": "https://localhost:8080/"
        },
        "id": "KjVejOUEdvoc",
        "outputId": "9063003c-080b-4e53-f0cb-bbdbb0090b12"
      },
      "execution_count": 3,
      "outputs": [
        {
          "output_type": "stream",
          "name": "stdout",
          "text": [
            "Mounted at /content/drive\n"
          ]
        }
      ]
    },
    {
      "cell_type": "code",
      "source": [
        "top10 = pd.read_csv(\"/content/drive/MyDrive/expedia/source/top1_0_data.csv\",sep=\",\")\n",
        "top11 = pd.read_csv(\"/content/drive/MyDrive/expedia/source/top1_1_sample_data.csv\",sep=\",\")\n",
        "top21 = pd.read_csv(\"/content/drive/MyDrive/expedia/source/top2_1_sample.csv\",sep=\",\")\n",
        "top20 = pd.read_csv(\"/content/drive/MyDrive/expedia/source/top2_0_sample_data.csv\",sep=\",\")\n",
        "top3 = pd.read_csv(\"/content/drive/MyDrive/expedia/source/top3_sample.csv\",sep=\",\")"
      ],
      "metadata": {
        "id": "5Z-JS_m-dw7m"
      },
      "execution_count": 4,
      "outputs": []
    },
    {
      "cell_type": "code",
      "source": [
        "top_list = [top10,top11,top21,top20,top3]"
      ],
      "metadata": {
        "id": "uyIZCTaRdziP"
      },
      "execution_count": 5,
      "outputs": []
    },
    {
      "cell_type": "code",
      "source": [
        "top_all = pd.concat(top_list)"
      ],
      "metadata": {
        "id": "bnysRnpwd00g"
      },
      "execution_count": 6,
      "outputs": []
    },
    {
      "cell_type": "code",
      "source": [
        "amenities = pd.read_csv(\"drive/MyDrive/expedia/source/amenities.tsv\",sep=\"\\t\")"
      ],
      "metadata": {
        "id": "lcYhbOlFd50E"
      },
      "execution_count": 7,
      "outputs": []
    },
    {
      "cell_type": "code",
      "source": [
        "top_all_merge = top_all.merge(amenities,on=['prop_id'], how='left')"
      ],
      "metadata": {
        "id": "SE2M2tIsd6RR"
      },
      "execution_count": 8,
      "outputs": []
    },
    {
      "cell_type": "markdown",
      "source": [
        "# **Part II: look into some of the bar plots over the dataset**"
      ],
      "metadata": {
        "id": "JVfMezLu-ZQP"
      }
    },
    {
      "cell_type": "code",
      "source": [
        "# frequency of clicked through over price bucket \n",
        "%matplotlib inline\n",
        "pd.crosstab(top_all_merge.price_bucket,top_all_merge.is_clicked).plot(kind='bar')\n",
        "plt.xlabel('price_bucket')\n",
        "plt.ylabel('Frequency of clicked')\n",
        "plt.savefig('fre_price_bucket_clicked')"
      ],
      "metadata": {
        "colab": {
          "base_uri": "https://localhost:8080/",
          "height": 292
        },
        "id": "EvT-5Dckd8M_",
        "outputId": "7613c900-ce60-4872-f8fc-290fa786420b"
      },
      "execution_count": 8,
      "outputs": [
        {
          "output_type": "display_data",
          "data": {
            "text/plain": [
              "<Figure size 432x288 with 1 Axes>"
            ],
            "image/png": "[encoded data removed]"
          },
          "metadata": {
            "needs_background": "light"
          }
        }
      ]
    },
    {
      "cell_type": "code",
      "source": [
        "# frequency of transaction over price bucket \n",
        "%matplotlib inline\n",
        "pd.crosstab(top_all_merge.price_bucket,top_all_merge.is_trans).plot(kind='bar')\n",
        "plt.xlabel('price_bucket')\n",
        "plt.ylabel('Frequency of booked')\n",
        "plt.savefig('fre_price_bucket_booked')"
      ],
      "metadata": {
        "colab": {
          "base_uri": "https://localhost:8080/",
          "height": 292
        },
        "id": "qQAK_7ULeGab",
        "outputId": "abd44870-21f6-499b-e53b-0fc47bb9b6ee"
      },
      "execution_count": 9,
      "outputs": [
        {
          "output_type": "display_data",
          "data": {
            "text/plain": [
              "<Figure size 432x288 with 1 Axes>"
            ],
            "image/png": "[encoded data removed]"
          },
          "metadata": {
            "needs_background": "light"
          }
        }
      ]
    },
    {
      "cell_type": "code",
      "source": [
        "# frequency of clicked through over reiew rating \n",
        "%matplotlib inline\n",
        "pd.crosstab(top_all_merge.review_rating,top_all_merge.is_clicked).plot(kind='bar')\n",
        "plt.xlabel('review_rating')\n",
        "plt.ylabel('Frequency of clicked')\n",
        "plt.savefig('fre_review_rating_clicked')"
      ],
      "metadata": {
        "colab": {
          "base_uri": "https://localhost:8080/",
          "height": 292
        },
        "id": "CRlO2z0aeI-7",
        "outputId": "53b707a1-f219-47bb-f7f2-0e05dcc172e9"
      },
      "execution_count": 10,
      "outputs": [
        {
          "output_type": "display_data",
          "data": {
            "text/plain": [
              "<Figure size 432x288 with 1 Axes>"
            ],
            "image/png": "[encoded data removed]"
          },
          "metadata": {
            "needs_background": "light"
          }
        }
      ]
    },
    {
      "cell_type": "code",
      "source": [
        "# frequency of transaction over reiew rating \n",
        "%matplotlib inline\n",
        "pd.crosstab(top_all_merge.review_rating,top_all_merge.is_trans).plot(kind='bar')\n",
        "plt.xlabel('review_rating')\n",
        "plt.ylabel('Frequency of trans')\n",
        "plt.savefig('fre_review_rating_trans')"
      ],
      "metadata": {
        "colab": {
          "base_uri": "https://localhost:8080/",
          "height": 292
        },
        "id": "Ox43Oe8DeLMb",
        "outputId": "0d109af6-b007-4879-9d29-c88241f7da8e"
      },
      "execution_count": 11,
      "outputs": [
        {
          "output_type": "display_data",
          "data": {
            "text/plain": [
              "<Figure size 432x288 with 1 Axes>"
            ],
            "image/png": "[encoded data removed]"
          },
          "metadata": {
            "needs_background": "light"
          }
        }
      ]
    },
    {
      "cell_type": "code",
      "source": [
        "# frequency of clicked through over star rating \n",
        "%matplotlib inline\n",
        "pd.crosstab(top_all_merge.star_rating,top_all_merge.is_clicked).plot(kind='bar')\n",
        "plt.xlabel('star_rating')\n",
        "plt.ylabel('Frequency of clicked')\n",
        "plt.savefig('fre_star_rating_clicked')"
      ],
      "metadata": {
        "colab": {
          "base_uri": "https://localhost:8080/",
          "height": 292
        },
        "id": "3Nq_Glv1eOzl",
        "outputId": "50aa2c92-9697-49a5-e5f6-805bd397e34b"
      },
      "execution_count": 12,
      "outputs": [
        {
          "output_type": "display_data",
          "data": {
            "text/plain": [
              "<Figure size 432x288 with 1 Axes>"
            ],
            "image/png": "[encoded data removed]"
          },
          "metadata": {
            "needs_background": "light"
          }
        }
      ]
    },
    {
      "cell_type": "code",
      "source": [
        "# frequency of transaction over star rating \n",
        "%matplotlib inline\n",
        "pd.crosstab(top_all_merge.star_rating,top_all_merge.is_trans).plot(kind='bar')\n",
        "plt.xlabel('star_rating')\n",
        "plt.ylabel('Frequency of booked')\n",
        "plt.savefig('fre_star_rating_booked')"
      ],
      "metadata": {
        "colab": {
          "base_uri": "https://localhost:8080/",
          "height": 292
        },
        "id": "OndXrk60eQRS",
        "outputId": "e79ecc96-0703-46fc-bec0-f718ad2a4e76"
      },
      "execution_count": 13,
      "outputs": [
        {
          "output_type": "display_data",
          "data": {
            "text/plain": [
              "<Figure size 432x288 with 1 Axes>"
            ],
            "image/png": "[encoded data removed]"
          },
          "metadata": {
            "needs_background": "light"
          }
        }
      ]
    },
    {
      "cell_type": "markdown",
      "source": [
        "# **Part III: Data Preprocessing & Feature Selecting & Model training**"
      ],
      "metadata": {
        "id": "9BvRKqfu_J-O"
      }
    },
    {
      "cell_type": "markdown",
      "source": [
        "**In General Data Preprocessing**"
      ],
      "metadata": {
        "id": "Ajin_4u2AaP1"
      }
    },
    {
      "cell_type": "code",
      "source": [
        "# only keep binary and catagorical features\n",
        "top_all_merge = top_all_merge.drop(['user_id','search_id','search_timestamp','point_of_sale','is_mobile',\\\n",
        "                  'geo_location_country','destination_id','checkin_date',\\\n",
        "                  'checkout_date','adult_count','child_count','infant_count','room_count','impressions','year_month',\\\n",
        "                  'year','month','prop_id','review_count','num_clicks','applied_filters','sort_type','rank',\\\n",
        "                  ],1)"
      ],
      "metadata": {
        "colab": {
          "base_uri": "https://localhost:8080/"
        },
        "id": "U6K46_7zeTNt",
        "outputId": "0313492f-40fb-467b-baa0-2b4c3a751154"
      },
      "execution_count": 9,
      "outputs": [
        {
          "output_type": "stream",
          "name": "stderr",
          "text": [
            "/usr/local/lib/python3.7/dist-packages/ipykernel_launcher.py:1: FutureWarning: In a future version of pandas all arguments of DataFrame.drop except for the argument 'labels' will be keyword-only\n",
            "  \"\"\"Entry point for launching an IPython kernel.\n"
          ]
        }
      ]
    },
    {
      "cell_type": "code",
      "source": [
        "top_all_merge['is_clicked'].value_counts()"
      ],
      "metadata": {
        "colab": {
          "base_uri": "https://localhost:8080/"
        },
        "id": "y5AIVssjeU7x",
        "outputId": "993f5702-3973-4969-c338-04152e535179"
      },
      "execution_count": 16,
      "outputs": [
        {
          "output_type": "execute_result",
          "data": {
            "text/plain": [
              "1    802820\n",
              "0    738343\n",
              "Name: is_clicked, dtype: int64"
            ]
          },
          "metadata": {},
          "execution_count": 16
        }
      ]
    },
    {
      "cell_type": "code",
      "source": [
        "top_all_merge['is_trans'].value_counts()"
      ],
      "metadata": {
        "colab": {
          "base_uri": "https://localhost:8080/"
        },
        "id": "d_m7zzjQeZMZ",
        "outputId": "840219f0-4ad3-49a4-d4b7-dbf094259391"
      },
      "execution_count": 17,
      "outputs": [
        {
          "output_type": "execute_result",
          "data": {
            "text/plain": [
              "0    1466079\n",
              "1      75084\n",
              "Name: is_trans, dtype: int64"
            ]
          },
          "metadata": {},
          "execution_count": 17
        }
      ]
    },
    {
      "cell_type": "code",
      "source": [
        "# expand the catagorical features into binary features\n",
        "cat_vars=['review_rating','star_rating','price_bucket']\n",
        "for var in cat_vars:\n",
        "    cat_list='var'+'_'+var\n",
        "    cat_list = pd.get_dummies(top_all_merge[var], prefix=var)\n",
        "    data1=top_all_merge.join(cat_list)\n",
        "    top_all_merge=data1\n",
        "cat_vars=['review_rating','star_rating','price_bucket']\n",
        "data_vars=top_all_merge.columns.values.tolist()\n",
        "to_keep=[i for i in data_vars if i not in cat_vars]"
      ],
      "metadata": {
        "id": "BIJDXvRueaVV"
      },
      "execution_count": 10,
      "outputs": []
    },
    {
      "cell_type": "code",
      "source": [
        "# list of features after expand\n",
        "to_keep"
      ],
      "metadata": {
        "colab": {
          "base_uri": "https://localhost:8080/"
        },
        "id": "-WF_pIhVedsr",
        "outputId": "c70de120-dcea-4146-ad2e-ce9562f3900e"
      },
      "execution_count": 19,
      "outputs": [
        {
          "output_type": "execute_result",
          "data": {
            "text/plain": [
              "['is_travel_ad',\n",
              " 'is_free_cancellation',\n",
              " 'is_drr',\n",
              " 'is_trans',\n",
              " 'is_clicked',\n",
              " 'AirConditioning',\n",
              " 'AirportTransfer',\n",
              " 'Bar',\n",
              " 'FreeAirportTransportation',\n",
              " 'FreeBreakfast',\n",
              " 'FreeParking',\n",
              " 'FreeWiFi',\n",
              " 'Gym',\n",
              " 'HighSpeedInternet',\n",
              " 'HotTub',\n",
              " 'LaundryFacility',\n",
              " 'Parking',\n",
              " 'PetsAllowed',\n",
              " 'PrivatePool',\n",
              " 'SpaServices',\n",
              " 'SwimmingPool',\n",
              " 'WasherDryer',\n",
              " 'WiFi',\n",
              " 'review_rating_0.0',\n",
              " 'review_rating_1.0',\n",
              " 'review_rating_2.0',\n",
              " 'review_rating_3.0',\n",
              " 'review_rating_4.0',\n",
              " 'review_rating_5.0',\n",
              " 'star_rating_0.0',\n",
              " 'star_rating_1.0',\n",
              " 'star_rating_2.0',\n",
              " 'star_rating_3.0',\n",
              " 'star_rating_4.0',\n",
              " 'star_rating_5.0',\n",
              " 'price_bucket_1.0',\n",
              " 'price_bucket_2.0',\n",
              " 'price_bucket_3.0',\n",
              " 'price_bucket_4.0',\n",
              " 'price_bucket_5.0']"
            ]
          },
          "metadata": {},
          "execution_count": 19
        }
      ]
    },
    {
      "cell_type": "code",
      "source": [
        "data_final=top_all_merge[to_keep]\n",
        "data_final_trans = data_final.drop(['is_clicked'],1)\n",
        "data_final_click = data_final.drop(['is_trans'],1)\n",
        "data_final.columns.values"
      ],
      "metadata": {
        "colab": {
          "base_uri": "https://localhost:8080/"
        },
        "id": "q7EFsqghefHu",
        "outputId": "02911e2d-12dc-4ca8-d9f1-d2b57711857c"
      },
      "execution_count": 14,
      "outputs": [
        {
          "output_type": "stream",
          "name": "stderr",
          "text": [
            "/usr/local/lib/python3.7/dist-packages/ipykernel_launcher.py:2: FutureWarning: In a future version of pandas all arguments of DataFrame.drop except for the argument 'labels' will be keyword-only\n",
            "  \n",
            "/usr/local/lib/python3.7/dist-packages/ipykernel_launcher.py:3: FutureWarning: In a future version of pandas all arguments of DataFrame.drop except for the argument 'labels' will be keyword-only\n",
            "  This is separate from the ipykernel package so we can avoid doing imports until\n"
          ]
        },
        {
          "output_type": "execute_result",
          "data": {
            "text/plain": [
              "array(['is_travel_ad', 'is_free_cancellation', 'is_drr', 'is_trans',\n",
              "       'is_clicked', 'AirConditioning', 'AirportTransfer', 'Bar',\n",
              "       'FreeAirportTransportation', 'FreeBreakfast', 'FreeParking',\n",
              "       'FreeWiFi', 'Gym', 'HighSpeedInternet', 'HotTub',\n",
              "       'LaundryFacility', 'Parking', 'PetsAllowed', 'PrivatePool',\n",
              "       'SpaServices', 'SwimmingPool', 'WasherDryer', 'WiFi',\n",
              "       'review_rating_0.0', 'review_rating_1.0', 'review_rating_2.0',\n",
              "       'review_rating_3.0', 'review_rating_4.0', 'review_rating_5.0',\n",
              "       'star_rating_0.0', 'star_rating_1.0', 'star_rating_2.0',\n",
              "       'star_rating_3.0', 'star_rating_4.0', 'star_rating_5.0',\n",
              "       'price_bucket_1.0', 'price_bucket_2.0', 'price_bucket_3.0',\n",
              "       'price_bucket_4.0', 'price_bucket_5.0'], dtype=object)"
            ]
          },
          "metadata": {},
          "execution_count": 14
        }
      ]
    },
    {
      "cell_type": "code",
      "source": [
        "data_final_trans = data_final_trans.fillna(0)\n",
        "data_final_click = data_final_click.fillna(0)"
      ],
      "metadata": {
        "id": "fNgkQF0hehlw"
      },
      "execution_count": 16,
      "outputs": []
    },
    {
      "cell_type": "markdown",
      "source": [
        "**Data oversampling and Feature selecting for click through prediction**"
      ],
      "metadata": {
        "id": "j4RZuzEPAuO1"
      }
    },
    {
      "cell_type": "code",
      "source": [
        "# oversampled click through dataset\n",
        "X = data_final_click.loc[:, data_final_click.columns != 'is_clicked']\n",
        "y = data_final_click.loc[:, data_final_click.columns == 'is_clicked']\n",
        "from imblearn.over_sampling import SMOTE\n",
        "os = SMOTE(random_state=0)\n",
        "X_train, X_test, y_train, y_test = train_test_split(X, y, test_size=0.3, random_state=0)\n",
        "columns = X_train.columns\n",
        "#os_data_X,os_data_y=os.fit_resample(X_train, y_train)\n",
        "os_data_X = pd.DataFrame(data=X_train,columns=columns )\n",
        "os_data_y= pd.DataFrame(data=y_train,columns=['is_clicked'])\n",
        "# we can Check the numbers of our data\n",
        "print(\"length of oversampled data is \",len(os_data_X))\n",
        "print(\"Number of no subscription in oversampled data\",len(os_data_y[os_data_y['is_clicked']==0]))\n",
        "print(\"Number of subscription\",len(os_data_y[os_data_y['is_clicked']==1]))\n",
        "print(\"Proportion of no subscription data in oversampled data is \",len(os_data_y[os_data_y['is_clicked']==0])/len(os_data_X))\n",
        "print(\"Proportion of subscription data in oversampled data is \",len(os_data_y[os_data_y['is_clicked']==1])/len(os_data_X))"
      ],
      "metadata": {
        "colab": {
          "base_uri": "https://localhost:8080/"
        },
        "id": "Bv-8_jG3emdz",
        "outputId": "557984b2-90e8-4379-e2e4-68226f883e85"
      },
      "execution_count": 17,
      "outputs": [
        {
          "output_type": "stream",
          "name": "stdout",
          "text": [
            "length of oversampled data is  1078814\n",
            "Number of no subscription in oversampled data 517369\n",
            "Number of subscription 561445\n",
            "Proportion of no subscription data in oversampled data is  0.47957201148668815\n",
            "Proportion of subscription data in oversampled data is  0.5204279885133118\n"
          ]
        }
      ]
    },
    {
      "cell_type": "code",
      "source": [
        "# perform RFE to select features\n",
        "data_final_vars=data_final.columns.values.tolist()\n",
        "y=['is_clicked']\n",
        "X=[i for i in data_final_vars if i not in y]\n",
        "from sklearn.feature_selection import RFE\n",
        "from sklearn.linear_model import LogisticRegression\n",
        "logreg = LogisticRegression()\n",
        "rfe = RFE(logreg, step= 20)\n",
        "rfe = rfe.fit(os_data_X, os_data_y.values.ravel())\n",
        "print(rfe.support_)\n",
        "print(rfe.ranking_)"
      ],
      "metadata": {
        "colab": {
          "base_uri": "https://localhost:8080/"
        },
        "id": "xEfZ6buffXYT",
        "outputId": "b9935aa0-3f10-49f5-a37e-ac5fc5fc83ce"
      },
      "execution_count": 18,
      "outputs": [
        {
          "output_type": "stream",
          "name": "stderr",
          "text": [
            "/usr/local/lib/python3.7/dist-packages/sklearn/linear_model/_logistic.py:818: ConvergenceWarning: lbfgs failed to converge (status=1):\n",
            "STOP: TOTAL NO. of ITERATIONS REACHED LIMIT.\n",
            "\n",
            "Increase the number of iterations (max_iter) or scale the data as shown in:\n",
            "    https://scikit-learn.org/stable/modules/preprocessing.html\n",
            "Please also refer to the documentation for alternative solver options:\n",
            "    https://scikit-learn.org/stable/modules/linear_model.html#logistic-regression\n",
            "  extra_warning_msg=_LOGISTIC_SOLVER_CONVERGENCE_MSG,\n"
          ]
        },
        {
          "output_type": "stream",
          "name": "stdout",
          "text": [
            "[ True False  True False  True  True False False False False False False\n",
            " False False False False False  True False False False  True  True  True\n",
            "  True False False False  True  True  True  True  True  True  True  True\n",
            "  True  True]\n",
            "[1 2 1 2 1 1 2 2 2 2 2 2 2 2 2 2 2 1 2 2 2 1 1 1 1 2 2 2 1 1 1 1 1 1 1 1 1\n",
            " 1]\n"
          ]
        }
      ]
    },
    {
      "cell_type": "code",
      "source": [
        "cols = ['is_travel_ad', 'is_free_cancellation', 'is_drr',\n",
        "      'AirConditioning', 'AirportTransfer', 'Bar',\n",
        "       'FreeAirportTransportation', 'FreeBreakfast', 'FreeParking',\n",
        "       'FreeWiFi', 'Gym', 'HighSpeedInternet', 'HotTub',\n",
        "       'LaundryFacility', 'Parking', 'PetsAllowed', 'PrivatePool',\n",
        "       'SpaServices', 'SwimmingPool', 'WasherDryer', 'WiFi',\n",
        "       'review_rating_0.0', 'review_rating_1.0', 'review_rating_2.0',\n",
        "       'review_rating_3.0', 'review_rating_4.0', 'review_rating_5.0',\n",
        "       'star_rating_1.0', 'star_rating_2.0', 'star_rating_3.0',\n",
        "       'star_rating_4.0', 'star_rating_5.0', 'price_bucket_1.0',\n",
        "       'price_bucket_2.0', 'price_bucket_3.0', 'price_bucket_4.0',\n",
        "       'price_bucket_5.0']"
      ],
      "metadata": {
        "id": "ILLuiPExfe1Y"
      },
      "execution_count": 19,
      "outputs": []
    },
    {
      "cell_type": "code",
      "source": [
        "# select the features based on RFE results\n",
        "selected=[]\n",
        "for i in range(0,len(cols)):\n",
        "  if (rfe.support_[i]==True):\n",
        "    selected.append(cols[i])\n",
        "\n",
        "print(selected)"
      ],
      "metadata": {
        "colab": {
          "base_uri": "https://localhost:8080/"
        },
        "id": "yGpUD4WRfnxY",
        "outputId": "cbb29d36-0625-491e-f337-6dc8f324af87"
      },
      "execution_count": 20,
      "outputs": [
        {
          "output_type": "stream",
          "name": "stdout",
          "text": [
            "['is_travel_ad', 'is_drr', 'AirportTransfer', 'Bar', 'SpaServices', 'review_rating_0.0', 'review_rating_1.0', 'review_rating_2.0', 'review_rating_3.0', 'star_rating_2.0', 'star_rating_3.0', 'star_rating_4.0', 'star_rating_5.0', 'price_bucket_1.0', 'price_bucket_2.0', 'price_bucket_3.0', 'price_bucket_4.0', 'price_bucket_5.0']\n"
          ]
        }
      ]
    },
    {
      "cell_type": "code",
      "source": [
        "# identify x and y for training\n",
        "X=os_data_X[selected]\n",
        "y=os_data_y['is_clicked']"
      ],
      "metadata": {
        "id": "Q-GGClsqfpZo"
      },
      "execution_count": 21,
      "outputs": []
    },
    {
      "cell_type": "code",
      "source": [
        "# perform statistical logistic model, if any feature with p-value > 0.05, we drop the feature\n",
        "import statsmodels.api as sm\n",
        "logit_model=sm.Logit(y,X)\n",
        "result=logit_model.fit()\n",
        "print(result.summary2())"
      ],
      "metadata": {
        "colab": {
          "base_uri": "https://localhost:8080/"
        },
        "id": "Ppm70paKfrwm",
        "outputId": "19c2f59d-9e2b-47d2-b032-d2d94011748d"
      },
      "execution_count": 22,
      "outputs": [
        {
          "output_type": "stream",
          "name": "stderr",
          "text": [
            "/usr/local/lib/python3.7/dist-packages/statsmodels/tools/_testing.py:19: FutureWarning: pandas.util.testing is deprecated. Use the functions in the public API at pandas.testing instead.\n",
            "  import pandas.util.testing as tm\n"
          ]
        },
        {
          "output_type": "stream",
          "name": "stdout",
          "text": [
            "Optimization terminated successfully.\n",
            "         Current function value: 0.647972\n",
            "         Iterations 5\n",
            "                          Results: Logit\n",
            "===================================================================\n",
            "Model:              Logit            Pseudo R-squared: 0.064       \n",
            "Dependent Variable: is_clicked       AIC:              1398117.7817\n",
            "Date:               2022-05-06 10:01 BIC:              1398331.8264\n",
            "No. Observations:   1078814          Log-Likelihood:   -6.9904e+05 \n",
            "Df Model:           17               LL-Null:          -7.4688e+05 \n",
            "Df Residuals:       1078796          LLR p-value:      0.0000      \n",
            "Converged:          1.0000           Scale:            1.0000      \n",
            "No. Iterations:     5.0000                                         \n",
            "-------------------------------------------------------------------\n",
            "                   Coef.  Std.Err.     z     P>|z|   [0.025  0.975]\n",
            "-------------------------------------------------------------------\n",
            "is_travel_ad       0.5916   0.0087   67.7592 0.0000  0.5745  0.6087\n",
            "is_drr            -0.2063   0.0046  -44.5485 0.0000 -0.2154 -0.1972\n",
            "AirportTransfer   -0.3321   0.0082  -40.4960 0.0000 -0.3482 -0.3160\n",
            "Bar                0.1913   0.0054   35.1117 0.0000  0.1806  0.2019\n",
            "SpaServices        0.2563   0.0070   36.5935 0.0000  0.2426  0.2700\n",
            "review_rating_0.0 -1.7253   0.0094 -184.1244 0.0000 -1.7437 -1.7069\n",
            "review_rating_1.0 -1.2900   0.0590  -21.8634 0.0000 -1.4057 -1.1744\n",
            "review_rating_2.0 -0.5514   0.0225  -24.4896 0.0000 -0.5955 -0.5073\n",
            "review_rating_3.0 -0.4025   0.0082  -49.1725 0.0000 -0.4185 -0.3864\n",
            "star_rating_2.0   -0.2303   0.0091  -25.2238 0.0000 -0.2482 -0.2124\n",
            "star_rating_3.0   -0.2540   0.0061  -41.9779 0.0000 -0.2659 -0.2421\n",
            "star_rating_4.0   -0.3005   0.0072  -41.5784 0.0000 -0.3146 -0.2863\n",
            "star_rating_5.0   -0.3416   0.0107  -31.9051 0.0000 -0.3626 -0.3206\n",
            "price_bucket_1.0   0.9904   0.0072  136.6156 0.0000  0.9761  1.0046\n",
            "price_bucket_2.0   0.7590   0.0072  105.3013 0.0000  0.7448  0.7731\n",
            "price_bucket_3.0   0.6582   0.0073   90.7218 0.0000  0.6440  0.6724\n",
            "price_bucket_4.0   0.5768   0.0073   78.7282 0.0000  0.5625  0.5912\n",
            "price_bucket_5.0   0.4205   0.0075   55.7348 0.0000  0.4057  0.4353\n",
            "===================================================================\n",
            "\n"
          ]
        }
      ]
    },
    {
      "cell_type": "markdown",
      "source": [
        "Logistic Regression Model Training for click through prediction"
      ],
      "metadata": {
        "id": "HIxc6k_eA2LW"
      }
    },
    {
      "cell_type": "code",
      "source": [
        "# split the dataset into 70% training and 30% testing, then fit the logistic regresion model\n",
        "from sklearn.linear_model import LogisticRegression\n",
        "from sklearn import metrics\n",
        "X_train, X_test, y_train, y_test = train_test_split(X, y, test_size=0.3, random_state=0)\n",
        "logreg = LogisticRegression()\n",
        "logreg.fit(X_train, y_train)"
      ],
      "metadata": {
        "colab": {
          "base_uri": "https://localhost:8080/"
        },
        "id": "6z8kvg8_fthz",
        "outputId": "f237ac49-9201-4957-b855-da0a73f7632f"
      },
      "execution_count": 23,
      "outputs": [
        {
          "output_type": "execute_result",
          "data": {
            "text/plain": [
              "LogisticRegression()"
            ]
          },
          "metadata": {},
          "execution_count": 23
        }
      ]
    },
    {
      "cell_type": "code",
      "source": [
        "# predict on y and calculate accuracy\n",
        "y_pred = logreg.predict(X_test)\n",
        "print('Accuracy of logistic regression classifier on test set: {:.2f}'.format(logreg.score(X_test, y_test)))"
      ],
      "metadata": {
        "colab": {
          "base_uri": "https://localhost:8080/"
        },
        "id": "a7eucrcUgF1q",
        "outputId": "3178c937-8d8d-4092-efbb-e595b0fe26ee"
      },
      "execution_count": 24,
      "outputs": [
        {
          "output_type": "stream",
          "name": "stdout",
          "text": [
            "Accuracy of logistic regression classifier on test set: 0.66\n"
          ]
        }
      ]
    },
    {
      "cell_type": "code",
      "source": [
        "# confusion matrix, the result is telling us that we have 67253+145454 correct predictions and 88031+22907 incorrect predictions.\n",
        "from sklearn.metrics import confusion_matrix\n",
        "confusion_matrix = confusion_matrix(y_test, y_pred)\n",
        "print(confusion_matrix)"
      ],
      "metadata": {
        "colab": {
          "base_uri": "https://localhost:8080/"
        },
        "id": "jxmF_n8ugIlb",
        "outputId": "ae7acff7-643b-4b8f-e658-34ea0ea8380a"
      },
      "execution_count": 25,
      "outputs": [
        {
          "output_type": "stream",
          "name": "stdout",
          "text": [
            "[[ 67253  88031]\n",
            " [ 22907 145454]]\n"
          ]
        }
      ]
    },
    {
      "cell_type": "code",
      "source": [
        "# calculate metrics\n",
        "from sklearn.metrics import classification_report\n",
        "print(classification_report(y_test, y_pred))"
      ],
      "metadata": {
        "colab": {
          "base_uri": "https://localhost:8080/"
        },
        "id": "Mv6yoDaXgK7Y",
        "outputId": "33915e36-3916-461b-8d88-16ff27dc6289"
      },
      "execution_count": 26,
      "outputs": [
        {
          "output_type": "stream",
          "name": "stdout",
          "text": [
            "              precision    recall  f1-score   support\n",
            "\n",
            "           0       0.75      0.43      0.55    155284\n",
            "           1       0.62      0.86      0.72    168361\n",
            "\n",
            "    accuracy                           0.66    323645\n",
            "   macro avg       0.68      0.65      0.64    323645\n",
            "weighted avg       0.68      0.66      0.64    323645\n",
            "\n"
          ]
        }
      ]
    },
    {
      "cell_type": "code",
      "source": [
        "# plot ROC curve\n",
        "from sklearn.metrics import roc_auc_score\n",
        "from sklearn.metrics import roc_curve\n",
        "logit_roc_auc = roc_auc_score(y_test, logreg.predict(X_test))\n",
        "fpr, tpr, thresholds = roc_curve(y_test, logreg.predict_proba(X_test)[:,1])\n",
        "plt.figure()\n",
        "plt.plot(fpr, tpr, label='Logistic Regression (area = %0.2f)' % logit_roc_auc)\n",
        "plt.plot([0, 1], [0, 1],'r--')\n",
        "plt.xlim([0.0, 1.0])\n",
        "plt.ylim([0.0, 1.05])\n",
        "plt.xlabel('False Positive Rate')\n",
        "plt.ylabel('True Positive Rate')\n",
        "plt.title('Receiver operating characteristic')\n",
        "plt.legend(loc=\"lower right\")\n",
        "plt.savefig('Log_ROC')\n",
        "plt.show()"
      ],
      "metadata": {
        "colab": {
          "base_uri": "https://localhost:8080/",
          "height": 301
        },
        "id": "QfOYL4aKgX6s",
        "outputId": "a6aa87be-d46f-4b4f-c1f8-eae1758b0778"
      },
      "execution_count": 27,
      "outputs": [
        {
          "output_type": "display_data",
          "data": {
            "text/plain": [
              "<Figure size 432x288 with 1 Axes>"
            ],
            "image/png": "[encoded data removed]"
          },
          "metadata": {
            "needs_background": "light"
          }
        }
      ]
    },
    {
      "cell_type": "markdown",
      "source": [
        "**Data oversampling and Feature selecting for transaction prediction**"
      ],
      "metadata": {
        "id": "8d0WXFqlgdu-"
      }
    },
    {
      "cell_type": "code",
      "source": [
        "# oversampled transaction dataset\n",
        "X = data_final_trans.loc[:, data_final_trans.columns != 'is_trans']\n",
        "y = data_final_trans.loc[:, data_final_trans.columns == 'is_trans']\n",
        "from imblearn.over_sampling import SMOTE\n",
        "os = SMOTE(random_state=0)\n",
        "X_train, X_test, y_train, y_test = train_test_split(X, y, test_size=0.3, random_state=0)\n",
        "columns = X_train.columns\n",
        "os_data_X,os_data_y=os.fit_resample(X_train, y_train)\n",
        "os_data_X = pd.DataFrame(data=os_data_X,columns=columns )\n",
        "os_data_y= pd.DataFrame(data=os_data_y,columns=['is_trans'])\n",
        "# we can Check the numbers of our data\n",
        "print(\"length of oversampled data is \",len(os_data_X))\n",
        "print(\"Number of no subscription in oversampled data\",len(os_data_y[os_data_y['is_trans']==0]))\n",
        "print(\"Number of subscription\",len(os_data_y[os_data_y['is_trans']==1]))\n",
        "print(\"Proportion of no subscription data in oversampled data is \",len(os_data_y[os_data_y['is_trans']==0])/len(os_data_X))\n",
        "print(\"Proportion of subscription data in oversampled data is \",len(os_data_y[os_data_y['is_trans']==1])/len(os_data_X))"
      ],
      "metadata": {
        "colab": {
          "base_uri": "https://localhost:8080/"
        },
        "id": "es1-A6YogbpY",
        "outputId": "73d1a9ab-42af-4a1b-a98b-02d5fd9e8d87"
      },
      "execution_count": 28,
      "outputs": [
        {
          "output_type": "stream",
          "name": "stdout",
          "text": [
            "length of oversampled data is  2052412\n",
            "Number of no subscription in oversampled data 1026206\n",
            "Number of subscription 1026206\n",
            "Proportion of no subscription data in oversampled data is  0.5\n",
            "Proportion of subscription data in oversampled data is  0.5\n"
          ]
        }
      ]
    },
    {
      "cell_type": "code",
      "source": [
        "# perform RFE to select features\n",
        "data_final_vars=data_final_trans.columns.values.tolist()\n",
        "y=['is_trans']\n",
        "X=[i for i in data_final_vars if i not in y]\n",
        "from sklearn.feature_selection import RFE\n",
        "from sklearn.linear_model import LogisticRegression\n",
        "logreg = LogisticRegression()\n",
        "rfe = RFE(logreg, step= 20)\n",
        "rfe = rfe.fit(os_data_X, os_data_y.values.ravel())\n",
        "print(rfe.support_)\n",
        "print(rfe.ranking_)"
      ],
      "metadata": {
        "colab": {
          "base_uri": "https://localhost:8080/"
        },
        "id": "xRTreOcOghpc",
        "outputId": "78def44a-39bc-4791-f48c-4471ecfbdfd8"
      },
      "execution_count": 29,
      "outputs": [
        {
          "output_type": "stream",
          "name": "stderr",
          "text": [
            "/usr/local/lib/python3.7/dist-packages/sklearn/linear_model/_logistic.py:818: ConvergenceWarning: lbfgs failed to converge (status=1):\n",
            "STOP: TOTAL NO. of ITERATIONS REACHED LIMIT.\n",
            "\n",
            "Increase the number of iterations (max_iter) or scale the data as shown in:\n",
            "    https://scikit-learn.org/stable/modules/preprocessing.html\n",
            "Please also refer to the documentation for alternative solver options:\n",
            "    https://scikit-learn.org/stable/modules/linear_model.html#logistic-regression\n",
            "  extra_warning_msg=_LOGISTIC_SOLVER_CONVERGENCE_MSG,\n"
          ]
        },
        {
          "output_type": "stream",
          "name": "stdout",
          "text": [
            "[ True False False False  True False False False False False  True False\n",
            " False False False False  True False False  True False  True  True  True\n",
            "  True  True  True False  True  True  True  True  True False False  True\n",
            "  True  True]\n",
            "[1 2 2 2 1 2 2 2 2 2 1 2 2 2 2 2 1 2 2 1 2 1 1 1 1 1 1 2 1 1 1 1 1 2 2 1 1\n",
            " 1]\n"
          ]
        },
        {
          "output_type": "stream",
          "name": "stderr",
          "text": [
            "/usr/local/lib/python3.7/dist-packages/sklearn/linear_model/_logistic.py:818: ConvergenceWarning: lbfgs failed to converge (status=1):\n",
            "STOP: TOTAL NO. of ITERATIONS REACHED LIMIT.\n",
            "\n",
            "Increase the number of iterations (max_iter) or scale the data as shown in:\n",
            "    https://scikit-learn.org/stable/modules/preprocessing.html\n",
            "Please also refer to the documentation for alternative solver options:\n",
            "    https://scikit-learn.org/stable/modules/linear_model.html#logistic-regression\n",
            "  extra_warning_msg=_LOGISTIC_SOLVER_CONVERGENCE_MSG,\n"
          ]
        }
      ]
    },
    {
      "cell_type": "code",
      "source": [
        "trans_cols = ['is_travel_ad',\n",
        " 'is_free_cancellation',\n",
        " 'is_drr',\n",
        " 'AirConditioning',\n",
        " 'AirportTransfer',\n",
        " 'Bar',\n",
        " 'FreeAirportTransportation',\n",
        " 'FreeBreakfast',\n",
        " 'FreeParking',\n",
        " 'FreeWiFi',\n",
        " 'Gym',\n",
        " 'HighSpeedInternet',\n",
        " 'HotTub',\n",
        " 'LaundryFacility',\n",
        " 'Parking',\n",
        " 'PetsAllowed',\n",
        " 'PrivatePool',\n",
        " 'SpaServices',\n",
        " 'SwimmingPool',\n",
        " 'WasherDryer',\n",
        " 'WiFi',\n",
        " 'review_rating_0.0',\n",
        " 'review_rating_1.0',\n",
        " 'review_rating_2.0',\n",
        " 'review_rating_3.0',\n",
        " 'review_rating_4.0',\n",
        " 'review_rating_5.0',\n",
        " 'star_rating_1.0',\n",
        " 'star_rating_2.0',\n",
        " 'star_rating_3.0',\n",
        " 'star_rating_4.0',\n",
        " 'star_rating_5.0',\n",
        " 'price_bucket_1.0',\n",
        " 'price_bucket_2.0',\n",
        " 'price_bucket_3.0',\n",
        " 'price_bucket_4.0',\n",
        " 'price_bucket_5.0']"
      ],
      "metadata": {
        "id": "E8Q6h61TgkEr"
      },
      "execution_count": 30,
      "outputs": []
    },
    {
      "cell_type": "code",
      "source": [
        "# select the features based on RFE results\n",
        "selected=[]\n",
        "for i in range(0,len(cols)):\n",
        "  if (rfe.support_[i]==True):\n",
        "    selected.append(trans_cols[i])\n",
        "\n",
        "print(selected)"
      ],
      "metadata": {
        "colab": {
          "base_uri": "https://localhost:8080/"
        },
        "id": "oP7bsBy1gniW",
        "outputId": "27c7163a-881d-4235-e914-2dbcb3cc6231"
      },
      "execution_count": 31,
      "outputs": [
        {
          "output_type": "stream",
          "name": "stdout",
          "text": [
            "['is_travel_ad', 'AirportTransfer', 'Gym', 'PrivatePool', 'WasherDryer', 'review_rating_0.0', 'review_rating_1.0', 'review_rating_2.0', 'review_rating_3.0', 'review_rating_4.0', 'review_rating_5.0', 'star_rating_2.0', 'star_rating_3.0', 'star_rating_4.0', 'star_rating_5.0', 'price_bucket_1.0', 'price_bucket_4.0', 'price_bucket_5.0']\n"
          ]
        }
      ]
    },
    {
      "cell_type": "code",
      "source": [
        "# identify x and y for training\n",
        "X=os_data_X[selected]\n",
        "y=os_data_y['is_trans']"
      ],
      "metadata": {
        "id": "xMJvXL0Rgpee"
      },
      "execution_count": 32,
      "outputs": []
    },
    {
      "cell_type": "code",
      "source": [
        "# perform statistical logistic model, if any feature with p-value > 0.05, we drop the feature\n",
        "import statsmodels.api as sm\n",
        "logit_model=sm.Logit(y,X)\n",
        "result=logit_model.fit()\n",
        "print(result.summary2())"
      ],
      "metadata": {
        "colab": {
          "base_uri": "https://localhost:8080/"
        },
        "id": "nDKHXzsRgrBm",
        "outputId": "0d867fe8-7753-4552-c20a-ec6f17e5fa44"
      },
      "execution_count": 33,
      "outputs": [
        {
          "output_type": "stream",
          "name": "stdout",
          "text": [
            "Optimization terminated successfully.\n",
            "         Current function value: 0.619119\n",
            "         Iterations 9\n",
            "                          Results: Logit\n",
            "===================================================================\n",
            "Model:              Logit            Pseudo R-squared: 0.107       \n",
            "Dependent Variable: is_trans         AIC:              2541408.5740\n",
            "Date:               2022-05-06 10:05 BIC:              2541634.1955\n",
            "No. Observations:   2052412          Log-Likelihood:   -1.2707e+06 \n",
            "Df Model:           17               LL-Null:          -1.4226e+06 \n",
            "Df Residuals:       2052394          LLR p-value:      0.0000      \n",
            "Converged:          1.0000           Scale:            1.0000      \n",
            "No. Iterations:     9.0000                                         \n",
            "-------------------------------------------------------------------\n",
            "                   Coef.  Std.Err.     z     P>|z|   [0.025  0.975]\n",
            "-------------------------------------------------------------------\n",
            "is_travel_ad      -0.7166   0.0064 -112.3238 0.0000 -0.7291 -0.7041\n",
            "AirportTransfer   -0.6797   0.0068 -100.6194 0.0000 -0.6930 -0.6665\n",
            "Gym                0.5938   0.0036  166.4791 0.0000  0.5868  0.6008\n",
            "PrivatePool       -1.6516   0.0451  -36.5869 0.0000 -1.7401 -1.5631\n",
            "WasherDryer       -0.7132   0.0103  -69.4500 0.0000 -0.7333 -0.6930\n",
            "review_rating_0.0 -4.8599   0.0225 -216.4459 0.0000 -4.9039 -4.8159\n",
            "review_rating_1.0 -6.9338   0.3799  -18.2511 0.0000 -7.6784 -6.1892\n",
            "review_rating_2.0 -2.6603   0.0201 -132.2172 0.0000 -2.6998 -2.6209\n",
            "review_rating_3.0 -2.3410   0.0115 -203.5331 0.0000 -2.3636 -2.3185\n",
            "review_rating_4.0 -2.3209   0.0101 -229.0941 0.0000 -2.3408 -2.3011\n",
            "review_rating_5.0 -2.5073   0.0099 -254.1095 0.0000 -2.5267 -2.4880\n",
            "star_rating_2.0    2.5440   0.0113  225.4645 0.0000  2.5219  2.5661\n",
            "star_rating_3.0    2.3154   0.0102  226.0599 0.0000  2.2953  2.3355\n",
            "star_rating_4.0    2.2181   0.0104  212.7613 0.0000  2.1976  2.2385\n",
            "star_rating_5.0    2.2678   0.0114  199.5333 0.0000  2.2455  2.2900\n",
            "price_bucket_1.0   0.0641   0.0041   15.5602 0.0000  0.0560  0.0721\n",
            "price_bucket_4.0  -0.0262   0.0043   -6.0830 0.0000 -0.0346 -0.0178\n",
            "price_bucket_5.0  -0.0785   0.0048  -16.3022 0.0000 -0.0879 -0.0690\n",
            "===================================================================\n",
            "\n"
          ]
        }
      ]
    },
    {
      "cell_type": "code",
      "source": [
        "# split the dataset into 70% training and 30% testing, then fit the logistic regresion model\n",
        "from sklearn.linear_model import LogisticRegression\n",
        "from sklearn import metrics\n",
        "X_train, X_test, y_train, y_test = train_test_split(X, y, test_size=0.3, random_state=0)\n",
        "logreg = LogisticRegression()\n",
        "logreg.fit(X_train, y_train)"
      ],
      "metadata": {
        "colab": {
          "base_uri": "https://localhost:8080/"
        },
        "id": "bjnnhdxrgsh5",
        "outputId": "13d9e0a2-d309-43e2-c322-bd58b5aa38cb"
      },
      "execution_count": 34,
      "outputs": [
        {
          "output_type": "stream",
          "name": "stderr",
          "text": [
            "/usr/local/lib/python3.7/dist-packages/sklearn/linear_model/_logistic.py:818: ConvergenceWarning: lbfgs failed to converge (status=1):\n",
            "STOP: TOTAL NO. of ITERATIONS REACHED LIMIT.\n",
            "\n",
            "Increase the number of iterations (max_iter) or scale the data as shown in:\n",
            "    https://scikit-learn.org/stable/modules/preprocessing.html\n",
            "Please also refer to the documentation for alternative solver options:\n",
            "    https://scikit-learn.org/stable/modules/linear_model.html#logistic-regression\n",
            "  extra_warning_msg=_LOGISTIC_SOLVER_CONVERGENCE_MSG,\n"
          ]
        },
        {
          "output_type": "execute_result",
          "data": {
            "text/plain": [
              "LogisticRegression()"
            ]
          },
          "metadata": {},
          "execution_count": 34
        }
      ]
    },
    {
      "cell_type": "code",
      "source": [
        "# predict on y and calculate accuracy\n",
        "y_pred = logreg.predict(X_test)\n",
        "print('Accuracy of logistic regression classifier on test set: {:.2f}'.format(logreg.score(X_test, y_test)))"
      ],
      "metadata": {
        "colab": {
          "base_uri": "https://localhost:8080/"
        },
        "id": "H4YpNpOdhYYd",
        "outputId": "9b0f2e29-548c-40b5-863f-2a4d921a1ab1"
      },
      "execution_count": 35,
      "outputs": [
        {
          "output_type": "stream",
          "name": "stdout",
          "text": [
            "Accuracy of logistic regression classifier on test set: 0.63\n"
          ]
        }
      ]
    },
    {
      "cell_type": "code",
      "source": [
        "# confusion matrix, the result is telling us that we have 147447+243253 correct predictions and 160524+64500 incorrect predictions.\n",
        "from sklearn.metrics import confusion_matrix\n",
        "confusion_matrix = confusion_matrix(y_test, y_pred)\n",
        "print(confusion_matrix)"
      ],
      "metadata": {
        "colab": {
          "base_uri": "https://localhost:8080/"
        },
        "id": "CHfYDkVThZ4H",
        "outputId": "c647674d-670d-4000-a284-23d91c06d8d7"
      },
      "execution_count": 36,
      "outputs": [
        {
          "output_type": "stream",
          "name": "stdout",
          "text": [
            "[[147447 160524]\n",
            " [ 64500 243253]]\n"
          ]
        }
      ]
    },
    {
      "cell_type": "code",
      "source": [
        "# calculate metrics\n",
        "from sklearn.metrics import classification_report\n",
        "print(classification_report(y_test, y_pred))"
      ],
      "metadata": {
        "colab": {
          "base_uri": "https://localhost:8080/"
        },
        "id": "Izqw3DMzhbrw",
        "outputId": "2581c18a-4c46-46bf-a10c-d36f9acd160e"
      },
      "execution_count": 37,
      "outputs": [
        {
          "output_type": "stream",
          "name": "stdout",
          "text": [
            "              precision    recall  f1-score   support\n",
            "\n",
            "           0       0.70      0.48      0.57    307971\n",
            "           1       0.60      0.79      0.68    307753\n",
            "\n",
            "    accuracy                           0.63    615724\n",
            "   macro avg       0.65      0.63      0.63    615724\n",
            "weighted avg       0.65      0.63      0.63    615724\n",
            "\n"
          ]
        }
      ]
    },
    {
      "cell_type": "code",
      "source": [
        "# plot ROC curve\n",
        "from sklearn.metrics import roc_auc_score\n",
        "from sklearn.metrics import roc_curve\n",
        "logit_roc_auc = roc_auc_score(y_test, logreg.predict(X_test))\n",
        "fpr, tpr, thresholds = roc_curve(y_test, logreg.predict_proba(X_test)[:,1])\n",
        "plt.figure()\n",
        "plt.plot(fpr, tpr, label='Logistic Regression (area = %0.2f)' % logit_roc_auc)\n",
        "plt.plot([0, 1], [0, 1],'r--')\n",
        "plt.xlim([0.0, 1.0])\n",
        "plt.ylim([0.0, 1.05])\n",
        "plt.xlabel('False Positive Rate')\n",
        "plt.ylabel('True Positive Rate')\n",
        "plt.title('Receiver operating characteristic')\n",
        "plt.legend(loc=\"lower right\")\n",
        "plt.savefig('Log_ROC')\n",
        "plt.show()"
      ],
      "metadata": {
        "colab": {
          "base_uri": "https://localhost:8080/",
          "height": 301
        },
        "id": "0--FUvmRhdXL",
        "outputId": "d1c8f164-7976-40af-a5d3-09fa51931dba"
      },
      "execution_count": 38,
      "outputs": [
        {
          "output_type": "display_data",
          "data": {
            "text/plain": [
              "<Figure size 432x288 with 1 Axes>"
            ],
            "image/png": "[encoded data removed]"
          },
          "metadata": {
            "needs_background": "light"
          }
        }
      ]
    }
  ]
}